{
 "cells": [
  {
   "cell_type": "markdown",
   "metadata": {},
   "source": [
    "### Read data"
   ]
  },
  {
   "cell_type": "code",
   "execution_count": 1,
   "metadata": {},
   "outputs": [],
   "source": [
    "import os\n",
    "\n",
    "import pandas as pd\n",
    "import numpy as np\n",
    "\n",
    "pd.options.mode.chained_assignment = None \n",
    "\n",
    "DATASET_PATH = \"finalDatasetSmall/\"\n",
    "RND_SEED = 123"
   ]
  },
  {
   "cell_type": "code",
   "execution_count": 2,
   "metadata": {},
   "outputs": [],
   "source": [
    "files_parquet = [os.path.join(DATASET_PATH, f) for f in os.listdir(DATASET_PATH) if f.endswith(\"parquet\")]\n",
    "\n",
    "NOTEXT_COL = ['contentAudioEmbedding', 'contentEmbedding'] #, 'AUTOTAG_max_proba_sum', 'AUTOTAG_most_frequent', 'AUTOTAG_top_50_precentage_frames',]\n",
    "TARGET_COL = ['clipTarget']"
   ]
  },
  {
   "cell_type": "markdown",
   "metadata": {},
   "source": [
    "### Filter samples with not None 'asr' column"
   ]
  },
  {
   "cell_type": "code",
   "execution_count": 3,
   "metadata": {},
   "outputs": [],
   "source": [
    "df_notna_asr = None \n",
    "\n",
    "for file in files_parquet:\n",
    "    df = pd.read_parquet(file, engine='pyarrow', use_pandas_metadata=True)\n",
    "\n",
    "    df_filter = df[df['asr'].notna()]\n",
    "    \n",
    "    df_filter['asr'].astype('str')\n",
    "    df_filter = df_filter[df_filter['asr'].apply(len) > 0]\n",
    "\n",
    "    if df_notna_asr is None:\n",
    "        df_notna_asr = df_filter\n",
    "    else:\n",
    "        df_notna_asr = pd.concat([df_notna_asr, df_filter], ignore_index=True) \n"
   ]
  },
  {
   "cell_type": "code",
   "execution_count": 4,
   "metadata": {},
   "outputs": [
    {
     "data": {
      "text/html": [
       "<div>\n",
       "<style scoped>\n",
       "    .dataframe tbody tr th:only-of-type {\n",
       "        vertical-align: middle;\n",
       "    }\n",
       "\n",
       "    .dataframe tbody tr th {\n",
       "        vertical-align: top;\n",
       "    }\n",
       "\n",
       "    .dataframe thead th {\n",
       "        text-align: right;\n",
       "    }\n",
       "</style>\n",
       "<table border=\"1\" class=\"dataframe\">\n",
       "  <thead>\n",
       "    <tr style=\"text-align: right;\">\n",
       "      <th></th>\n",
       "      <th>clipTarget</th>\n",
       "      <th>clip_id</th>\n",
       "      <th>owner_id</th>\n",
       "      <th>clipContentCategory</th>\n",
       "      <th>date</th>\n",
       "      <th>contentAudioEmbedding</th>\n",
       "      <th>contentEmbedding</th>\n",
       "      <th>AUTOTAG_max_proba_sum</th>\n",
       "      <th>AUTOTAG_most_frequent</th>\n",
       "      <th>AUTOTAG_top_50_precentage_frames</th>\n",
       "      <th>description</th>\n",
       "      <th>asr</th>\n",
       "      <th>confidence_asr</th>\n",
       "    </tr>\n",
       "  </thead>\n",
       "  <tbody>\n",
       "    <tr>\n",
       "      <th>0</th>\n",
       "      <td>HUMOR</td>\n",
       "      <td>-1093669790</td>\n",
       "      <td>1378576889</td>\n",
       "      <td>SKETCH</td>\n",
       "      <td>2022-04-07</td>\n",
       "      <td>[-0.10218705, -0.05655528, 0.061748616, 0.0521...</td>\n",
       "      <td>[0.06860607, -0.022857098, -0.016256863, -0.03...</td>\n",
       "      <td>[(Dance, 3.391113), (Food, 0.4365595), (Vehicl...</td>\n",
       "      <td>[(Dance, 6), (Food, 5), (Piano, 2), (Medicine,...</td>\n",
       "      <td>[(Dance, 0.7021045), (Food, 0.105717575)]</td>\n",
       "      <td>Как доктора готовятся к операции</td>\n",
       "      <td>Как ты думаешь, в наши луки обосрут в коментар...</td>\n",
       "      <td>0.302493</td>\n",
       "    </tr>\n",
       "    <tr>\n",
       "      <th>1</th>\n",
       "      <td>HUMOR</td>\n",
       "      <td>1743390480</td>\n",
       "      <td>-1270068438</td>\n",
       "      <td>HUMOR</td>\n",
       "      <td>2022-04-07</td>\n",
       "      <td>[-0.04119603, -0.061682414, 0.11025277, 0.0997...</td>\n",
       "      <td>[0.04931164, 0.028182184, -0.019459218, -0.090...</td>\n",
       "      <td>[(Comedy (drama), 2.00110378), (Food, 1.913095...</td>\n",
       "      <td>[(Food, 10), (Vehicle, 5), (Comedy (drama), 5)...</td>\n",
       "      <td>[(Food, 0.2490635), (Comedy (drama), 0.3335172...</td>\n",
       "      <td>None</td>\n",
       "      <td>Всегда удается быть такой веселый такой радост...</td>\n",
       "      <td>0.325571</td>\n",
       "    </tr>\n",
       "    <tr>\n",
       "      <th>2</th>\n",
       "      <td>HUMOR</td>\n",
       "      <td>330535439</td>\n",
       "      <td>813803967</td>\n",
       "      <td>SKETCH</td>\n",
       "      <td>2022-04-06</td>\n",
       "      <td>[-0.060104296, -0.11440997, 0.103849456, 0.048...</td>\n",
       "      <td>[-0.00169699, 0.026697062, -0.018162291, -0.01...</td>\n",
       "      <td>[(Food, 6.555504999999999), (Fast food, 5.4205...</td>\n",
       "      <td>[(Food, 7), (Fast food, 7), (Hot dog, 2), (San...</td>\n",
       "      <td>[(Food, 0.98101575), (Fast food, 0.902584), (H...</td>\n",
       "      <td>None</td>\n",
       "      <td>Все еще раз, когда вам будут говорить, что ты ...</td>\n",
       "      <td>0.483258</td>\n",
       "    </tr>\n",
       "    <tr>\n",
       "      <th>3</th>\n",
       "      <td>HUMOR</td>\n",
       "      <td>-1743911914</td>\n",
       "      <td>-1670420952</td>\n",
       "      <td>HUMOR</td>\n",
       "      <td>2022-04-05</td>\n",
       "      <td>[-0.035930738, 0.05011535, 0.09922745, 0.12816...</td>\n",
       "      <td>[0.003933215, -0.01229575, -0.015865909, -0.03...</td>\n",
       "      <td>[(Vehicle, 2.6043222999999998), (Comedy (drama...</td>\n",
       "      <td>[(Vehicle, 5), (Car, 4), (Comedy (drama), 3), ...</td>\n",
       "      <td>[(Disc jockey, 0.1566126), (Vehicle, 0.5208644...</td>\n",
       "      <td>None</td>\n",
       "      <td>У меня есть двести рублей. Посоветуйте в какой...</td>\n",
       "      <td>0.290076</td>\n",
       "    </tr>\n",
       "    <tr>\n",
       "      <th>4</th>\n",
       "      <td>HUMOR</td>\n",
       "      <td>-2040128537</td>\n",
       "      <td>1370100119</td>\n",
       "      <td>HUMOR</td>\n",
       "      <td>2022-04-06</td>\n",
       "      <td>[-0.1138568, -0.16440803, 0.16629857, 0.038701...</td>\n",
       "      <td>[0.020344917, 0.038545176, -0.026539112, -0.00...</td>\n",
       "      <td>[(Vehicle, 1.65462922), (Car, 1.5593774), (Mac...</td>\n",
       "      <td>[(Vehicle, 10), (Car, 7), (Door, 4), (Machine,...</td>\n",
       "      <td>[(Car, 0.2227682), (Machine, 0.124744714285714...</td>\n",
       "      <td>Рабочие будни монтажников 😂 #скс #монтаж #слаб...</td>\n",
       "      <td>Смотри, значит задача сделать что-то непонятно...</td>\n",
       "      <td>0.315676</td>\n",
       "    </tr>\n",
       "  </tbody>\n",
       "</table>\n",
       "</div>"
      ],
      "text/plain": [
       "  clipTarget     clip_id    owner_id clipContentCategory        date  \\\n",
       "0      HUMOR -1093669790  1378576889              SKETCH  2022-04-07   \n",
       "1      HUMOR  1743390480 -1270068438               HUMOR  2022-04-07   \n",
       "2      HUMOR   330535439   813803967              SKETCH  2022-04-06   \n",
       "3      HUMOR -1743911914 -1670420952               HUMOR  2022-04-05   \n",
       "4      HUMOR -2040128537  1370100119               HUMOR  2022-04-06   \n",
       "\n",
       "                               contentAudioEmbedding  \\\n",
       "0  [-0.10218705, -0.05655528, 0.061748616, 0.0521...   \n",
       "1  [-0.04119603, -0.061682414, 0.11025277, 0.0997...   \n",
       "2  [-0.060104296, -0.11440997, 0.103849456, 0.048...   \n",
       "3  [-0.035930738, 0.05011535, 0.09922745, 0.12816...   \n",
       "4  [-0.1138568, -0.16440803, 0.16629857, 0.038701...   \n",
       "\n",
       "                                    contentEmbedding  \\\n",
       "0  [0.06860607, -0.022857098, -0.016256863, -0.03...   \n",
       "1  [0.04931164, 0.028182184, -0.019459218, -0.090...   \n",
       "2  [-0.00169699, 0.026697062, -0.018162291, -0.01...   \n",
       "3  [0.003933215, -0.01229575, -0.015865909, -0.03...   \n",
       "4  [0.020344917, 0.038545176, -0.026539112, -0.00...   \n",
       "\n",
       "                               AUTOTAG_max_proba_sum  \\\n",
       "0  [(Dance, 3.391113), (Food, 0.4365595), (Vehicl...   \n",
       "1  [(Comedy (drama), 2.00110378), (Food, 1.913095...   \n",
       "2  [(Food, 6.555504999999999), (Fast food, 5.4205...   \n",
       "3  [(Vehicle, 2.6043222999999998), (Comedy (drama...   \n",
       "4  [(Vehicle, 1.65462922), (Car, 1.5593774), (Mac...   \n",
       "\n",
       "                               AUTOTAG_most_frequent  \\\n",
       "0  [(Dance, 6), (Food, 5), (Piano, 2), (Medicine,...   \n",
       "1  [(Food, 10), (Vehicle, 5), (Comedy (drama), 5)...   \n",
       "2  [(Food, 7), (Fast food, 7), (Hot dog, 2), (San...   \n",
       "3  [(Vehicle, 5), (Car, 4), (Comedy (drama), 3), ...   \n",
       "4  [(Vehicle, 10), (Car, 7), (Door, 4), (Machine,...   \n",
       "\n",
       "                    AUTOTAG_top_50_precentage_frames  \\\n",
       "0          [(Dance, 0.7021045), (Food, 0.105717575)]   \n",
       "1  [(Food, 0.2490635), (Comedy (drama), 0.3335172...   \n",
       "2  [(Food, 0.98101575), (Fast food, 0.902584), (H...   \n",
       "3  [(Disc jockey, 0.1566126), (Vehicle, 0.5208644...   \n",
       "4  [(Car, 0.2227682), (Machine, 0.124744714285714...   \n",
       "\n",
       "                                         description  \\\n",
       "0                   Как доктора готовятся к операции   \n",
       "1                                               None   \n",
       "2                                               None   \n",
       "3                                               None   \n",
       "4  Рабочие будни монтажников 😂 #скс #монтаж #слаб...   \n",
       "\n",
       "                                                 asr  confidence_asr  \n",
       "0  Как ты думаешь, в наши луки обосрут в коментар...        0.302493  \n",
       "1  Всегда удается быть такой веселый такой радост...        0.325571  \n",
       "2  Все еще раз, когда вам будут говорить, что ты ...        0.483258  \n",
       "3  У меня есть двести рублей. Посоветуйте в какой...        0.290076  \n",
       "4  Смотри, значит задача сделать что-то непонятно...        0.315676  "
      ]
     },
     "execution_count": 4,
     "metadata": {},
     "output_type": "execute_result"
    }
   ],
   "source": [
    "df_notna_asr.head()"
   ]
  },
  {
   "cell_type": "code",
   "execution_count": 5,
   "metadata": {},
   "outputs": [
    {
     "data": {
      "text/html": [
       "<div>\n",
       "<style scoped>\n",
       "    .dataframe tbody tr th:only-of-type {\n",
       "        vertical-align: middle;\n",
       "    }\n",
       "\n",
       "    .dataframe tbody tr th {\n",
       "        vertical-align: top;\n",
       "    }\n",
       "\n",
       "    .dataframe thead th {\n",
       "        text-align: right;\n",
       "    }\n",
       "</style>\n",
       "<table border=\"1\" class=\"dataframe\">\n",
       "  <thead>\n",
       "    <tr style=\"text-align: right;\">\n",
       "      <th></th>\n",
       "      <th>clipTarget</th>\n",
       "      <th>clip_id</th>\n",
       "      <th>owner_id</th>\n",
       "      <th>clipContentCategory</th>\n",
       "      <th>date</th>\n",
       "      <th>contentAudioEmbedding</th>\n",
       "      <th>contentEmbedding</th>\n",
       "      <th>AUTOTAG_max_proba_sum</th>\n",
       "      <th>AUTOTAG_most_frequent</th>\n",
       "      <th>AUTOTAG_top_50_precentage_frames</th>\n",
       "      <th>description</th>\n",
       "      <th>asr</th>\n",
       "      <th>confidence_asr</th>\n",
       "    </tr>\n",
       "  </thead>\n",
       "  <tbody>\n",
       "    <tr>\n",
       "      <th>7493</th>\n",
       "      <td>FITNESS</td>\n",
       "      <td>-537303616</td>\n",
       "      <td>1450712361</td>\n",
       "      <td>FITNESS</td>\n",
       "      <td>2022-07-07</td>\n",
       "      <td>[0.047294408, -0.019974021, -0.018716522, 0.14...</td>\n",
       "      <td>[0.0025180478, -0.054577067, -0.013505889, -0....</td>\n",
       "      <td>[(Comedy (drama), 2.1824209999999997), (Call o...</td>\n",
       "      <td>[(Call of Duty: Black Ops, 3), (Call of Duty, ...</td>\n",
       "      <td>[(Call of Duty: Black Ops, 0.18754942499999996...</td>\n",
       "      <td>None</td>\n",
       "      <td>А как когда я буду ходить? Я все время не хочу.</td>\n",
       "      <td>0.144689</td>\n",
       "    </tr>\n",
       "    <tr>\n",
       "      <th>7494</th>\n",
       "      <td>CULTURE</td>\n",
       "      <td>1164567667</td>\n",
       "      <td>-1860542668</td>\n",
       "      <td>MUSEUMS</td>\n",
       "      <td>2022-04-06</td>\n",
       "      <td>[-0.0977943, -0.122427955, 0.08441598, 0.03043...</td>\n",
       "      <td>[0.07280305, 0.03546749, -0.01102451, -0.00072...</td>\n",
       "      <td>[(Vehicle, 21.15178934), (Car, 11.2109909), (B...</td>\n",
       "      <td>[(Vehicle, 44), (Car, 24), (Boat, 6), (Food, 5...</td>\n",
       "      <td>[(Vehicle, 0.7034448571428571), (Car, 0.400392...</td>\n",
       "      <td>None</td>\n",
       "      <td>На вднх в музее гараже особого назначения откр...</td>\n",
       "      <td>0.262092</td>\n",
       "    </tr>\n",
       "    <tr>\n",
       "      <th>7495</th>\n",
       "      <td>FITNESS</td>\n",
       "      <td>149160782</td>\n",
       "      <td>-262780233</td>\n",
       "      <td>FITNESS</td>\n",
       "      <td>2022-04-06</td>\n",
       "      <td>[0.19155526, -0.031394657, -0.16321, 0.0595440...</td>\n",
       "      <td>[0.025089046, 0.023934491, 0.003394355, 0.0246...</td>\n",
       "      <td>[(Dance, 3.2596924000000005), (Game, 0.7743228...</td>\n",
       "      <td>[(Dance, 14), (Game, 11), (Wood, 5), (Car, 4),...</td>\n",
       "      <td>[(Dance, 0.4339462)]</td>\n",
       "      <td>None</td>\n",
       "      <td>Где без ума от них глаза поделена, а наших дне...</td>\n",
       "      <td>0.102449</td>\n",
       "    </tr>\n",
       "    <tr>\n",
       "      <th>7496</th>\n",
       "      <td>FITNESS</td>\n",
       "      <td>-1527642861</td>\n",
       "      <td>486995593</td>\n",
       "      <td>FITNESS</td>\n",
       "      <td>2022-04-06</td>\n",
       "      <td>[-0.041339368, -0.11627674, 0.18998694, 0.0192...</td>\n",
       "      <td>[0.05042483, 0.013503395, -0.001136759, -0.028...</td>\n",
       "      <td>[(Swimming pool, 2.4570067200000003), (Pilates...</td>\n",
       "      <td>[(Swimming pool, 24), (Vehicle, 19), (Car, 14)...</td>\n",
       "      <td>[]</td>\n",
       "      <td>None</td>\n",
       "      <td>У нас подушка, то мы ее зарываемся в колено зо...</td>\n",
       "      <td>0.193938</td>\n",
       "    </tr>\n",
       "    <tr>\n",
       "      <th>7497</th>\n",
       "      <td>FITNESS</td>\n",
       "      <td>-1268309228</td>\n",
       "      <td>-1328452904</td>\n",
       "      <td>FITNESS</td>\n",
       "      <td>2022-04-05</td>\n",
       "      <td>[-0.05681243, -0.022348536, 0.10629957, 0.0180...</td>\n",
       "      <td>[0.013558937, 0.008335423, -0.010726726, -0.02...</td>\n",
       "      <td>[(Hair, 10.19681823), (Food, 2.51955188), (Bra...</td>\n",
       "      <td>[(Hair, 52), (Food, 36), (Braid, 17), (Recipe,...</td>\n",
       "      <td>[(Hair, 0.3377962142857143)]</td>\n",
       "      <td>☝🏻Спорт без питания невозможен, тогда как пита...</td>\n",
       "      <td>Красивое и здоровое тело. Это спорт и питание,...</td>\n",
       "      <td>0.410034</td>\n",
       "    </tr>\n",
       "  </tbody>\n",
       "</table>\n",
       "</div>"
      ],
      "text/plain": [
       "     clipTarget     clip_id    owner_id clipContentCategory        date  \\\n",
       "7493    FITNESS  -537303616  1450712361             FITNESS  2022-07-07   \n",
       "7494    CULTURE  1164567667 -1860542668             MUSEUMS  2022-04-06   \n",
       "7495    FITNESS   149160782  -262780233             FITNESS  2022-04-06   \n",
       "7496    FITNESS -1527642861   486995593             FITNESS  2022-04-06   \n",
       "7497    FITNESS -1268309228 -1328452904             FITNESS  2022-04-05   \n",
       "\n",
       "                                  contentAudioEmbedding  \\\n",
       "7493  [0.047294408, -0.019974021, -0.018716522, 0.14...   \n",
       "7494  [-0.0977943, -0.122427955, 0.08441598, 0.03043...   \n",
       "7495  [0.19155526, -0.031394657, -0.16321, 0.0595440...   \n",
       "7496  [-0.041339368, -0.11627674, 0.18998694, 0.0192...   \n",
       "7497  [-0.05681243, -0.022348536, 0.10629957, 0.0180...   \n",
       "\n",
       "                                       contentEmbedding  \\\n",
       "7493  [0.0025180478, -0.054577067, -0.013505889, -0....   \n",
       "7494  [0.07280305, 0.03546749, -0.01102451, -0.00072...   \n",
       "7495  [0.025089046, 0.023934491, 0.003394355, 0.0246...   \n",
       "7496  [0.05042483, 0.013503395, -0.001136759, -0.028...   \n",
       "7497  [0.013558937, 0.008335423, -0.010726726, -0.02...   \n",
       "\n",
       "                                  AUTOTAG_max_proba_sum  \\\n",
       "7493  [(Comedy (drama), 2.1824209999999997), (Call o...   \n",
       "7494  [(Vehicle, 21.15178934), (Car, 11.2109909), (B...   \n",
       "7495  [(Dance, 3.2596924000000005), (Game, 0.7743228...   \n",
       "7496  [(Swimming pool, 2.4570067200000003), (Pilates...   \n",
       "7497  [(Hair, 10.19681823), (Food, 2.51955188), (Bra...   \n",
       "\n",
       "                                  AUTOTAG_most_frequent  \\\n",
       "7493  [(Call of Duty: Black Ops, 3), (Call of Duty, ...   \n",
       "7494  [(Vehicle, 44), (Car, 24), (Boat, 6), (Food, 5...   \n",
       "7495  [(Dance, 14), (Game, 11), (Wood, 5), (Car, 4),...   \n",
       "7496  [(Swimming pool, 24), (Vehicle, 19), (Car, 14)...   \n",
       "7497  [(Hair, 52), (Food, 36), (Braid, 17), (Recipe,...   \n",
       "\n",
       "                       AUTOTAG_top_50_precentage_frames  \\\n",
       "7493  [(Call of Duty: Black Ops, 0.18754942499999996...   \n",
       "7494  [(Vehicle, 0.7034448571428571), (Car, 0.400392...   \n",
       "7495                               [(Dance, 0.4339462)]   \n",
       "7496                                                 []   \n",
       "7497                       [(Hair, 0.3377962142857143)]   \n",
       "\n",
       "                                            description  \\\n",
       "7493                                               None   \n",
       "7494                                               None   \n",
       "7495                                               None   \n",
       "7496                                               None   \n",
       "7497  ☝🏻Спорт без питания невозможен, тогда как пита...   \n",
       "\n",
       "                                                    asr  confidence_asr  \n",
       "7493    А как когда я буду ходить? Я все время не хочу.        0.144689  \n",
       "7494  На вднх в музее гараже особого назначения откр...        0.262092  \n",
       "7495  Где без ума от них глаза поделена, а наших дне...        0.102449  \n",
       "7496  У нас подушка, то мы ее зарываемся в колено зо...        0.193938  \n",
       "7497  Красивое и здоровое тело. Это спорт и питание,...        0.410034  "
      ]
     },
     "execution_count": 5,
     "metadata": {},
     "output_type": "execute_result"
    }
   ],
   "source": [
    "df_notna_asr.tail()"
   ]
  },
  {
   "cell_type": "markdown",
   "metadata": {},
   "source": [
    "##### Select classes `clipContentCategory` with at least 20 objects for better train/test/validation."
   ]
  },
  {
   "cell_type": "code",
   "execution_count": 6,
   "metadata": {},
   "outputs": [
    {
     "data": {
      "text/plain": [
       "7370"
      ]
     },
     "execution_count": 6,
     "metadata": {},
     "output_type": "execute_result"
    }
   ],
   "source": [
    "df_notna_asr = df_notna_asr.groupby('clipTarget').filter(lambda x : len(x) >= 20)\n",
    "len(df_notna_asr)"
   ]
  },
  {
   "cell_type": "code",
   "execution_count": 7,
   "metadata": {},
   "outputs": [
    {
     "name": "stdout",
     "output_type": "stream",
     "text": [
      "['HUMOR' 'POSING' 'MYSTIC' 'BLOG' 'ANIMALS' 'QUIZ' 'LEISURE' 'MOVIES'\n",
      " 'LIP_SYNC' 'HEALTH' 'FOREIGN_LANGUAGES' 'CULTURE' 'FITNESS' 'KIDS'\n",
      " 'DRAWING' 'NEWS' 'FASHION' 'EFFECTS' 'FINANCE' 'SCIENCE' 'SOCIAL'\n",
      " 'HANDMADE' 'VEHICLES' 'DANCE' 'MUSIC' 'FAMILY' 'EDUCATION' 'LIFEHACK'\n",
      " 'FOOD' 'SPORT' 'GAMES' 'TECHNOLOGY' 'TRAVEL' 'CREATION' 'RELATIONS'\n",
      " 'REVIEW' 'BUSINESS' 'BEAUTY' 'NATURE']\n"
     ]
    }
   ],
   "source": [
    "classes = df_notna_asr['clipTarget'].unique()\n",
    "print(classes)"
   ]
  },
  {
   "cell_type": "markdown",
   "metadata": {},
   "source": [
    "##### Concatenate 'contentAudioEmbedding' and 'contentEmbedding' in one vector"
   ]
  },
  {
   "cell_type": "code",
   "execution_count": 8,
   "metadata": {},
   "outputs": [],
   "source": [
    "df_notna_asr['default_emb'] = df_notna_asr[['contentAudioEmbedding', 'contentEmbedding']].apply(lambda x:  np.concatenate((x[0], x[1])), axis=1)"
   ]
  },
  {
   "cell_type": "code",
   "execution_count": 9,
   "metadata": {},
   "outputs": [
    {
     "name": "stdout",
     "output_type": "stream",
     "text": [
      "Length of total concatenate embedding = 1152\n"
     ]
    }
   ],
   "source": [
    "print(f\"Length of total concatenate embedding = {len(df_notna_asr['default_emb'].iloc[0])}\")"
   ]
  },
  {
   "cell_type": "markdown",
   "metadata": {},
   "source": [
    "### Base clf without text features: Classic ML"
   ]
  },
  {
   "cell_type": "code",
   "execution_count": 10,
   "metadata": {},
   "outputs": [],
   "source": [
    "from sklearn.model_selection import train_test_split\n",
    "from sklearn.preprocessing import LabelEncoder\n",
    "from sklearn.metrics import accuracy_score, classification_report\n",
    "from collections import Counter\n",
    "from matplotlib import pyplot"
   ]
  },
  {
   "cell_type": "markdown",
   "metadata": {},
   "source": [
    "Train/test split"
   ]
  },
  {
   "cell_type": "code",
   "execution_count": 11,
   "metadata": {},
   "outputs": [
    {
     "name": "stderr",
     "output_type": "stream",
     "text": [
      "/Users/minakovaa/VSCodeProjects/venv-vscode/lib/python3.7/site-packages/sklearn/preprocessing/label.py:219: DataConversionWarning: A column-vector y was passed when a 1d array was expected. Please change the shape of y to (n_samples, ), for example using ravel().\n",
      "  y = column_or_1d(y, warn=True)\n",
      "/Users/minakovaa/VSCodeProjects/venv-vscode/lib/python3.7/site-packages/sklearn/preprocessing/label.py:252: DataConversionWarning: A column-vector y was passed when a 1d array was expected. Please change the shape of y to (n_samples, ), for example using ravel().\n",
      "  y = column_or_1d(y, warn=True)\n"
     ]
    }
   ],
   "source": [
    "y = df_notna_asr[TARGET_COL] \n",
    "target_encoder = LabelEncoder().fit(y)\n",
    "y = target_encoder.transform(y)\n",
    "\n",
    "X = np.stack(df_notna_asr['default_emb'])\n",
    "\n",
    "X_train, X_test, y_train, y_test = train_test_split(X, y, test_size=0.2, random_state=RND_SEED)\n",
    "X_test, X_val, y_test, y_val = train_test_split(X_test, y_test, test_size=0.5, random_state=RND_SEED)"
   ]
  },
  {
   "cell_type": "code",
   "execution_count": 12,
   "metadata": {},
   "outputs": [
    {
     "data": {
      "image/png": "[encoded data removed]",
      "text/plain": [
       "<Figure size 432x288 with 1 Axes>"
      ]
     },
     "metadata": {
      "needs_background": "light"
     },
     "output_type": "display_data"
    }
   ],
   "source": [
    "counter = Counter(y)\n",
    "for k, v in counter.items():\n",
    "\tper = v / len(y) * 100\n",
    "\t# print('Class=%d, n=%d (%.3f%%)' % (k, v, per))\n",
    "\n",
    "pyplot.bar(counter.keys(), counter.values())\n",
    "pyplot.show()"
   ]
  },
  {
   "cell_type": "markdown",
   "metadata": {},
   "source": [
    "Train logistic regression"
   ]
  },
  {
   "cell_type": "code",
   "execution_count": 13,
   "metadata": {},
   "outputs": [],
   "source": [
    "from collections import defaultdict\n",
    "acc_score_all = defaultdict(list)"
   ]
  },
  {
   "cell_type": "code",
   "execution_count": 14,
   "metadata": {},
   "outputs": [
    {
     "name": "stdout",
     "output_type": "stream",
     "text": [
      "C = 0.1 acc_score = 0.2876526458616011\n",
      "C = 0.14677992676220694 acc_score = 0.30800542740841247\n",
      "C = 0.21544346900318834 acc_score = 0.3378561736770692\n",
      "C = 0.31622776601683794 acc_score = 0.3487109905020353\n",
      "C = 0.46415888336127786 acc_score = 0.373134328358209\n",
      "C = 0.6812920690579611 acc_score = 0.38670284938941657\n",
      "C = 1.0 acc_score = 0.38670284938941657\n"
     ]
    }
   ],
   "source": [
    "from sklearn.linear_model import LogisticRegression\n",
    "\n",
    "best_lr_clf = None\n",
    "best_score = 0.\n",
    "\n",
    "for C in np.logspace(-1,0,7):\n",
    "    lr_clf = LogisticRegression(\n",
    "        random_state=RND_SEED, \n",
    "        solver='lbfgs', \n",
    "        multi_class='multinomial',\n",
    "        class_weight='balanced',\n",
    "        C=C,\n",
    "        ).fit(X_train, y_train) \n",
    "\n",
    "    acc_score = lr_clf.score(X_val, y_val)\n",
    "    print(f\"C = {C} acc_score = {acc_score}\")\n",
    "\n",
    "    acc_score_all['LogisticRegression'].append(acc_score)\n",
    "\n",
    "    if best_score < acc_score:\n",
    "        best_lr_clf = lr_clf\n",
    "        best_score = acc_score"
   ]
  },
  {
   "cell_type": "code",
   "execution_count": 15,
   "metadata": {},
   "outputs": [
    {
     "data": {
      "text/plain": [
       "(LogisticRegression(C=0.6812920690579611, class_weight='balanced', dual=False,\n",
       "                    fit_intercept=True, intercept_scaling=1, l1_ratio=None,\n",
       "                    max_iter=100, multi_class='multinomial', n_jobs=None,\n",
       "                    penalty='l2', random_state=123, solver='lbfgs', tol=0.0001,\n",
       "                    verbose=0, warm_start=False),\n",
       " 0.41655359565807326)"
      ]
     },
     "execution_count": 15,
     "metadata": {},
     "output_type": "execute_result"
    }
   ],
   "source": [
    "best_lr_clf, best_lr_clf.score(X_test, y_test)"
   ]
  },
  {
   "cell_type": "code",
   "execution_count": 16,
   "metadata": {},
   "outputs": [
    {
     "name": "stdout",
     "output_type": "stream",
     "text": [
      "              precision    recall  f1-score   support\n",
      "\n",
      "           0       0.82      0.75      0.78        36\n",
      "           1       0.64      0.53      0.58        40\n",
      "           2       0.31      0.08      0.12        64\n",
      "           3       0.00      0.00      0.00         6\n",
      "           4       0.00      0.00      0.00        11\n",
      "           5       0.12      0.09      0.11        11\n",
      "           6       0.16      0.50      0.24         6\n",
      "           7       0.11      0.25      0.15         4\n",
      "           8       0.35      0.29      0.32        21\n",
      "           9       0.20      0.25      0.22         4\n",
      "          10       0.00      0.00      0.00         5\n",
      "          11       0.28      0.50      0.36        10\n",
      "          12       0.11      0.50      0.17         4\n",
      "          13       0.54      0.64      0.58        11\n",
      "          14       0.90      0.88      0.89        42\n",
      "          15       0.14      0.71      0.24         7\n",
      "          16       0.14      0.50      0.22         2\n",
      "          17       0.27      0.30      0.29        10\n",
      "          18       0.47      0.35      0.40        52\n",
      "          19       0.49      0.32      0.39       125\n",
      "          20       0.33      0.65      0.44        20\n",
      "          21       0.00      0.00      0.00         3\n",
      "          22       0.11      0.20      0.14        10\n",
      "          23       0.42      0.33      0.37        60\n",
      "          24       0.00      0.00      0.00         7\n",
      "          25       0.27      0.36      0.31        11\n",
      "          26       0.00      0.00      0.00         2\n",
      "          27       0.54      0.75      0.63        20\n",
      "          28       0.25      0.33      0.29         3\n",
      "          29       0.57      0.37      0.45        46\n",
      "          30       0.00      0.00      0.00         1\n",
      "          31       0.11      0.25      0.15         4\n",
      "          32       0.30      0.32      0.31        19\n",
      "          33       0.07      0.33      0.12         3\n",
      "          34       0.15      0.27      0.20        15\n",
      "          35       0.47      0.41      0.44        22\n",
      "          36       0.57      0.44      0.50         9\n",
      "          37       0.00      0.00      0.00         2\n",
      "          38       0.45      0.56      0.50         9\n",
      "\n",
      "    accuracy                           0.39       737\n",
      "   macro avg       0.27      0.33      0.28       737\n",
      "weighted avg       0.44      0.39      0.39       737\n",
      "\n"
     ]
    }
   ],
   "source": [
    "y_pred = best_lr_clf.predict(X_val)\n",
    "print(classification_report(y_pred=y_pred, y_true=y_val))"
   ]
  },
  {
   "cell_type": "markdown",
   "metadata": {},
   "source": [
    "Train LinearSVC"
   ]
  },
  {
   "cell_type": "code",
   "execution_count": 17,
   "metadata": {},
   "outputs": [
    {
     "name": "stdout",
     "output_type": "stream",
     "text": [
      "C = 0.001 acc_score = 0.3880597014925373\n",
      "C = 0.01 acc_score = 0.3880597014925373\n",
      "C = 0.1 acc_score = 0.3880597014925373\n",
      "C = 1.0 acc_score = 0.3880597014925373\n",
      "C = 10.0 acc_score = 0.3880597014925373\n",
      "C = 100.0 acc_score = 0.3880597014925373\n",
      "C = 1000.0 acc_score = 0.3880597014925373\n"
     ]
    }
   ],
   "source": [
    "from sklearn.svm import LinearSVC\n",
    "\n",
    "best_svc_clf = None\n",
    "best_score = 0.\n",
    "\n",
    "for C in np.logspace(-3,3,7):\n",
    "    svc_clf = LinearSVC(\n",
    "        random_state=RND_SEED, \n",
    "        multi_class='ovr',\n",
    "        class_weight='balanced',\n",
    "        ).fit(X_train, y_train) \n",
    "\n",
    "    acc_score = svc_clf.score(X_val, y_val)\n",
    "    print(f\"C = {C} acc_score = {acc_score}\")\n",
    "\n",
    "    acc_score_all['LinearSVC'].append(acc_score)\n",
    "\n",
    "\n",
    "    if best_score < acc_score:\n",
    "        best_svc_clf = svc_clf\n",
    "        best_score = acc_score"
   ]
  },
  {
   "cell_type": "code",
   "execution_count": 18,
   "metadata": {},
   "outputs": [
    {
     "data": {
      "text/plain": [
       "(LinearSVC(C=1.0, class_weight='balanced', dual=True, fit_intercept=True,\n",
       "           intercept_scaling=1, loss='squared_hinge', max_iter=1000,\n",
       "           multi_class='ovr', penalty='l2', random_state=123, tol=0.0001,\n",
       "           verbose=0),\n",
       " 0.43283582089552236)"
      ]
     },
     "execution_count": 18,
     "metadata": {},
     "output_type": "execute_result"
    }
   ],
   "source": [
    "best_svc_clf, best_svc_clf.score(X_test, y_test)"
   ]
  },
  {
   "cell_type": "code",
   "execution_count": 19,
   "metadata": {},
   "outputs": [
    {
     "name": "stdout",
     "output_type": "stream",
     "text": [
      "              precision    recall  f1-score   support\n",
      "\n",
      "           0       0.76      0.78      0.77        36\n",
      "           1       0.56      0.60      0.58        40\n",
      "           2       0.21      0.11      0.14        64\n",
      "           3       0.00      0.00      0.00         6\n",
      "           4       0.23      0.27      0.25        11\n",
      "           5       0.40      0.36      0.38        11\n",
      "           6       0.18      0.33      0.24         6\n",
      "           7       0.00      0.00      0.00         4\n",
      "           8       0.14      0.14      0.14        21\n",
      "           9       0.00      0.00      0.00         4\n",
      "          10       0.00      0.00      0.00         5\n",
      "          11       0.44      0.80      0.57        10\n",
      "          12       0.22      0.50      0.31         4\n",
      "          13       0.45      0.45      0.45        11\n",
      "          14       0.79      0.90      0.84        42\n",
      "          15       0.19      0.57      0.29         7\n",
      "          16       0.25      0.50      0.33         2\n",
      "          17       0.11      0.10      0.11        10\n",
      "          18       0.46      0.50      0.48        52\n",
      "          19       0.47      0.32      0.38       125\n",
      "          20       0.26      0.50      0.34        20\n",
      "          21       0.00      0.00      0.00         3\n",
      "          22       0.22      0.20      0.21        10\n",
      "          23       0.33      0.25      0.29        60\n",
      "          24       0.00      0.00      0.00         7\n",
      "          25       0.27      0.36      0.31        11\n",
      "          26       0.00      0.00      0.00         2\n",
      "          27       0.52      0.65      0.58        20\n",
      "          28       0.00      0.00      0.00         3\n",
      "          29       0.45      0.39      0.42        46\n",
      "          30       0.00      0.00      0.00         1\n",
      "          31       0.00      0.00      0.00         4\n",
      "          32       0.26      0.32      0.29        19\n",
      "          33       0.17      0.33      0.22         3\n",
      "          34       0.28      0.33      0.30        15\n",
      "          35       0.38      0.41      0.39        22\n",
      "          36       0.29      0.22      0.25         9\n",
      "          37       0.00      0.00      0.00         2\n",
      "          38       0.45      0.56      0.50         9\n",
      "\n",
      "    accuracy                           0.39       737\n",
      "   macro avg       0.25      0.30      0.27       737\n",
      "weighted avg       0.39      0.39      0.38       737\n",
      "\n"
     ]
    }
   ],
   "source": [
    "y_pred = best_svc_clf.predict(X_val)\n",
    "print(classification_report(y_pred=y_pred, y_true=y_val))"
   ]
  },
  {
   "cell_type": "markdown",
   "metadata": {},
   "source": [
    "Train NN"
   ]
  },
  {
   "cell_type": "code",
   "execution_count": 20,
   "metadata": {},
   "outputs": [
    {
     "name": "stdout",
     "output_type": "stream",
     "text": [
      "lr = 0.001 batch_size = 256 acc_score = 0.44097693351424694\n",
      "lr = 0.001 batch_size = 512 acc_score = 0.44097693351424694\n",
      "lr = 0.001 batch_size = 1024 acc_score = 0.44097693351424694\n",
      "lr = 0.001 batch_size = 2048 acc_score = 0.44097693351424694\n",
      "lr = 0.003 batch_size = 256 acc_score = 0.4450474898236092\n",
      "lr = 0.003 batch_size = 512 acc_score = 0.4450474898236092\n",
      "lr = 0.003 batch_size = 1024 acc_score = 0.4450474898236092\n",
      "lr = 0.003 batch_size = 2048 acc_score = 0.4450474898236092\n",
      "lr = 0.0001 batch_size = 256 acc_score = 0.43012211668928085\n",
      "lr = 0.0001 batch_size = 512 acc_score = 0.43012211668928085\n",
      "lr = 0.0001 batch_size = 1024 acc_score = 0.43012211668928085\n",
      "lr = 0.0001 batch_size = 2048 acc_score = 0.43012211668928085\n",
      "lr = 0.0003 batch_size = 256 acc_score = 0.44776119402985076\n",
      "lr = 0.0003 batch_size = 512 acc_score = 0.44776119402985076\n",
      "lr = 0.0003 batch_size = 1024 acc_score = 0.44776119402985076\n",
      "lr = 0.0003 batch_size = 2048 acc_score = 0.44776119402985076\n",
      "lr = 1e-05 batch_size = 256 acc_score = 0.23202170963364993\n",
      "lr = 1e-05 batch_size = 512 acc_score = 0.23202170963364993\n",
      "lr = 1e-05 batch_size = 1024 acc_score = 0.23202170963364993\n",
      "lr = 1e-05 batch_size = 2048 acc_score = 0.23202170963364993\n",
      "lr = 3e-05 batch_size = 256 acc_score = 0.3677069199457259\n",
      "lr = 3e-05 batch_size = 512 acc_score = 0.3677069199457259\n",
      "lr = 3e-05 batch_size = 1024 acc_score = 0.3677069199457259\n",
      "lr = 3e-05 batch_size = 2048 acc_score = 0.3677069199457259\n",
      "lr = 1e-06 batch_size = 256 acc_score = 0.010854816824966078\n",
      "lr = 1e-06 batch_size = 512 acc_score = 0.010854816824966078\n",
      "lr = 1e-06 batch_size = 1024 acc_score = 0.010854816824966078\n",
      "lr = 1e-06 batch_size = 2048 acc_score = 0.010854816824966078\n",
      "lr = 3e-06 batch_size = 256 acc_score = 0.010854816824966078\n",
      "lr = 3e-06 batch_size = 512 acc_score = 0.010854816824966078\n",
      "lr = 3e-06 batch_size = 1024 acc_score = 0.010854816824966078\n",
      "lr = 3e-06 batch_size = 2048 acc_score = 0.010854816824966078\n"
     ]
    }
   ],
   "source": [
    "from sklearn.neural_network import MLPClassifier\n",
    "\n",
    "best_mlp_clf = None\n",
    "best_score = 0.\n",
    "\n",
    "for lr in [1e-3, 3e-3, 1e-4, 3e-4, 1e-5, 3e-5, 1e-6, 3e-6]:\n",
    "    for batch_size in [256, 512, 1024, 2048]:\n",
    "        mlp_clf = MLPClassifier(\n",
    "            hidden_layer_sizes=(100,),\n",
    "            learning_rate_init=lr,\n",
    "            activation='relu',\n",
    "            random_state=RND_SEED, \n",
    "            max_iter=500,\n",
    "            solver='adam',\n",
    "            early_stopping=True,\n",
    "            ).fit(X_train, y_train)\n",
    "\n",
    "        acc_score = mlp_clf.score(X_val, y_val)\n",
    "        print(f\"lr = {lr} batch_size = {batch_size} acc_score = {acc_score}\")\n",
    "    \n",
    "        acc_score_all['NN'].append(acc_score)\n",
    "\n",
    "\n",
    "        if best_score < acc_score:\n",
    "            best_mlp_clf = mlp_clf\n",
    "            best_score = acc_score\n"
   ]
  },
  {
   "cell_type": "code",
   "execution_count": 21,
   "metadata": {},
   "outputs": [
    {
     "data": {
      "text/plain": [
       "(MLPClassifier(activation='relu', alpha=0.0001, batch_size='auto', beta_1=0.9,\n",
       "               beta_2=0.999, early_stopping=True, epsilon=1e-08,\n",
       "               hidden_layer_sizes=(100,), learning_rate='constant',\n",
       "               learning_rate_init=0.0003, max_iter=500, momentum=0.9,\n",
       "               n_iter_no_change=10, nesterovs_momentum=True, power_t=0.5,\n",
       "               random_state=123, shuffle=True, solver='adam', tol=0.0001,\n",
       "               validation_fraction=0.1, verbose=False, warm_start=False),\n",
       " 0.44776119402985076)"
      ]
     },
     "execution_count": 21,
     "metadata": {},
     "output_type": "execute_result"
    }
   ],
   "source": [
    "best_mlp_clf, best_mlp_clf.score(X_val, y_val)"
   ]
  },
  {
   "cell_type": "code",
   "execution_count": 22,
   "metadata": {},
   "outputs": [
    {
     "name": "stdout",
     "output_type": "stream",
     "text": [
      "              precision    recall  f1-score   support\n",
      "\n",
      "           0       0.79      0.72      0.75        36\n",
      "           1       0.55      0.60      0.57        40\n",
      "           2       0.21      0.30      0.25        64\n",
      "           3       0.00      0.00      0.00         6\n",
      "           4       0.00      0.00      0.00        11\n",
      "           5       0.00      0.00      0.00        11\n",
      "           6       1.00      0.17      0.29         6\n",
      "           7       0.00      0.00      0.00         4\n",
      "           8       0.33      0.24      0.28        21\n",
      "           9       0.00      0.00      0.00         4\n",
      "          10       0.00      0.00      0.00         5\n",
      "          11       0.50      0.20      0.29        10\n",
      "          12       0.00      0.00      0.00         4\n",
      "          13       0.50      0.36      0.42        11\n",
      "          14       0.71      0.88      0.79        42\n",
      "          15       0.33      0.14      0.20         7\n",
      "          16       0.00      0.00      0.00         2\n",
      "          17       0.38      0.30      0.33        10\n",
      "          18       0.41      0.69      0.51        52\n",
      "          19       0.41      0.62      0.50       125\n",
      "          20       0.42      0.65      0.51        20\n",
      "          21       0.00      0.00      0.00         3\n",
      "          22       0.00      0.00      0.00        10\n",
      "          23       0.31      0.22      0.25        60\n",
      "          24       0.00      0.00      0.00         7\n",
      "          25       0.60      0.27      0.37        11\n",
      "          26       0.00      0.00      0.00         2\n",
      "          27       0.52      0.60      0.56        20\n",
      "          28       0.00      0.00      0.00         3\n",
      "          29       0.49      0.52      0.51        46\n",
      "          30       0.00      0.00      0.00         1\n",
      "          31       0.00      0.00      0.00         4\n",
      "          32       0.50      0.42      0.46        19\n",
      "          33       0.00      0.00      0.00         3\n",
      "          34       0.50      0.07      0.12        15\n",
      "          35       0.52      0.50      0.51        22\n",
      "          36       1.00      0.44      0.62         9\n",
      "          37       0.00      0.00      0.00         2\n",
      "          38       0.71      0.56      0.63         9\n",
      "\n",
      "    accuracy                           0.45       737\n",
      "   macro avg       0.30      0.24      0.25       737\n",
      "weighted avg       0.42      0.45      0.41       737\n",
      "\n"
     ]
    },
    {
     "name": "stderr",
     "output_type": "stream",
     "text": [
      "/Users/minakovaa/VSCodeProjects/venv-vscode/lib/python3.7/site-packages/sklearn/metrics/classification.py:1437: UndefinedMetricWarning: Precision and F-score are ill-defined and being set to 0.0 in labels with no predicted samples.\n",
      "  'precision', 'predicted', average, warn_for)\n"
     ]
    }
   ],
   "source": [
    "y_pred = best_mlp_clf.predict(X_val)\n",
    "print(classification_report(y_pred=y_pred, y_true=y_val))"
   ]
  },
  {
   "cell_type": "markdown",
   "metadata": {},
   "source": [
    "Train Naive Bayes"
   ]
  },
  {
   "cell_type": "code",
   "execution_count": null,
   "metadata": {},
   "outputs": [],
   "source": []
  },
  {
   "cell_type": "code",
   "execution_count": 23,
   "metadata": {},
   "outputs": [
    {
     "name": "stdout",
     "output_type": "stream",
     "text": [
      "fit_prior = True alpha = 0.7943282347242815, acc_score = 0.39620081411126185\n",
      "fit_prior = True alpha = 0.8138161719423083, acc_score = 0.39620081411126185\n",
      "fit_prior = True alpha = 0.8337822234717892, acc_score = 0.39620081411126185\n",
      "fit_prior = True alpha = 0.8542381193020124, acc_score = 0.39620081411126185\n",
      "fit_prior = True alpha = 0.875195877204174, acc_score = 0.39620081411126185\n",
      "fit_prior = True alpha = 0.8966678097917787, acc_score = 0.39620081411126185\n",
      "fit_prior = True alpha = 0.9186665317542597, acc_score = 0.39620081411126185\n",
      "fit_prior = True alpha = 0.9412049672680667, acc_score = 0.39620081411126185\n",
      "fit_prior = True alpha = 0.9642963575895775, acc_score = 0.39620081411126185\n",
      "fit_prior = True alpha = 0.9879542688342918, acc_score = 0.39620081411126185\n",
      "fit_prior = True alpha = 1.0121925999468793, acc_score = 0.39620081411126185\n",
      "fit_prior = True alpha = 1.037025590866764, acc_score = 0.39620081411126185\n",
      "fit_prior = True alpha = 1.0624678308940412, acc_score = 0.39620081411126185\n",
      "fit_prior = True alpha = 1.0885342672606437, acc_score = 0.39620081411126185\n",
      "fit_prior = True alpha = 1.1152402139117905, acc_score = 0.39620081411126185\n",
      "fit_prior = True alpha = 1.142601360502879, acc_score = 0.39620081411126185\n",
      "fit_prior = True alpha = 1.1706337816171068, acc_score = 0.39620081411126185\n",
      "fit_prior = True alpha = 1.1993539462092342, acc_score = 0.39620081411126185\n",
      "fit_prior = True alpha = 1.2287787272810429, acc_score = 0.39755766621438265\n",
      "fit_prior = True alpha = 1.2589254117941673, acc_score = 0.39755766621438265\n",
      "fit_prior = False alpha = 0.7943282347242815, acc_score = 0.3880597014925373\n",
      "fit_prior = False alpha = 0.8138161719423083, acc_score = 0.3880597014925373\n",
      "fit_prior = False alpha = 0.8337822234717892, acc_score = 0.3880597014925373\n",
      "fit_prior = False alpha = 0.8542381193020124, acc_score = 0.3880597014925373\n",
      "fit_prior = False alpha = 0.875195877204174, acc_score = 0.3880597014925373\n",
      "fit_prior = False alpha = 0.8966678097917787, acc_score = 0.3880597014925373\n",
      "fit_prior = False alpha = 0.9186665317542597, acc_score = 0.38670284938941657\n",
      "fit_prior = False alpha = 0.9412049672680667, acc_score = 0.3853459972862958\n",
      "fit_prior = False alpha = 0.9642963575895775, acc_score = 0.3853459972862958\n",
      "fit_prior = False alpha = 0.9879542688342918, acc_score = 0.3853459972862958\n",
      "fit_prior = False alpha = 1.0121925999468793, acc_score = 0.3853459972862958\n",
      "fit_prior = False alpha = 1.037025590866764, acc_score = 0.38670284938941657\n",
      "fit_prior = False alpha = 1.0624678308940412, acc_score = 0.38670284938941657\n",
      "fit_prior = False alpha = 1.0885342672606437, acc_score = 0.38670284938941657\n",
      "fit_prior = False alpha = 1.1152402139117905, acc_score = 0.38670284938941657\n",
      "fit_prior = False alpha = 1.142601360502879, acc_score = 0.38670284938941657\n",
      "fit_prior = False alpha = 1.1706337816171068, acc_score = 0.38670284938941657\n",
      "fit_prior = False alpha = 1.1993539462092342, acc_score = 0.38670284938941657\n",
      "fit_prior = False alpha = 1.2287787272810429, acc_score = 0.38670284938941657\n",
      "fit_prior = False alpha = 1.2589254117941673, acc_score = 0.38670284938941657\n"
     ]
    }
   ],
   "source": [
    "from sklearn.naive_bayes import BernoulliNB\n",
    "\n",
    "best_be_nb_clf = None\n",
    "best_score = 0.\n",
    "\n",
    "for fit_prior in [True, False]:\n",
    "    for alpha in np.logspace(-.1,.1,20):\n",
    "        be_nb_clf = BernoulliNB(\n",
    "            fit_prior=fit_prior,\n",
    "            alpha=alpha,\n",
    "            binarize=0.0,\n",
    "\n",
    "            ).fit(X_train, y_train) \n",
    "\n",
    "        acc_score = be_nb_clf.score(X_val, y_val)\n",
    "        print(f\"fit_prior = {fit_prior} alpha = {alpha}, acc_score = {acc_score}\")\n",
    "        \n",
    "        acc_score_all['BernoulliNB'].append(acc_score)\n",
    "\n",
    "        if best_score < acc_score:\n",
    "            best_be_nb_clf = be_nb_clf\n",
    "            best_score = acc_score"
   ]
  },
  {
   "cell_type": "code",
   "execution_count": 24,
   "metadata": {},
   "outputs": [
    {
     "data": {
      "text/plain": [
       "(BernoulliNB(alpha=1.2287787272810429, binarize=0.0, class_prior=None,\n",
       "             fit_prior=True),\n",
       " 0.39755766621438265)"
      ]
     },
     "execution_count": 24,
     "metadata": {},
     "output_type": "execute_result"
    }
   ],
   "source": [
    "best_be_nb_clf, best_be_nb_clf.score(X_val, y_val)"
   ]
  },
  {
   "cell_type": "code",
   "execution_count": 25,
   "metadata": {},
   "outputs": [
    {
     "name": "stdout",
     "output_type": "stream",
     "text": [
      "              precision    recall  f1-score   support\n",
      "\n",
      "           0       0.84      0.75      0.79        36\n",
      "           1       0.72      0.45      0.55        40\n",
      "           2       0.23      0.22      0.23        64\n",
      "           3       0.00      0.00      0.00         6\n",
      "           4       0.00      0.00      0.00        11\n",
      "           5       0.50      0.18      0.27        11\n",
      "           6       0.14      0.17      0.15         6\n",
      "           7       0.00      0.00      0.00         4\n",
      "           8       0.20      0.19      0.20        21\n",
      "           9       0.33      0.25      0.29         4\n",
      "          10       0.00      0.00      0.00         5\n",
      "          11       0.38      0.50      0.43        10\n",
      "          12       0.12      0.25      0.17         4\n",
      "          13       0.54      0.64      0.58        11\n",
      "          14       0.84      0.86      0.85        42\n",
      "          15       0.04      0.14      0.06         7\n",
      "          16       0.25      0.50      0.33         2\n",
      "          17       0.25      0.40      0.31        10\n",
      "          18       0.36      0.42      0.39        52\n",
      "          19       0.49      0.38      0.43       125\n",
      "          20       0.37      0.75      0.49        20\n",
      "          21       0.00      0.00      0.00         3\n",
      "          22       0.08      0.10      0.09        10\n",
      "          23       0.36      0.35      0.35        60\n",
      "          24       0.00      0.00      0.00         7\n",
      "          25       0.31      0.36      0.33        11\n",
      "          26       0.00      0.00      0.00         2\n",
      "          27       0.52      0.75      0.61        20\n",
      "          28       0.00      0.00      0.00         3\n",
      "          29       0.40      0.41      0.40        46\n",
      "          30       0.00      0.00      0.00         1\n",
      "          31       0.00      0.00      0.00         4\n",
      "          32       0.24      0.42      0.31        19\n",
      "          33       0.00      0.00      0.00         3\n",
      "          34       0.22      0.13      0.17        15\n",
      "          35       0.35      0.32      0.33        22\n",
      "          36       0.71      0.56      0.63         9\n",
      "          37       0.00      0.00      0.00         2\n",
      "          38       0.62      0.56      0.59         9\n",
      "\n",
      "    accuracy                           0.40       737\n",
      "   macro avg       0.27      0.28      0.26       737\n",
      "weighted avg       0.41      0.40      0.40       737\n",
      "\n"
     ]
    },
    {
     "name": "stderr",
     "output_type": "stream",
     "text": [
      "/Users/minakovaa/VSCodeProjects/venv-vscode/lib/python3.7/site-packages/sklearn/metrics/classification.py:1437: UndefinedMetricWarning: Precision and F-score are ill-defined and being set to 0.0 in labels with no predicted samples.\n",
      "  'precision', 'predicted', average, warn_for)\n"
     ]
    }
   ],
   "source": [
    "y_pred = best_be_nb_clf.predict(X_val)\n",
    "print(classification_report(y_pred=y_pred, y_true=y_val))"
   ]
  },
  {
   "cell_type": "code",
   "execution_count": 26,
   "metadata": {},
   "outputs": [
    {
     "name": "stdout",
     "output_type": "stream",
     "text": [
      "var_smoothing = 1e-15, acc_score = 0.4233378561736771\n",
      "var_smoothing = 1.4174741629268076e-15, acc_score = 0.4233378561736771\n",
      "var_smoothing = 2.009233002565046e-15, acc_score = 0.4233378561736771\n",
      "var_smoothing = 2.8480358684358048e-15, acc_score = 0.4233378561736771\n",
      "var_smoothing = 4.037017258596549e-15, acc_score = 0.4233378561736771\n",
      "var_smoothing = 5.72236765935022e-15, acc_score = 0.4233378561736771\n",
      "var_smoothing = 8.11130830789689e-15, acc_score = 0.4233378561736771\n",
      "var_smoothing = 1.1497569953977357e-14, acc_score = 0.4233378561736771\n",
      "var_smoothing = 1.629750834620647e-14, acc_score = 0.4233378561736771\n",
      "var_smoothing = 2.310129700083158e-14, acc_score = 0.4233378561736771\n",
      "var_smoothing = 3.2745491628777315e-14, acc_score = 0.4233378561736771\n",
      "var_smoothing = 4.6415888336127726e-14, acc_score = 0.4233378561736771\n",
      "var_smoothing = 6.579332246575682e-14, acc_score = 0.4233378561736771\n",
      "var_smoothing = 9.32603346883218e-14, acc_score = 0.4233378561736771\n",
      "var_smoothing = 1.3219411484660287e-13, acc_score = 0.4233378561736771\n",
      "var_smoothing = 1.8738174228603867e-13, acc_score = 0.4233378561736771\n",
      "var_smoothing = 2.6560877829466837e-13, acc_score = 0.4233378561736771\n",
      "var_smoothing = 3.7649358067924714e-13, acc_score = 0.4233378561736771\n",
      "var_smoothing = 5.336699231206301e-13, acc_score = 0.4233378561736771\n",
      "var_smoothing = 7.564633275546291e-13, acc_score = 0.4233378561736771\n",
      "var_smoothing = 1.0722672220103254e-12, acc_score = 0.4233378561736771\n",
      "var_smoothing = 1.5199110829529332e-12, acc_score = 0.4233378561736771\n",
      "var_smoothing = 2.1544346900318868e-12, acc_score = 0.4233378561736771\n",
      "var_smoothing = 3.0538555088334124e-12, acc_score = 0.4233378561736771\n",
      "var_smoothing = 4.328761281083061e-12, acc_score = 0.4233378561736771\n",
      "var_smoothing = 6.135907273413188e-12, acc_score = 0.4233378561736771\n",
      "var_smoothing = 8.697490026177835e-12, acc_score = 0.4233378561736771\n",
      "var_smoothing = 1.2328467394420634e-11, acc_score = 0.4233378561736771\n",
      "var_smoothing = 1.747528400007683e-11, acc_score = 0.4233378561736771\n",
      "var_smoothing = 2.4770763559917138e-11, acc_score = 0.4233378561736771\n",
      "var_smoothing = 3.511191734215142e-11, acc_score = 0.4233378561736771\n",
      "var_smoothing = 4.977023564332114e-11, acc_score = 0.4233378561736771\n",
      "var_smoothing = 7.05480231071863e-11, acc_score = 0.4233378561736771\n",
      "var_smoothing = 1e-10, acc_score = 0.4233378561736771\n",
      "var_smoothing = 1.4174741629268076e-10, acc_score = 0.4233378561736771\n",
      "var_smoothing = 2.0092330025650458e-10, acc_score = 0.4233378561736771\n",
      "var_smoothing = 2.848035868435805e-10, acc_score = 0.4233378561736771\n",
      "var_smoothing = 4.03701725859655e-10, acc_score = 0.4233378561736771\n",
      "var_smoothing = 5.722367659350221e-10, acc_score = 0.4233378561736771\n",
      "var_smoothing = 8.111308307896889e-10, acc_score = 0.4233378561736771\n",
      "var_smoothing = 1.1497569953977357e-09, acc_score = 0.4233378561736771\n",
      "var_smoothing = 1.62975083462064e-09, acc_score = 0.4233378561736771\n",
      "var_smoothing = 2.310129700083158e-09, acc_score = 0.4233378561736771\n",
      "var_smoothing = 3.2745491628777316e-09, acc_score = 0.4233378561736771\n",
      "var_smoothing = 4.641588833612792e-09, acc_score = 0.4233378561736771\n",
      "var_smoothing = 6.579332246575682e-09, acc_score = 0.4233378561736771\n",
      "var_smoothing = 9.32603346883218e-09, acc_score = 0.4233378561736771\n",
      "var_smoothing = 1.3219411484660288e-08, acc_score = 0.4233378561736771\n",
      "var_smoothing = 1.8738174228603867e-08, acc_score = 0.4233378561736771\n",
      "var_smoothing = 2.6560877829466893e-08, acc_score = 0.4233378561736771\n",
      "var_smoothing = 3.7649358067924714e-08, acc_score = 0.4233378561736771\n",
      "var_smoothing = 5.3366992312063125e-08, acc_score = 0.4233378561736771\n",
      "var_smoothing = 7.56463327554629e-08, acc_score = 0.4233378561736771\n",
      "var_smoothing = 1.0722672220103253e-07, acc_score = 0.4233378561736771\n",
      "var_smoothing = 1.519911082952933e-07, acc_score = 0.4233378561736771\n",
      "var_smoothing = 2.1544346900318867e-07, acc_score = 0.4233378561736771\n",
      "var_smoothing = 3.0538555088334124e-07, acc_score = 0.4233378561736771\n",
      "var_smoothing = 4.3287612810830616e-07, acc_score = 0.4233378561736771\n",
      "var_smoothing = 6.135907273413189e-07, acc_score = 0.4233378561736771\n",
      "var_smoothing = 8.697490026177835e-07, acc_score = 0.4233378561736771\n",
      "var_smoothing = 1.2328467394420685e-06, acc_score = 0.4233378561736771\n",
      "var_smoothing = 1.747528400007683e-06, acc_score = 0.4233378561736771\n",
      "var_smoothing = 2.477076355991714e-06, acc_score = 0.4233378561736771\n",
      "var_smoothing = 3.5111917342151275e-06, acc_score = 0.4233378561736771\n",
      "var_smoothing = 4.977023564332114e-06, acc_score = 0.4233378561736771\n",
      "var_smoothing = 7.05480231071866e-06, acc_score = 0.4233378561736771\n",
      "var_smoothing = 1e-05, acc_score = 0.4233378561736771\n",
      "var_smoothing = 1.4174741629268077e-05, acc_score = 0.4233378561736771\n",
      "var_smoothing = 2.0092330025650458e-05, acc_score = 0.4233378561736771\n",
      "var_smoothing = 2.8480358684358048e-05, acc_score = 0.4233378561736771\n",
      "var_smoothing = 4.03701725859655e-05, acc_score = 0.4233378561736771\n",
      "var_smoothing = 5.72236765935022e-05, acc_score = 0.4233378561736771\n",
      "var_smoothing = 8.11130830789689e-05, acc_score = 0.4233378561736771\n",
      "var_smoothing = 0.00011497569953977356, acc_score = 0.4233378561736771\n",
      "var_smoothing = 0.00016297508346206467, acc_score = 0.4233378561736771\n",
      "var_smoothing = 0.0002310129700083158, acc_score = 0.4233378561736771\n",
      "var_smoothing = 0.00032745491628777317, acc_score = 0.42198100407055633\n",
      "var_smoothing = 0.00046415888336127914, acc_score = 0.42198100407055633\n",
      "var_smoothing = 0.0006579332246575682, acc_score = 0.42198100407055633\n",
      "var_smoothing = 0.0009326033468832219, acc_score = 0.4206241519674355\n",
      "var_smoothing = 0.0013219411484660286, acc_score = 0.417910447761194\n",
      "var_smoothing = 0.0018738174228603867, acc_score = 0.417910447761194\n",
      "var_smoothing = 0.002656087782946684, acc_score = 0.41655359565807326\n",
      "var_smoothing = 0.0037649358067924714, acc_score = 0.41926729986431477\n",
      "var_smoothing = 0.0053366992312063235, acc_score = 0.4206241519674355\n",
      "var_smoothing = 0.007564633275546291, acc_score = 0.4206241519674355\n",
      "var_smoothing = 0.010722672220103254, acc_score = 0.417910447761194\n",
      "var_smoothing = 0.01519911082952933, acc_score = 0.4097693351424695\n",
      "var_smoothing = 0.021544346900318867, acc_score = 0.4056987788331072\n",
      "var_smoothing = 0.030538555088334123, acc_score = 0.39620081411126185\n",
      "var_smoothing = 0.043287612810830614, acc_score = 0.3853459972862958\n",
      "var_smoothing = 0.06135907273413188, acc_score = 0.378561736770692\n",
      "var_smoothing = 0.08697490026177834, acc_score = 0.36635006784260515\n",
      "var_smoothing = 0.12328467394420685, acc_score = 0.36363636363636365\n",
      "var_smoothing = 0.1747528400007683, acc_score = 0.33649932157394846\n",
      "var_smoothing = 0.2477076355991714, acc_score = 0.31614654002713705\n",
      "var_smoothing = 0.35111917342151416, acc_score = 0.2903663500678426\n",
      "var_smoothing = 0.49770235643321137, acc_score = 0.2903663500678426\n",
      "var_smoothing = 0.705480231071866, acc_score = 0.2903663500678426\n",
      "var_smoothing = 1.0, acc_score = 0.2876526458616011\n"
     ]
    }
   ],
   "source": [
    "from sklearn.naive_bayes import GaussianNB\n",
    "\n",
    "best_gaus_nb_clf = None\n",
    "best_score = 0.\n",
    "\n",
    "for var_smoothing in np.logspace(-15,0, num=100):\n",
    "    gaus_nb_clf = GaussianNB(\n",
    "        var_smoothing=var_smoothing,\n",
    "        ).fit(X_train, y_train) \n",
    "\n",
    "    acc_score = gaus_nb_clf.score(X_val, y_val)\n",
    "    print(f\"var_smoothing = {var_smoothing}, acc_score = {acc_score}\")\n",
    "\n",
    "    acc_score_all['GaussianNB'].append(acc_score)\n",
    "\n",
    "\n",
    "    if best_score < acc_score:\n",
    "        best_gaus_nb_clf = gaus_nb_clf\n",
    "        best_score = acc_score\n"
   ]
  },
  {
   "cell_type": "code",
   "execution_count": 27,
   "metadata": {},
   "outputs": [
    {
     "data": {
      "text/plain": [
       "(GaussianNB(priors=None, var_smoothing=1e-15), 0.4233378561736771)"
      ]
     },
     "execution_count": 27,
     "metadata": {},
     "output_type": "execute_result"
    }
   ],
   "source": [
    "best_gaus_nb_clf, best_gaus_nb_clf.score(X_val, y_val)"
   ]
  },
  {
   "cell_type": "code",
   "execution_count": 28,
   "metadata": {},
   "outputs": [
    {
     "name": "stdout",
     "output_type": "stream",
     "text": [
      "              precision    recall  f1-score   support\n",
      "\n",
      "           0       0.84      0.75      0.79        36\n",
      "           1       0.76      0.47      0.58        40\n",
      "           2       0.25      0.25      0.25        64\n",
      "           3       0.00      0.00      0.00         6\n",
      "           4       0.00      0.00      0.00        11\n",
      "           5       0.00      0.00      0.00        11\n",
      "           6       0.00      0.00      0.00         6\n",
      "           7       0.00      0.00      0.00         4\n",
      "           8       0.33      0.29      0.31        21\n",
      "           9       0.33      0.25      0.29         4\n",
      "          10       0.00      0.00      0.00         5\n",
      "          11       0.40      0.40      0.40        10\n",
      "          12       0.14      0.25      0.18         4\n",
      "          13       0.62      0.73      0.67        11\n",
      "          14       0.86      0.86      0.86        42\n",
      "          15       0.10      0.29      0.15         7\n",
      "          16       0.50      0.50      0.50         2\n",
      "          17       0.24      0.40      0.30        10\n",
      "          18       0.36      0.54      0.43        52\n",
      "          19       0.51      0.42      0.46       125\n",
      "          20       0.32      0.60      0.41        20\n",
      "          21       0.00      0.00      0.00         3\n",
      "          22       0.18      0.20      0.19        10\n",
      "          23       0.36      0.35      0.36        60\n",
      "          24       0.00      0.00      0.00         7\n",
      "          25       0.36      0.45      0.40        11\n",
      "          26       0.00      0.00      0.00         2\n",
      "          27       0.52      0.75      0.61        20\n",
      "          28       0.00      0.00      0.00         3\n",
      "          29       0.35      0.43      0.39        46\n",
      "          30       0.00      0.00      0.00         1\n",
      "          31       0.50      0.25      0.33         4\n",
      "          32       0.40      0.53      0.45        19\n",
      "          33       0.00      0.00      0.00         3\n",
      "          34       0.20      0.20      0.20        15\n",
      "          35       0.39      0.32      0.35        22\n",
      "          36       0.75      0.67      0.71         9\n",
      "          37       0.00      0.00      0.00         2\n",
      "          38       0.71      0.56      0.63         9\n",
      "\n",
      "    accuracy                           0.42       737\n",
      "   macro avg       0.29      0.30      0.29       737\n",
      "weighted avg       0.43      0.42      0.42       737\n",
      "\n"
     ]
    },
    {
     "name": "stderr",
     "output_type": "stream",
     "text": [
      "/Users/minakovaa/VSCodeProjects/venv-vscode/lib/python3.7/site-packages/sklearn/metrics/classification.py:1437: UndefinedMetricWarning: Precision and F-score are ill-defined and being set to 0.0 in labels with no predicted samples.\n",
      "  'precision', 'predicted', average, warn_for)\n"
     ]
    }
   ],
   "source": [
    "y_pred = best_gaus_nb_clf.predict(X_val)\n",
    "print(classification_report(y_pred=y_pred, y_true=y_val))"
   ]
  },
  {
   "cell_type": "markdown",
   "metadata": {},
   "source": [
    "Train kNeqighbour classifier"
   ]
  },
  {
   "cell_type": "code",
   "execution_count": 29,
   "metadata": {},
   "outputs": [
    {
     "name": "stdout",
     "output_type": "stream",
     "text": [
      "n_neighbors = 3, algorithm = auto, weights = uniform, acc_score = 0.3256445047489824\n",
      "n_neighbors = 3, algorithm = auto, weights = distance, acc_score = 0.3487109905020353\n",
      "n_neighbors = 3, algorithm = ball_tree, weights = uniform, acc_score = 0.3256445047489824\n",
      "n_neighbors = 3, algorithm = ball_tree, weights = distance, acc_score = 0.3487109905020353\n",
      "n_neighbors = 3, algorithm = kd_tree, weights = uniform, acc_score = 0.3256445047489824\n",
      "n_neighbors = 3, algorithm = kd_tree, weights = distance, acc_score = 0.3487109905020353\n",
      "n_neighbors = 3, algorithm = brute, weights = uniform, acc_score = 0.3256445047489824\n",
      "n_neighbors = 3, algorithm = brute, weights = distance, acc_score = 0.3487109905020353\n",
      "n_neighbors = 5, algorithm = auto, weights = uniform, acc_score = 0.3419267299864315\n",
      "n_neighbors = 5, algorithm = auto, weights = distance, acc_score = 0.36363636363636365\n",
      "n_neighbors = 5, algorithm = ball_tree, weights = uniform, acc_score = 0.3419267299864315\n",
      "n_neighbors = 5, algorithm = ball_tree, weights = distance, acc_score = 0.36363636363636365\n",
      "n_neighbors = 5, algorithm = kd_tree, weights = uniform, acc_score = 0.3419267299864315\n",
      "n_neighbors = 5, algorithm = kd_tree, weights = distance, acc_score = 0.36363636363636365\n",
      "n_neighbors = 5, algorithm = brute, weights = uniform, acc_score = 0.3419267299864315\n",
      "n_neighbors = 5, algorithm = brute, weights = distance, acc_score = 0.36363636363636365\n"
     ]
    }
   ],
   "source": [
    "from sklearn.neighbors import KNeighborsClassifier\n",
    "\n",
    "best_knn_clf = None\n",
    "best_score = 0.\n",
    "\n",
    "for n_neighbors in (3, 5):\n",
    "    for algorithm in ('auto', 'ball_tree', 'kd_tree', 'brute'): \n",
    "        for weights in ('uniform', 'distance'):\n",
    "            knn_clf = KNeighborsClassifier(\n",
    "                n_neighbors=n_neighbors,\n",
    "                algorithm=algorithm,\n",
    "                weights=weights,\n",
    "                ).fit(X_train, y_train) \n",
    "\n",
    "            acc_score = knn_clf.score(X_val, y_val)\n",
    "            print(f\"n_neighbors = {n_neighbors}, algorithm = {algorithm}, weights = {weights}, acc_score = {acc_score}\")\n",
    "\n",
    "            acc_score_all['KNeighborsClassifier'].append(acc_score)\n",
    "\n",
    "\n",
    "            if best_score < acc_score:\n",
    "                best_knn_clf = knn_clf\n",
    "                best_score = acc_score"
   ]
  },
  {
   "cell_type": "code",
   "execution_count": 30,
   "metadata": {},
   "outputs": [
    {
     "data": {
      "text/plain": [
       "(KNeighborsClassifier(algorithm='auto', leaf_size=30, metric='minkowski',\n",
       "                      metric_params=None, n_jobs=None, n_neighbors=5, p=2,\n",
       "                      weights='distance'),\n",
       " 0.36363636363636365)"
      ]
     },
     "execution_count": 30,
     "metadata": {},
     "output_type": "execute_result"
    }
   ],
   "source": [
    "best_knn_clf, best_knn_clf.score(X_val, y_val)"
   ]
  },
  {
   "cell_type": "code",
   "execution_count": 31,
   "metadata": {},
   "outputs": [
    {
     "name": "stdout",
     "output_type": "stream",
     "text": [
      "              precision    recall  f1-score   support\n",
      "\n",
      "           0       0.62      0.44      0.52        36\n",
      "           1       0.41      0.40      0.41        40\n",
      "           2       0.27      0.33      0.30        64\n",
      "           3       0.20      0.17      0.18         6\n",
      "           4       0.25      0.09      0.13        11\n",
      "           5       1.00      0.18      0.31        11\n",
      "           6       0.50      0.17      0.25         6\n",
      "           7       0.00      0.00      0.00         4\n",
      "           8       0.33      0.14      0.20        21\n",
      "           9       0.50      0.25      0.33         4\n",
      "          10       0.00      0.00      0.00         5\n",
      "          11       0.33      0.10      0.15        10\n",
      "          12       0.00      0.00      0.00         4\n",
      "          13       0.25      0.27      0.26        11\n",
      "          14       0.51      0.88      0.65        42\n",
      "          15       0.00      0.00      0.00         7\n",
      "          16       0.33      0.50      0.40         2\n",
      "          17       0.00      0.00      0.00        10\n",
      "          18       0.39      0.63      0.49        52\n",
      "          19       0.44      0.52      0.48       125\n",
      "          20       0.22      0.40      0.29        20\n",
      "          21       0.00      0.00      0.00         3\n",
      "          22       0.00      0.00      0.00        10\n",
      "          23       0.25      0.23      0.24        60\n",
      "          24       0.00      0.00      0.00         7\n",
      "          25       0.40      0.18      0.25        11\n",
      "          26       0.00      0.00      0.00         2\n",
      "          27       0.38      0.55      0.45        20\n",
      "          28       0.33      0.33      0.33         3\n",
      "          29       0.32      0.28      0.30        46\n",
      "          30       0.00      0.00      0.00         1\n",
      "          31       0.00      0.00      0.00         4\n",
      "          32       0.38      0.32      0.34        19\n",
      "          33       0.00      0.00      0.00         3\n",
      "          34       0.00      0.00      0.00        15\n",
      "          35       0.42      0.23      0.29        22\n",
      "          36       0.75      0.33      0.46         9\n",
      "          37       0.00      0.00      0.00         2\n",
      "          38       0.43      0.33      0.38         9\n",
      "\n",
      "    accuracy                           0.36       737\n",
      "   macro avg       0.26      0.21      0.21       737\n",
      "weighted avg       0.35      0.36      0.34       737\n",
      "\n"
     ]
    },
    {
     "name": "stderr",
     "output_type": "stream",
     "text": [
      "/Users/minakovaa/VSCodeProjects/venv-vscode/lib/python3.7/site-packages/sklearn/metrics/classification.py:1437: UndefinedMetricWarning: Precision and F-score are ill-defined and being set to 0.0 in labels with no predicted samples.\n",
      "  'precision', 'predicted', average, warn_for)\n"
     ]
    }
   ],
   "source": [
    "y_pred = best_knn_clf.predict(X_val)\n",
    "print(classification_report(y_pred=y_pred, y_true=y_val))"
   ]
  },
  {
   "cell_type": "code",
   "execution_count": 48,
   "metadata": {},
   "outputs": [
    {
     "name": "stderr",
     "output_type": "stream",
     "text": [
      "No handles with labels found to put in legend.\n"
     ]
    },
    {
     "data": {
      "image/png": "[encoded data removed]",
      "text/plain": [
       "<Figure size 432x288 with 1 Axes>"
      ]
     },
     "metadata": {
      "needs_background": "light"
     },
     "output_type": "display_data"
    }
   ],
   "source": [
    "import matplotlib.pyplot as plt\n",
    "\n",
    "fig, ax = plt.subplots()\n",
    "\n",
    "labels, data = acc_score_all.keys(), acc_score_all.values()\n",
    "ax.boxplot(data)\n",
    "plt.xticks(range(1, len(labels) + 1), labels, rotation=90)\n",
    "plt.legend()\n",
    "plt.show()"
   ]
  }
 ],
 "metadata": {
  "kernelspec": {
   "display_name": "Python 3.7.5 64-bit ('venv-vscode': venv)",
   "language": "python",
   "name": "python3"
  },
  "language_info": {
   "codemirror_mode": {
    "name": "ipython",
    "version": 3
   },
   "file_extension": ".py",
   "mimetype": "text/x-python",
   "name": "python",
   "nbconvert_exporter": "python",
   "pygments_lexer": "ipython3",
   "version": "3.7.5"
  },
  "orig_nbformat": 4,
  "vscode": {
   "interpreter": {
    "hash": "4658d5f0b4e8428a4b4ab18d3b35955c33ab5eda1875d260fb22d7a8b1cb47c4"
   }
  }
 },
 "nbformat": 4,
 "nbformat_minor": 2
}
