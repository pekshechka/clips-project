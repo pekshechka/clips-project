{
  "nbformat": 4,
  "nbformat_minor": 0,
  "metadata": {
    "colab": {
      "provenance": []
    },
    "kernelspec": {
      "name": "python3",
      "display_name": "Python 3"
    },
    "language_info": {
      "name": "python"
    },
    "gpuClass": "standard",
    "accelerator": "GPU"
  },
  "cells": [
    {
      "cell_type": "code",
      "execution_count": null,
      "metadata": {
        "id": "9UQRQX0bUzvn"
      },
      "outputs": [],
      "source": [
        "import os\n",
        "import torch\n",
        "import torch.nn as nn\n",
        "from torch.utils.data import Dataset\n",
        "import torch.optim as optim\n",
        "from torch.utils.data import DataLoader\n",
        "from torch.utils.tensorboard import SummaryWriter\n",
        "from sklearn.metrics import accuracy_score, confusion_matrix, f1_score, roc_auc_score\n",
        "from tqdm import tqdm\n",
        "import numpy as np\n",
        "import pandas as pd\n",
        "import json\n",
        "import matplotlib.pyplot as plt\n",
        "import torch.nn.functional as F"
      ]
    },
    {
      "cell_type": "code",
      "source": [
        "def seed_everything(seed: int = 42):\n",
        "    torch.manual_seed(seed)\n",
        "    torch.cuda.manual_seed(seed)\n",
        "    torch.backends.cudnn.deterministic = True\n",
        "    torch.backends.cudnn.benchmark = False\n",
        "    np.random.seed(seed)\n",
        "\n",
        "seed_everything(42)"
      ],
      "metadata": {
        "id": "H4qirrclqcQO"
      },
      "execution_count": null,
      "outputs": []
    },
    {
      "cell_type": "code",
      "source": [
        "def load(filename):\n",
        "    emdeb = np.load(filename)\n",
        "    return list(emdeb)"
      ],
      "metadata": {
        "id": "zmEjuol8U2eq"
      },
      "execution_count": null,
      "outputs": []
    },
    {
      "cell_type": "code",
      "source": [
        "columns = ['clipTarget', 'date']\n",
        "df = pd.DataFrame(columns=['clipTarget', \"audio\"])\n",
        "for i in range(7):\n",
        "    csv_filepath = f\"/content/drive/MyDrive/ASR/0000{i}.csv\"\n",
        "    audio_filepath = f\"/content/drive/MyDrive/ASR/AudioEmbedding/0000{i}.npy\"\n",
        "    temp = pd.read_csv(csv_filepath)\n",
        "    temp = temp[columns]\n",
        "    temp[\"audio\"] = load(audio_filepath)\n",
        "    df = pd.concat([df, temp], ignore_index=True)\n",
        "    df = df.reset_index(drop=True)\n",
        "df = df.sort_values(by=['date'], ascending=True)\n",
        "df = df.reset_index(drop=True)\n",
        "\n",
        "df_train = df.iloc[:324160, :]\n",
        "df_train = df_train.reset_index(drop=True)\n",
        "\n",
        "\n",
        "df_test = df.iloc[324160:, :]\n",
        "df_test = df_test.reset_index(drop=True)\n",
        "del df"
      ],
      "metadata": {
        "id": "U9uvx4AGU7tR"
      },
      "execution_count": null,
      "outputs": []
    },
    {
      "cell_type": "code",
      "source": [
        "from sklearn.utils import class_weight\n",
        "\n",
        "\n",
        "class_weights = class_weight.compute_class_weight(class_weight='balanced', classes=np.unique(df_train[\"clipTarget\"].to_list()), y=df_train[\"clipTarget\"].to_list())"
      ],
      "metadata": {
        "id": "ORIUFQcMxNY1"
      },
      "execution_count": null,
      "outputs": []
    },
    {
      "cell_type": "code",
      "source": [
        "class WeightedFocalLoss(nn.Module):\n",
        "    \"Non weighted version of Focal Loss\"\n",
        "    def __init__(self, weights=torch.from_numpy(class_weights).cuda(), gamma=1.1):\n",
        "        super().__init__()\n",
        "        self.weights = weights\n",
        "        self.gamma = gamma\n",
        "\n",
        "    def forward(self, inputs, targets):\n",
        "        inputs = inputs.squeeze()\n",
        "        targets = targets.squeeze()\n",
        "\n",
        "        BCE_loss = F.cross_entropy(inputs, targets, reduction='none')\n",
        "        pt = torch.exp(-BCE_loss)\n",
        "        F_loss = self.weights[targets]*(1-pt)**self.gamma * BCE_loss\n",
        "\n",
        "        return F_loss.mean()\n",
        "\n",
        "focal = WeightedFocalLoss()"
      ],
      "metadata": {
        "id": "AjmWIIKvySt5"
      },
      "execution_count": null,
      "outputs": []
    },
    {
      "cell_type": "code",
      "source": [
        "\n",
        "class CLIPDataset(Dataset):\n",
        "    def __init__(self, audio, target, classes: str = \"/content/drive/MyDrive/ASR/classes.json\"):\n",
        "        self.audio = audio\n",
        "        self.target = target\n",
        "        self.cat = self.read(classes)\n",
        "\n",
        "    def __getitem__(self, item):\n",
        "        return {\n",
        "            \"audio\": torch.from_numpy(self.audio[item]),\n",
        "            \"target\": self.cat[self.target[item]]\n",
        "        }\n",
        "\n",
        "    def __len__(self):\n",
        "        return len(self.target)\n",
        "\n",
        "    @staticmethod\n",
        "    def read(filename: str):\n",
        "        with open(filename, \"r\") as f:\n",
        "            data = json.load(f)\n",
        "        return data"
      ],
      "metadata": {
        "id": "iluqDSopVJab"
      },
      "execution_count": null,
      "outputs": []
    },
    {
      "cell_type": "code",
      "source": [
        "BATCH_SIZE = 512\n",
        "\n",
        "device = torch.device(\"cuda:0\" if torch.cuda.is_available() else \"cpu\")\n",
        "\n",
        "train_dataset = CLIPDataset(df_train[\"audio\"].to_list(), df_train[\"clipTarget\"].to_list())\n",
        "train_dataloader = DataLoader(\n",
        "    dataset=train_dataset, batch_size=BATCH_SIZE, shuffle=True\n",
        ")\n",
        "\n",
        "test_dataset = CLIPDataset(df_test[\"audio\"].to_list(), df_test[\"clipTarget\"].to_list())\n",
        "test_dataloader = DataLoader(\n",
        "    dataset=test_dataset, batch_size=BATCH_SIZE, shuffle=False\n",
        ")"
      ],
      "metadata": {
        "id": "t2mD2_SWWBJ6"
      },
      "execution_count": null,
      "outputs": []
    },
    {
      "cell_type": "code",
      "source": [
        "class Flatten2(nn.Module):\n",
        "    \"\"\"\n",
        "    Takes a vector of shape (A, B, C, D, E, ...)\n",
        "    and flattens everything but the first two dimensions, \n",
        "    giving a result of shape (A, B, C*D*E*...)\n",
        "    \"\"\"\n",
        "    def forward(self, input):\n",
        "        return input.view(input.size(0), 1, -1)\n",
        "\n",
        "\n",
        "class Combiner(nn.Module):\n",
        "    \"\"\"\n",
        "    This class is used to combine a feature exraction network F and a importance prediction network W,\n",
        "    and combine their outputs by adding and summing them together. \n",
        "    \"\"\"\n",
        "\n",
        "    def __init__(self, featureExtraction, weightSelection):\n",
        "        \"\"\"\n",
        "        featureExtraction: a network that takes an input of shape (B, T, D) and outputs a new \n",
        "            representation of shape (B, T, D'). \n",
        "        weightSelection: a network that takes in an input of shape (B, T, D') and outputs a \n",
        "            tensor of shape (B, T, 1) or (B, T). It should be normalized, so that the T \n",
        "            values at the end sum to one (torch.sum(_, dim=1) = 1.0)\n",
        "        \"\"\"\n",
        "        super(Combiner, self).__init__()\n",
        "        self.featureExtraction = featureExtraction\n",
        "        self.weightSelection = weightSelection\n",
        "    \n",
        "    def forward(self, input):\n",
        "        \"\"\"\n",
        "        input: a tensor of shape (B, T, D)\n",
        "        return: a new tensor of shape (B, D')\n",
        "        \"\"\"\n",
        "        features = self.featureExtraction(input) #(B, T, D) $\\boldsymbol{h}_i = F(\\boldsymbol{x}_i)$\n",
        "        weights = self.weightSelection(features) #(B, T) or (B, T, 1) for $\\boldsymbol{\\alpha}$\n",
        "        if len(weights.shape) == 2: #(B, T) shape\n",
        "            weights.unsqueese(2) #now (B, T, 1) shape\n",
        "        \n",
        "        r = features*weights #(B, T, D), computes $\\alpha_i \\cdot \\boldsymbol{h}_i$\n",
        "        \n",
        "        return torch.sum(r, dim=1) #sum over the T dimension, giving (B, D) final shape $\\bar{\\boldsymbol{x}}$\n",
        "\n",
        "T = 1\n",
        "D = 1024\n",
        "neurons = 128\n",
        "classes = 52\n",
        "\n",
        "backboneNetwork = nn.Sequential(\n",
        "    Flatten2(),# Shape is now (B, T, D)\n",
        "    nn.Linear(D, neurons), #Shape becomes (B, T, neurons)\n",
        "    nn.LeakyReLU(),\n",
        "    nn.Linear(neurons, neurons),\n",
        "    nn.LeakyReLU(), #still (B, T, neurons) on the way out\n",
        ")\n",
        "\n",
        "attentionMechanism = nn.Sequential(\n",
        "    #Shape is (B, T, neurons)\n",
        "    nn.Linear(neurons,neurons),\n",
        "    nn.LeakyReLU(),\n",
        "    nn.Linear(neurons, 1), # (B, T, 1)\n",
        "    nn.Softmax(dim=1),\n",
        ")\n",
        "\n",
        "model = nn.Sequential(\n",
        "    #input is (B, T, C, W, H). backbone & attention will be used by combiner to process\n",
        "    Combiner(backboneNetwork, attentionMechanism), # result is (B, neurons)\n",
        "    nn.BatchNorm1d(neurons),\n",
        "    nn.Linear(neurons, classes)\n",
        ")"
      ],
      "metadata": {
        "id": "HU9vGp6_WY2p"
      },
      "execution_count": null,
      "outputs": []
    },
    {
      "cell_type": "code",
      "source": [
        "class Model1D(nn.Module):\n",
        "    def __init__(\n",
        "        self,\n",
        "        input: int,\n",
        "        hidden: int,\n",
        "        classes: int\n",
        "    ):\n",
        "        super(Model1D, self).__init__()\n",
        "        self.norm0 = nn.BatchNorm1d(input)\n",
        "        self.conv1 = nn.Conv1d(in_channels=input, out_channels=hidden, kernel_size=5)\n",
        "        self.norm1 = nn.BatchNorm1d(hidden)\n",
        "        self.relu1 = nn.ReLU()\n",
        "        self.conv2 = nn.Conv1d(in_channels=hidden, out_channels=2 * hidden, kernel_size=5)\n",
        "        self.norm2 = nn.BatchNorm1d(2 * hidden)\n",
        "        self.relu2 = nn.ReLU()\n",
        "        self.pool1 = nn.MaxPool1d(kernel_size=4, stride=4)\n",
        "        self.conv3 = nn.Conv1d(in_channels=2 * hidden, out_channels=3 * hidden, kernel_size=5)\n",
        "        self.norm3 = nn.BatchNorm1d(3 * hidden)\n",
        "        self.relu3 = nn.ReLU()\n",
        "        self.pool2 = nn.MaxPool1d(kernel_size=4, stride=4)\n",
        "        self.conv4 = nn.Conv1d(in_channels=3 * hidden, out_channels=3 * hidden, kernel_size=5)\n",
        "        self.norm4 = nn.BatchNorm1d(3 * hidden)\n",
        "        self.relu4 = nn.ReLU()\n",
        "        self.avgpool = nn.AdaptiveMaxPool1d(1)\n",
        "        self.fc = nn.Linear(in_features=3 * hidden, out_features=classes)\n",
        "\n",
        "\n",
        "    def forward(self, x):\n",
        "        x = self.norm0(x)\n",
        "        x = self.conv1(x)\n",
        "        x = self.norm1(x)\n",
        "        x = self.relu1(x)\n",
        "        x = self.conv2(x)\n",
        "        x = self.norm2(x)\n",
        "        x = self.relu2(x)\n",
        "        x = self.pool1(x)\n",
        "        x = self.conv3(x)\n",
        "        x = self.norm3(x)\n",
        "        x = self.relu3(x)\n",
        "        x = self.pool2(x)\n",
        "        x = self.conv4(x)\n",
        "        x = self.norm4(x)\n",
        "        x = self.relu4(x)\n",
        "        x = self.avgpool(x)\n",
        "        x = x.flatten(1)\n",
        "        return self.fc(x)"
      ],
      "metadata": {
        "id": "eocVjED-UGM6"
      },
      "execution_count": null,
      "outputs": []
    },
    {
      "cell_type": "code",
      "source": [
        "# import torch\n",
        "# import torch.nn as nn\n",
        "\n",
        "# f1-score 0.115\n",
        "# class MLP(nn.Module):\n",
        "#     def __init__(\n",
        "#             self,\n",
        "#             in_features: int = 128,\n",
        "#             hidden_features: int = 256,\n",
        "#             out_features: int = 52,\n",
        "#             num_layers: int = 1,\n",
        "#             dropout_prob: float = 0.2,\n",
        "#             bn: bool = True\n",
        "#     ):\n",
        "#         super(MLP, self).__init__()\n",
        "#         #self.bn = bn\n",
        "#         self.bn1 = nn.BatchNorm1d(in_features)\n",
        "#         self.fc1 = nn.Linear(in_features=in_features, out_features=hidden_features)\n",
        "#         self.act1 = nn.ReLU()\n",
        "#         self.bn2 = nn.BatchNorm1d(hidden_features)\n",
        "#         self.dropout1 = nn.Dropout(dropout_prob)\n",
        "#         self.fc2 = nn.Linear(in_features=hidden_features, out_features=hidden_features)\n",
        "#         self.dropout2 = nn.Dropout(dropout_prob)\n",
        "#         self.fc3 = nn.Linear(in_features=hidden_features, out_features=out_features)\n",
        "\n",
        "\n",
        "#     def forward(self, x):\n",
        "#         # x = self.dropout1(x)\n",
        "#         # x = self.bn1(x)\n",
        "#         x = self.fc1(x)\n",
        "#         x = self.bn2(x)\n",
        "#         x = self.act1(x)\n",
        "#         x = self.dropout2(x)\n",
        "#         return self.fc3(x)\n",
        "\n",
        "\n",
        "class MLP(nn.Module): # f1-score 0.124\n",
        "    def __init__(\n",
        "            self,\n",
        "            in_features: int = 128,\n",
        "            hidden_features: int = 256,\n",
        "            out_features: int = 52,\n",
        "            num_layers: int = 1,\n",
        "            dropout_prob: float = 0.1,\n",
        "            bn: bool = True\n",
        "    ):\n",
        "        super(MLP, self).__init__()\n",
        "        #self.bn = bn\n",
        "        self.bn1 = nn.BatchNorm1d(in_features)\n",
        "        self.fc1 = nn.Linear(in_features=in_features, out_features=hidden_features)\n",
        "        self.act1 = nn.ReLU()\n",
        "        self.bn2 = nn.BatchNorm1d(hidden_features)\n",
        "        self.dropout1 = nn.Dropout(dropout_prob)\n",
        "        self.fc2 = nn.Linear(in_features=hidden_features, out_features=hidden_features)\n",
        "        self.dropout2 = nn.Dropout(dropout_prob)\n",
        "        self.fc3 = nn.Linear(in_features=hidden_features, out_features=out_features)\n",
        "\n",
        "\n",
        "    def forward(self, x):\n",
        "        # x = self.dropout1(x)\n",
        "        # x = self.bn1(x)\n",
        "        x = self.fc1(x)\n",
        "        x = self.bn2(x)\n",
        "        x = self.act1(x)\n",
        "        #x = self.dropout2(x)\n",
        "        return self.fc3(x)\n",
        "\n",
        "\n",
        "# model = MLP()"
      ],
      "metadata": {
        "id": "n58ZHZD46G3m"
      },
      "execution_count": null,
      "outputs": []
    },
    {
      "cell_type": "code",
      "source": [
        "PATH = \"/content/drive/MyDrive/ASR/CNN\"\n",
        "EPOCHS = 20\n",
        "LearningRate = 0.001\n",
        "EXPERIMENT_NAME = \"MLP_AUDIO\"\n",
        "\n",
        "\n",
        "model = MLP(hidden_features=256)\n",
        "opt = optim.AdamW(model.parameters(), lr=LearningRate)\n",
        "\n",
        "criterion = nn.CrossEntropyLoss()\n",
        "\n",
        "mean_loss_train = []\n",
        "mean_score_train = []\n",
        "\n",
        "mean_loss_test = []\n",
        "mean_score_test = []\n",
        "\n",
        "best_loss = float(\"inf\")\n",
        "best_score = 0\n",
        "for epoch in range(EPOCHS):\n",
        "    print(f\"Epoch: {epoch + 1}/{EPOCHS}\")\n",
        "    model.train().to(device)\n",
        "    running_loss = 0\n",
        "    running_score = 0\n",
        "    counter = 0\n",
        "    for data in tqdm(train_dataloader, desc=\"train\"):\n",
        "        target = data[\"target\"].to(device)\n",
        "        audio = data[\"audio\"].to(device)  # MLP\n",
        "        # audio = data[\"audio\"].to(device).unsqueeze(1) # CNN1D\n",
        "        opt.zero_grad()\n",
        "\n",
        "        preds = model(audio)\n",
        "        loss = criterion(preds, target)\n",
        "        loss.backward()\n",
        "\n",
        "        running_loss += loss.item() * len(data[\"audio\"])\n",
        "        counter += len(data[\"audio\"])\n",
        "\n",
        "        opt.step()\n",
        "\n",
        "        preds = preds.argmax(axis=1).cpu().detach().numpy()\n",
        "        target = target.cpu().detach().numpy()\n",
        "        running_score += f1_score(target, preds, average='macro')\n",
        "\n",
        "    mean_loss_train.append(running_loss / counter)\n",
        "    mean_score_train.append(running_score / len(train_dataloader))\n",
        "    #print('Loss/train', running_loss / counter)\n",
        "    #print('F1/train', running_score / counter)\n",
        "\n",
        "    with torch.no_grad():\n",
        "        model.eval().to(device)\n",
        "        running_loss = 0\n",
        "        running_score = 0\n",
        "        counter = 0\n",
        "        for data in tqdm(test_dataloader, desc=\"val\"):\n",
        "            target = data[\"target\"].to(device)\n",
        "            audio = data[\"audio\"].to(device)  # MLP\n",
        "            # audio = data[\"audio\"].to(device).unsqueeze(1) # CNN1D\n",
        "\n",
        "            preds = model(audio)\n",
        "            loss = criterion(preds, target)\n",
        "\n",
        "            running_loss += loss.item() * len(data[\"audio\"])\n",
        "            counter += len(data[\"audio\"])\n",
        "\n",
        "            preds = preds.argmax(axis=1).cpu().detach().numpy()\n",
        "            target = target.cpu().detach().numpy()\n",
        "            running_score += f1_score(target, preds, average='macro')\n",
        "\n",
        "\n",
        "    #print('F1/val', running_loss / counter)\n",
        "    #print('Loss/val', running_score / counter)\n",
        "    mean_loss_test.append(running_loss / counter)\n",
        "    mean_score_test.append(running_score / len(test_dataloader))\n",
        "\n",
        "    # if running_score > best_score and running_loss < best_loss:\n",
        "    #     best_score = running_score\n",
        "    #     best_loss = running_loss\n",
        "    #     torch.save(model.cpu().state_dict(), os.path.join(PATH, f\"{EXPERIMENT_NAME}_epoch_{epoch}.pt\"))\n",
        "    # elif running_score > best_score:\n",
        "    #     best_score = running_score\n",
        "    #     torch.save(model.cpu().state_dict(), os.path.join(PATH, f\"{EXPERIMENT_NAME}_epoch_{epoch}.pt\"))\n",
        "    # elif running_loss < best_loss:\n",
        "    #     best_loss = running_loss\n",
        "    #     torch.save(model.cpu().state_dict(), os.path.join(PATH, f\"{EXPERIMENT_NAME}_epoch_{epoch}.pt\"))\n",
        "    # elif epoch == EPOCHS - 1:\n",
        "    #     torch.save(model.cpu().state_dict(), os.path.join(PATH, f\"{EXPERIMENT_NAME}_epoch_{epoch}.pt\"))\n",
        "\n",
        "    if (epoch + 1) % 5 == 0:\n",
        "        plt.plot(np.arange(len(mean_loss_train)), mean_loss_train, label=\"train\")\n",
        "        plt.plot(np.arange(len(mean_loss_test)), mean_loss_test, label=\"test\")\n",
        "        plt.legend()\n",
        "        plt.show()"
      ],
      "metadata": {
        "colab": {
          "base_uri": "https://localhost:8080/",
          "height": 1000
        },
        "id": "VN0Fbk6i6UEA",
        "outputId": "2aaa68c9-fb2a-4d82-af63-3082a4519b36"
      },
      "execution_count": null,
      "outputs": [
        {
          "output_type": "stream",
          "name": "stdout",
          "text": [
            "Epoch: 1/20\n"
          ]
        },
        {
          "output_type": "stream",
          "name": "stderr",
          "text": [
            "train: 100%|██████████| 634/634 [00:04<00:00, 134.49it/s]\n",
            "val: 100%|██████████| 100/100 [00:00<00:00, 221.52it/s]\n"
          ]
        },
        {
          "output_type": "stream",
          "name": "stdout",
          "text": [
            "Epoch: 2/20\n"
          ]
        },
        {
          "output_type": "stream",
          "name": "stderr",
          "text": [
            "train: 100%|██████████| 634/634 [00:04<00:00, 150.32it/s]\n",
            "val: 100%|██████████| 100/100 [00:00<00:00, 328.16it/s]\n"
          ]
        },
        {
          "output_type": "stream",
          "name": "stdout",
          "text": [
            "Epoch: 3/20\n"
          ]
        },
        {
          "output_type": "stream",
          "name": "stderr",
          "text": [
            "train: 100%|██████████| 634/634 [00:03<00:00, 200.11it/s]\n",
            "val: 100%|██████████| 100/100 [00:00<00:00, 327.32it/s]\n"
          ]
        },
        {
          "output_type": "stream",
          "name": "stdout",
          "text": [
            "Epoch: 4/20\n"
          ]
        },
        {
          "output_type": "stream",
          "name": "stderr",
          "text": [
            "train: 100%|██████████| 634/634 [00:03<00:00, 194.10it/s]\n",
            "val: 100%|██████████| 100/100 [00:00<00:00, 323.75it/s]\n"
          ]
        },
        {
          "output_type": "stream",
          "name": "stdout",
          "text": [
            "Epoch: 5/20\n"
          ]
        },
        {
          "output_type": "stream",
          "name": "stderr",
          "text": [
            "train: 100%|██████████| 634/634 [00:03<00:00, 196.10it/s]\n",
            "val: 100%|██████████| 100/100 [00:00<00:00, 341.34it/s]\n"
          ]
        },
        {
          "output_type": "display_data",
          "data": {
            "text/plain": [
              "<Figure size 432x288 with 1 Axes>"
            ],
            "image/png": "[encoded data removed]"
          },
          "metadata": {
            "needs_background": "light"
          }
        },
        {
          "output_type": "stream",
          "name": "stdout",
          "text": [
            "Epoch: 6/20\n"
          ]
        },
        {
          "output_type": "stream",
          "name": "stderr",
          "text": [
            "train: 100%|██████████| 634/634 [00:03<00:00, 198.32it/s]\n",
            "val: 100%|██████████| 100/100 [00:00<00:00, 328.97it/s]\n"
          ]
        },
        {
          "output_type": "stream",
          "name": "stdout",
          "text": [
            "Epoch: 7/20\n"
          ]
        },
        {
          "output_type": "stream",
          "name": "stderr",
          "text": [
            "train: 100%|██████████| 634/634 [00:03<00:00, 197.88it/s]\n",
            "val: 100%|██████████| 100/100 [00:00<00:00, 321.78it/s]\n"
          ]
        },
        {
          "output_type": "stream",
          "name": "stdout",
          "text": [
            "Epoch: 8/20\n"
          ]
        },
        {
          "output_type": "stream",
          "name": "stderr",
          "text": [
            "train: 100%|██████████| 634/634 [00:03<00:00, 197.23it/s]\n",
            "val: 100%|██████████| 100/100 [00:00<00:00, 315.18it/s]\n"
          ]
        },
        {
          "output_type": "stream",
          "name": "stdout",
          "text": [
            "Epoch: 9/20\n"
          ]
        },
        {
          "output_type": "stream",
          "name": "stderr",
          "text": [
            "train: 100%|██████████| 634/634 [00:03<00:00, 196.68it/s]\n",
            "val: 100%|██████████| 100/100 [00:00<00:00, 326.38it/s]\n"
          ]
        },
        {
          "output_type": "stream",
          "name": "stdout",
          "text": [
            "Epoch: 10/20\n"
          ]
        },
        {
          "output_type": "stream",
          "name": "stderr",
          "text": [
            "train: 100%|██████████| 634/634 [00:03<00:00, 196.64it/s]\n",
            "val: 100%|██████████| 100/100 [00:00<00:00, 314.67it/s]\n"
          ]
        },
        {
          "output_type": "display_data",
          "data": {
            "text/plain": [
              "<Figure size 432x288 with 1 Axes>"
            ],
            "image/png": "[encoded data removed]"
          },
          "metadata": {
            "needs_background": "light"
          }
        },
        {
          "output_type": "stream",
          "name": "stdout",
          "text": [
            "Epoch: 11/20\n"
          ]
        },
        {
          "output_type": "stream",
          "name": "stderr",
          "text": [
            "train: 100%|██████████| 634/634 [00:03<00:00, 198.08it/s]\n",
            "val: 100%|██████████| 100/100 [00:00<00:00, 332.32it/s]\n"
          ]
        },
        {
          "output_type": "stream",
          "name": "stdout",
          "text": [
            "Epoch: 12/20\n"
          ]
        },
        {
          "output_type": "stream",
          "name": "stderr",
          "text": [
            "train: 100%|██████████| 634/634 [00:03<00:00, 199.58it/s]\n",
            "val: 100%|██████████| 100/100 [00:00<00:00, 331.19it/s]\n"
          ]
        },
        {
          "output_type": "stream",
          "name": "stdout",
          "text": [
            "Epoch: 13/20\n"
          ]
        },
        {
          "output_type": "stream",
          "name": "stderr",
          "text": [
            "train: 100%|██████████| 634/634 [00:03<00:00, 198.93it/s]\n",
            "val: 100%|██████████| 100/100 [00:00<00:00, 309.05it/s]\n"
          ]
        },
        {
          "output_type": "stream",
          "name": "stdout",
          "text": [
            "Epoch: 14/20\n"
          ]
        },
        {
          "output_type": "stream",
          "name": "stderr",
          "text": [
            "train: 100%|██████████| 634/634 [00:03<00:00, 200.50it/s]\n",
            "val: 100%|██████████| 100/100 [00:00<00:00, 332.82it/s]\n"
          ]
        },
        {
          "output_type": "stream",
          "name": "stdout",
          "text": [
            "Epoch: 15/20\n"
          ]
        },
        {
          "output_type": "stream",
          "name": "stderr",
          "text": [
            "train: 100%|██████████| 634/634 [00:03<00:00, 199.16it/s]\n",
            "val: 100%|██████████| 100/100 [00:00<00:00, 301.13it/s]\n"
          ]
        },
        {
          "output_type": "display_data",
          "data": {
            "text/plain": [
              "<Figure size 432x288 with 1 Axes>"
            ],
            "image/png": "[encoded data removed]"
          },
          "metadata": {
            "needs_background": "light"
          }
        },
        {
          "output_type": "stream",
          "name": "stdout",
          "text": [
            "Epoch: 16/20\n"
          ]
        },
        {
          "output_type": "stream",
          "name": "stderr",
          "text": [
            "train: 100%|██████████| 634/634 [00:03<00:00, 198.14it/s]\n",
            "val: 100%|██████████| 100/100 [00:00<00:00, 338.05it/s]\n"
          ]
        },
        {
          "output_type": "stream",
          "name": "stdout",
          "text": [
            "Epoch: 17/20\n"
          ]
        },
        {
          "output_type": "stream",
          "name": "stderr",
          "text": [
            "train: 100%|██████████| 634/634 [00:03<00:00, 200.55it/s]\n",
            "val: 100%|██████████| 100/100 [00:00<00:00, 312.85it/s]\n"
          ]
        },
        {
          "output_type": "stream",
          "name": "stdout",
          "text": [
            "Epoch: 18/20\n"
          ]
        },
        {
          "output_type": "stream",
          "name": "stderr",
          "text": [
            "train: 100%|██████████| 634/634 [00:03<00:00, 170.34it/s]\n",
            "val: 100%|██████████| 100/100 [00:00<00:00, 319.36it/s]\n"
          ]
        },
        {
          "output_type": "stream",
          "name": "stdout",
          "text": [
            "Epoch: 19/20\n"
          ]
        },
        {
          "output_type": "stream",
          "name": "stderr",
          "text": [
            "train: 100%|██████████| 634/634 [00:03<00:00, 200.82it/s]\n",
            "val: 100%|██████████| 100/100 [00:00<00:00, 334.89it/s]\n"
          ]
        },
        {
          "output_type": "stream",
          "name": "stdout",
          "text": [
            "Epoch: 20/20\n"
          ]
        },
        {
          "output_type": "stream",
          "name": "stderr",
          "text": [
            "train: 100%|██████████| 634/634 [00:03<00:00, 196.47it/s]\n",
            "val: 100%|██████████| 100/100 [00:00<00:00, 319.09it/s]\n"
          ]
        },
        {
          "output_type": "display_data",
          "data": {
            "text/plain": [
              "<Figure size 432x288 with 1 Axes>"
            ],
            "image/png": "[encoded data removed]"
          },
          "metadata": {
            "needs_background": "light"
          }
        }
      ]
    },
    {
      "cell_type": "code",
      "source": [
        "PATH = \"/content/drive/MyDrive/ASR/CNN\"\n",
        "EPOCHS = 20\n",
        "LearningRate = 0.001\n",
        "EXPERIMENT_NAME = \"MLP_AUDIO\"\n",
        "\n",
        "\n",
        "model = MLP(hidden_features=256)\n",
        "opt = optim.AdamW(model.parameters(), lr=LearningRate)\n",
        "\n",
        "criterion = nn.CrossEntropyLoss()\n",
        "\n",
        "mean_loss_train = []\n",
        "mean_score_train = []\n",
        "\n",
        "mean_loss_test = []\n",
        "mean_score_test = []\n",
        "\n",
        "best_loss = float(\"inf\")\n",
        "best_score = 0\n",
        "for epoch in range(EPOCHS):\n",
        "    print(f\"Epoch: {epoch + 1}/{EPOCHS}\")\n",
        "    model.train().to(device)\n",
        "    running_loss = 0\n",
        "    running_score = 0\n",
        "    counter = 0\n",
        "    for data in tqdm(train_dataloader, desc=\"train\"):\n",
        "        target = data[\"target\"].to(device)\n",
        "        audio = data[\"audio\"].to(device)  # MLP\n",
        "        # audio = data[\"audio\"].to(device).unsqueeze(1) # CNN1D\n",
        "        opt.zero_grad()\n",
        "\n",
        "        preds = model(audio)\n",
        "        loss = criterion(preds, target)\n",
        "        loss.backward()\n",
        "\n",
        "        running_loss += loss.item() * len(data[\"audio\"])\n",
        "        counter += len(data[\"audio\"])\n",
        "\n",
        "        opt.step()\n",
        "\n",
        "        preds = preds.argmax(axis=1).cpu().detach().numpy()\n",
        "        target = target.cpu().detach().numpy()\n",
        "        running_score += f1_score(target, preds, average='macro')\n",
        "\n",
        "    mean_loss_train.append(running_loss / counter)\n",
        "    mean_score_train.append(running_score / len(train_dataloader))\n",
        "    #print('Loss/train', running_loss / counter)\n",
        "    #print('F1/train', running_score / counter)\n",
        "\n",
        "    with torch.no_grad():\n",
        "        model.eval().to(device)\n",
        "        running_loss = 0\n",
        "        running_score = 0\n",
        "        counter = 0\n",
        "        for data in tqdm(test_dataloader, desc=\"val\"):\n",
        "            target = data[\"target\"].to(device)\n",
        "            audio = data[\"audio\"].to(device)  # MLP\n",
        "            # audio = data[\"audio\"].to(device).unsqueeze(1) # CNN1D\n",
        "\n",
        "            preds = model(audio)\n",
        "            loss = criterion(preds, target)\n",
        "\n",
        "            running_loss += loss.item() * len(data[\"audio\"])\n",
        "            counter += len(data[\"audio\"])\n",
        "\n",
        "            preds = preds.argmax(axis=1).cpu().detach().numpy()\n",
        "            target = target.cpu().detach().numpy()\n",
        "            running_score += f1_score(target, preds, average='macro')\n",
        "\n",
        "\n",
        "    #print('F1/val', running_loss / counter)\n",
        "    #print('Loss/val', running_score / counter)\n",
        "    mean_loss_test.append(running_loss / counter)\n",
        "    mean_score_test.append(running_score / len(test_dataloader))\n",
        "\n",
        "    # if running_score > best_score and running_loss < best_loss:\n",
        "    #     best_score = running_score\n",
        "    #     best_loss = running_loss\n",
        "    #     torch.save(model.cpu().state_dict(), os.path.join(PATH, f\"{EXPERIMENT_NAME}_epoch_{epoch}.pt\"))\n",
        "    # elif running_score > best_score:\n",
        "    #     best_score = running_score\n",
        "    #     torch.save(model.cpu().state_dict(), os.path.join(PATH, f\"{EXPERIMENT_NAME}_epoch_{epoch}.pt\"))\n",
        "    # elif running_loss < best_loss:\n",
        "    #     best_loss = running_loss\n",
        "    #     torch.save(model.cpu().state_dict(), os.path.join(PATH, f\"{EXPERIMENT_NAME}_epoch_{epoch}.pt\"))\n",
        "    # elif epoch == EPOCHS - 1:\n",
        "    #     torch.save(model.cpu().state_dict(), os.path.join(PATH, f\"{EXPERIMENT_NAME}_epoch_{epoch}.pt\"))\n",
        "\n",
        "    if (epoch + 1) % 5 == 0:\n",
        "        plt.plot(np.arange(len(mean_loss_train)), mean_loss_train, label=\"train\")\n",
        "        plt.plot(np.arange(len(mean_loss_test)), mean_loss_test, label=\"test\")\n",
        "        plt.legend()\n",
        "        plt.show()"
      ],
      "metadata": {
        "colab": {
          "base_uri": "https://localhost:8080/",
          "height": 1000
        },
        "id": "ymNFoDi4WivC",
        "outputId": "f2a189f8-2e3e-4952-a677-76273855ebae"
      },
      "execution_count": null,
      "outputs": [
        {
          "output_type": "stream",
          "name": "stdout",
          "text": [
            "Epoch: 1/20\n"
          ]
        },
        {
          "output_type": "stream",
          "name": "stderr",
          "text": [
            "train: 100%|██████████| 634/634 [00:04<00:00, 135.47it/s]\n",
            "val: 100%|██████████| 100/100 [00:00<00:00, 121.02it/s]\n"
          ]
        },
        {
          "output_type": "stream",
          "name": "stdout",
          "text": [
            "Epoch: 2/20\n"
          ]
        },
        {
          "output_type": "stream",
          "name": "stderr",
          "text": [
            "train: 100%|██████████| 634/634 [00:04<00:00, 150.23it/s]\n",
            "val: 100%|██████████| 100/100 [00:00<00:00, 311.96it/s]\n"
          ]
        },
        {
          "output_type": "stream",
          "name": "stdout",
          "text": [
            "Epoch: 3/20\n"
          ]
        },
        {
          "output_type": "stream",
          "name": "stderr",
          "text": [
            "train: 100%|██████████| 634/634 [00:03<00:00, 197.31it/s]\n",
            "val: 100%|██████████| 100/100 [00:00<00:00, 332.64it/s]\n"
          ]
        },
        {
          "output_type": "stream",
          "name": "stdout",
          "text": [
            "Epoch: 4/20\n"
          ]
        },
        {
          "output_type": "stream",
          "name": "stderr",
          "text": [
            "train: 100%|██████████| 634/634 [00:03<00:00, 198.14it/s]\n",
            "val: 100%|██████████| 100/100 [00:00<00:00, 336.51it/s]\n"
          ]
        },
        {
          "output_type": "stream",
          "name": "stdout",
          "text": [
            "Epoch: 5/20\n"
          ]
        },
        {
          "output_type": "stream",
          "name": "stderr",
          "text": [
            "train: 100%|██████████| 634/634 [00:03<00:00, 205.88it/s]\n",
            "val: 100%|██████████| 100/100 [00:00<00:00, 250.02it/s]\n"
          ]
        },
        {
          "output_type": "display_data",
          "data": {
            "text/plain": [
              "<Figure size 432x288 with 1 Axes>"
            ],
            "image/png": "[encoded data removed]"
          },
          "metadata": {
            "needs_background": "light"
          }
        },
        {
          "output_type": "stream",
          "name": "stdout",
          "text": [
            "Epoch: 6/20\n"
          ]
        },
        {
          "output_type": "stream",
          "name": "stderr",
          "text": [
            "train: 100%|██████████| 634/634 [00:03<00:00, 196.81it/s]\n",
            "val: 100%|██████████| 100/100 [00:00<00:00, 328.20it/s]\n"
          ]
        },
        {
          "output_type": "stream",
          "name": "stdout",
          "text": [
            "Epoch: 7/20\n"
          ]
        },
        {
          "output_type": "stream",
          "name": "stderr",
          "text": [
            "train: 100%|██████████| 634/634 [00:03<00:00, 204.87it/s]\n",
            "val: 100%|██████████| 100/100 [00:00<00:00, 250.18it/s]\n"
          ]
        },
        {
          "output_type": "stream",
          "name": "stdout",
          "text": [
            "Epoch: 8/20\n"
          ]
        },
        {
          "output_type": "stream",
          "name": "stderr",
          "text": [
            "train: 100%|██████████| 634/634 [00:03<00:00, 200.79it/s]\n",
            "val: 100%|██████████| 100/100 [00:00<00:00, 246.39it/s]\n"
          ]
        },
        {
          "output_type": "stream",
          "name": "stdout",
          "text": [
            "Epoch: 9/20\n"
          ]
        },
        {
          "output_type": "stream",
          "name": "stderr",
          "text": [
            "train: 100%|██████████| 634/634 [00:03<00:00, 202.96it/s]\n",
            "val: 100%|██████████| 100/100 [00:00<00:00, 256.14it/s]\n"
          ]
        },
        {
          "output_type": "stream",
          "name": "stdout",
          "text": [
            "Epoch: 10/20\n"
          ]
        },
        {
          "output_type": "stream",
          "name": "stderr",
          "text": [
            "train: 100%|██████████| 634/634 [00:03<00:00, 204.91it/s]\n",
            "val: 100%|██████████| 100/100 [00:00<00:00, 320.35it/s]\n"
          ]
        },
        {
          "output_type": "display_data",
          "data": {
            "text/plain": [
              "<Figure size 432x288 with 1 Axes>"
            ],
            "image/png": "[encoded data removed]"
          },
          "metadata": {
            "needs_background": "light"
          }
        },
        {
          "output_type": "stream",
          "name": "stdout",
          "text": [
            "Epoch: 11/20\n"
          ]
        },
        {
          "output_type": "stream",
          "name": "stderr",
          "text": [
            "train: 100%|██████████| 634/634 [00:03<00:00, 201.89it/s]\n",
            "val: 100%|██████████| 100/100 [00:00<00:00, 326.30it/s]\n"
          ]
        },
        {
          "output_type": "stream",
          "name": "stdout",
          "text": [
            "Epoch: 12/20\n"
          ]
        },
        {
          "output_type": "stream",
          "name": "stderr",
          "text": [
            "train: 100%|██████████| 634/634 [00:03<00:00, 195.44it/s]\n",
            "val: 100%|██████████| 100/100 [00:00<00:00, 311.57it/s]\n"
          ]
        },
        {
          "output_type": "stream",
          "name": "stdout",
          "text": [
            "Epoch: 13/20\n"
          ]
        },
        {
          "output_type": "stream",
          "name": "stderr",
          "text": [
            "train: 100%|██████████| 634/634 [00:03<00:00, 198.76it/s]\n",
            "val: 100%|██████████| 100/100 [00:00<00:00, 329.14it/s]\n"
          ]
        },
        {
          "output_type": "stream",
          "name": "stdout",
          "text": [
            "Epoch: 14/20\n"
          ]
        },
        {
          "output_type": "stream",
          "name": "stderr",
          "text": [
            "train: 100%|██████████| 634/634 [00:03<00:00, 199.78it/s]\n",
            "val: 100%|██████████| 100/100 [00:00<00:00, 317.03it/s]\n"
          ]
        },
        {
          "output_type": "stream",
          "name": "stdout",
          "text": [
            "Epoch: 15/20\n"
          ]
        },
        {
          "output_type": "stream",
          "name": "stderr",
          "text": [
            "train: 100%|██████████| 634/634 [00:03<00:00, 196.92it/s]\n",
            "val: 100%|██████████| 100/100 [00:00<00:00, 322.18it/s]\n"
          ]
        },
        {
          "output_type": "display_data",
          "data": {
            "text/plain": [
              "<Figure size 432x288 with 1 Axes>"
            ],
            "image/png": "[encoded data removed]"
          },
          "metadata": {
            "needs_background": "light"
          }
        },
        {
          "output_type": "stream",
          "name": "stdout",
          "text": [
            "Epoch: 16/20\n"
          ]
        },
        {
          "output_type": "stream",
          "name": "stderr",
          "text": [
            "train: 100%|██████████| 634/634 [00:03<00:00, 198.33it/s]\n",
            "val: 100%|██████████| 100/100 [00:00<00:00, 315.78it/s]\n"
          ]
        },
        {
          "output_type": "stream",
          "name": "stdout",
          "text": [
            "Epoch: 17/20\n"
          ]
        },
        {
          "output_type": "stream",
          "name": "stderr",
          "text": [
            "train: 100%|██████████| 634/634 [00:03<00:00, 198.59it/s]\n",
            "val: 100%|██████████| 100/100 [00:00<00:00, 332.81it/s]\n"
          ]
        },
        {
          "output_type": "stream",
          "name": "stdout",
          "text": [
            "Epoch: 18/20\n"
          ]
        },
        {
          "output_type": "stream",
          "name": "stderr",
          "text": [
            "train: 100%|██████████| 634/634 [00:03<00:00, 197.71it/s]\n",
            "val: 100%|██████████| 100/100 [00:00<00:00, 304.10it/s]\n"
          ]
        },
        {
          "output_type": "stream",
          "name": "stdout",
          "text": [
            "Epoch: 19/20\n"
          ]
        },
        {
          "output_type": "stream",
          "name": "stderr",
          "text": [
            "train: 100%|██████████| 634/634 [00:03<00:00, 196.12it/s]\n",
            "val: 100%|██████████| 100/100 [00:00<00:00, 330.33it/s]\n"
          ]
        },
        {
          "output_type": "stream",
          "name": "stdout",
          "text": [
            "Epoch: 20/20\n"
          ]
        },
        {
          "output_type": "stream",
          "name": "stderr",
          "text": [
            "train: 100%|██████████| 634/634 [00:03<00:00, 196.39it/s]\n",
            "val: 100%|██████████| 100/100 [00:00<00:00, 306.45it/s]\n"
          ]
        },
        {
          "output_type": "display_data",
          "data": {
            "text/plain": [
              "<Figure size 432x288 with 1 Axes>"
            ],
            "image/png": "[encoded data removed]"
          },
          "metadata": {
            "needs_background": "light"
          }
        }
      ]
    },
    {
      "cell_type": "code",
      "source": [
        "# torch.save(model.cpu().state_dict(), os.path.join(\"/content/drive/MyDrive/ASR/Manual/audio_f10124.pt\"))"
      ],
      "metadata": {
        "id": "uyI6D21B53iq"
      },
      "execution_count": null,
      "outputs": []
    },
    {
      "cell_type": "code",
      "source": [
        "model = MLP(hidden_features=256)\n",
        "model.load_state_dict(torch.load(\"/content/drive/MyDrive/ASR/Manual/audio_f10124.pt\"))"
      ],
      "metadata": {
        "colab": {
          "base_uri": "https://localhost:8080/"
        },
        "id": "PNvnRnk-9u5A",
        "outputId": "353a20e2-11f8-4c91-feb6-e4402cde277e"
      },
      "execution_count": null,
      "outputs": [
        {
          "output_type": "execute_result",
          "data": {
            "text/plain": [
              "<All keys matched successfully>"
            ]
          },
          "metadata": {},
          "execution_count": 113
        }
      ]
    },
    {
      "cell_type": "code",
      "source": [
        "predictions = []\n",
        "gt = []\n",
        "with torch.no_grad():\n",
        "    model.eval().to(device)\n",
        "    running_loss = 0\n",
        "    running_score = 0\n",
        "    counter = 0\n",
        "    for data in tqdm(test_dataloader, desc=\"val\"):\n",
        "        target = data[\"target\"].to(device)\n",
        "        audio = data[\"audio\"].to(device)  # MLP\n",
        "        # audio = data[\"audio\"].to(device).unsqueeze(1) # CNN1D\n",
        "\n",
        "        preds = model(audio)\n",
        "\n",
        "        preds = preds.argmax(axis=1).cpu().detach().numpy()\n",
        "        predictions.extend(list(preds))\n",
        "        target = target.cpu().detach().numpy()\n",
        "        gt.extend(list(target))"
      ],
      "metadata": {
        "id": "625kFVRNaRC_",
        "colab": {
          "base_uri": "https://localhost:8080/"
        },
        "outputId": "ab29da5f-42ad-4e95-dad4-ebd86a15c87b"
      },
      "execution_count": null,
      "outputs": [
        {
          "output_type": "stream",
          "name": "stderr",
          "text": [
            "val: 100%|██████████| 100/100 [00:00<00:00, 286.72it/s]\n"
          ]
        }
      ]
    },
    {
      "cell_type": "code",
      "source": [
        "f1_score(gt, predictions, average='macro')"
      ],
      "metadata": {
        "colab": {
          "base_uri": "https://localhost:8080/"
        },
        "id": "hzUoVVFi6pCZ",
        "outputId": "e9ec7062-b933-42e8-843e-be6cdc570794"
      },
      "execution_count": null,
      "outputs": [
        {
          "output_type": "execute_result",
          "data": {
            "text/plain": [
              "0.12423691389155031"
            ]
          },
          "metadata": {},
          "execution_count": 95
        }
      ]
    },
    {
      "cell_type": "code",
      "source": [
        "softmax = nn.Softmax(dim=1) \n",
        "\n",
        "predictions = []\n",
        "gt = []\n",
        "with torch.no_grad():\n",
        "    model.eval().to(device)\n",
        "    running_loss = 0\n",
        "    running_score = 0\n",
        "    counter = 0\n",
        "    for data in tqdm(test_dataloader, desc=\"val\"):\n",
        "        target = data[\"target\"].to(device)\n",
        "        audio = data[\"audio\"].to(device)  # MLP\n",
        "        # audio = data[\"audio\"].to(device).unsqueeze(1) # CNN1D\n",
        "\n",
        "        preds = model(audio)\n",
        "\n",
        "        preds = softmax(preds.cpu()).detach().numpy()\n",
        "        predictions.extend(np.array(preds))\n",
        "        target = target.cpu().detach().numpy()\n",
        "        gt.extend(list(target))"
      ],
      "metadata": {
        "colab": {
          "base_uri": "https://localhost:8080/"
        },
        "id": "Ge_ALPoDVYEp",
        "outputId": "e162f8bd-5921-4c9c-e8a1-c796eaf7f50c"
      },
      "execution_count": null,
      "outputs": [
        {
          "output_type": "stream",
          "name": "stderr",
          "text": [
            "val: 100%|██████████| 100/100 [00:00<00:00, 277.07it/s]\n"
          ]
        }
      ]
    },
    {
      "cell_type": "code",
      "source": [
        "roc_auc_score(gt, predictions, average='macro', multi_class=\"ovr\")"
      ],
      "metadata": {
        "colab": {
          "base_uri": "https://localhost:8080/"
        },
        "id": "eDxNl-NRVz5z",
        "outputId": "6a1b9b2a-6369-4965-ab41-35593a02d651"
      },
      "execution_count": null,
      "outputs": [
        {
          "output_type": "execute_result",
          "data": {
            "text/plain": [
              "0.7735017869236935"
            ]
          },
          "metadata": {},
          "execution_count": 117
        }
      ]
    },
    {
      "cell_type": "code",
      "source": [
        "roc_auc_score(gt, predictions, average='macro', multi_class=\"ovo\")"
      ],
      "metadata": {
        "colab": {
          "base_uri": "https://localhost:8080/"
        },
        "id": "_U7GOYVZV00j",
        "outputId": "d3fb96ed-d415-43c3-ea48-669d655186f0"
      },
      "execution_count": null,
      "outputs": [
        {
          "output_type": "execute_result",
          "data": {
            "text/plain": [
              "0.7713241159744334"
            ]
          },
          "metadata": {},
          "execution_count": 118
        }
      ]
    },
    {
      "cell_type": "code",
      "source": [
        "roc_auc_score(gt, predictions, multi_class=\"ovr\")"
      ],
      "metadata": {
        "colab": {
          "base_uri": "https://localhost:8080/"
        },
        "id": "8rhexIKcYCxo",
        "outputId": "ef638d0a-e966-4852-af7d-8e1663b28bf4"
      },
      "execution_count": null,
      "outputs": [
        {
          "output_type": "execute_result",
          "data": {
            "text/plain": [
              "0.7735017869236935"
            ]
          },
          "metadata": {},
          "execution_count": 119
        }
      ]
    },
    {
      "cell_type": "code",
      "source": [
        "roc_auc_score(gt, predictions, multi_class=\"ovo\")"
      ],
      "metadata": {
        "colab": {
          "base_uri": "https://localhost:8080/"
        },
        "id": "oSxCr5_DYJmA",
        "outputId": "2bc940e7-2561-40c8-c249-70647444fab1"
      },
      "execution_count": null,
      "outputs": [
        {
          "output_type": "execute_result",
          "data": {
            "text/plain": [
              "0.7713241159744334"
            ]
          },
          "metadata": {},
          "execution_count": 120
        }
      ]
    },
    {
      "cell_type": "code",
      "source": [
        "class Model1D(nn.Module):\n",
        "    def __init__(\n",
        "        self,\n",
        "        input: int,\n",
        "        hidden: int,\n",
        "        classes: int\n",
        "    ):\n",
        "        super(Model1D, self).__init__()\n",
        "        self.norm0 = nn.BatchNorm1d(input)\n",
        "        self.conv1 = nn.Conv1d(in_channels=input, out_channels=hidden, kernel_size=5)\n",
        "        self.norm1 = nn.BatchNorm1d(hidden)\n",
        "        self.relu1 = nn.ReLU()\n",
        "        self.conv2 = nn.Conv1d(in_channels=hidden, out_channels=2 * hidden, kernel_size=5)\n",
        "        self.norm2 = nn.BatchNorm1d(2 * hidden)\n",
        "        self.relu2 = nn.ReLU()\n",
        "        self.pool1 = nn.MaxPool1d(kernel_size=4, stride=4)\n",
        "        self.conv3 = nn.Conv1d(in_channels=2 * hidden, out_channels=3 * hidden, kernel_size=5)\n",
        "        self.norm3 = nn.BatchNorm1d(3 * hidden)\n",
        "        self.relu3 = nn.ReLU()\n",
        "        self.pool2 = nn.MaxPool1d(kernel_size=4, stride=4)\n",
        "        self.conv4 = nn.Conv1d(in_channels=3 * hidden, out_channels=3 * hidden, kernel_size=5)\n",
        "        self.norm4 = nn.BatchNorm1d(3 * hidden)\n",
        "        self.relu4 = nn.ReLU()\n",
        "        self.avgpool = nn.AdaptiveMaxPool1d(1)\n",
        "        self.fc = nn.Linear(in_features=240, out_features=classes)\n",
        "\n",
        "\n",
        "    def forward(self, x):\n",
        "        x = self.norm0(x)\n",
        "        x = self.conv1(x)\n",
        "        x = self.norm1(x)\n",
        "        x = self.relu1(x)\n",
        "        x = self.conv2(x)\n",
        "        x = x.flatten(1)\n",
        "        return self.fc(x)\n",
        "model = Model1D(1, 1, 52).to(device)\n",
        "\n"
      ],
      "metadata": {
        "id": "vpczIb8a-5FH"
      },
      "execution_count": null,
      "outputs": []
    },
    {
      "cell_type": "code",
      "source": [
        "PATH = \"/content/drive/MyDrive/ASR/CNN\"\n",
        "EPOCHS = 5\n",
        "LearningRate = 0.001\n",
        "EXPERIMENT_NAME = \"CNN1D_AUDIO\"\n",
        "\n",
        "\n",
        "#model = Model1D(1, 128, 52).to(device)\n",
        "opt = optim.Adam(model.parameters(), lr=LearningRate)\n",
        "\n",
        "criterion = nn.CrossEntropyLoss()\n",
        "\n",
        "mean_loss_train = []\n",
        "mean_score_train = []\n",
        "\n",
        "mean_loss_test = []\n",
        "mean_score_test = []\n",
        "\n",
        "best_loss = float(\"inf\")\n",
        "best_score = 0\n",
        "for epoch in range(EPOCHS):\n",
        "    print(f\"Epoch: {epoch + 1}/{EPOCHS}\")\n",
        "    model.train().to(device)\n",
        "    running_loss = 0\n",
        "    running_score = 0\n",
        "    counter = 0\n",
        "    for data in tqdm(train_dataloader, desc=\"train\"):\n",
        "        target = data[\"target\"].to(device)\n",
        "        # audio = data[\"audio\"].to(device)  # MLP\n",
        "        audio = data[\"audio\"].to(device).unsqueeze(1) # CNN1D\n",
        "        opt.zero_grad()\n",
        "\n",
        "        preds = model(audio)\n",
        "        loss = criterion(preds, target)\n",
        "        loss.backward()\n",
        "\n",
        "        running_loss += loss.item() * len(data[\"audio\"])\n",
        "        counter += len(data[\"audio\"])\n",
        "\n",
        "        opt.step()\n",
        "\n",
        "        preds = preds.argmax(axis=1).cpu().detach().numpy()\n",
        "        target = target.cpu().detach().numpy()\n",
        "        running_score += f1_score(target, preds, average='macro')\n",
        "\n",
        "    mean_loss_train.append(running_loss / counter)\n",
        "    mean_score_train.append(running_score / len(train_dataloader))\n",
        "    #print('Loss/train', running_loss / counter)\n",
        "    #print('F1/train', running_score / counter)\n",
        "\n",
        "    with torch.no_grad():\n",
        "        model.eval().to(device)\n",
        "        running_loss = 0\n",
        "        running_score = 0\n",
        "        counter = 0\n",
        "        for data in tqdm(test_dataloader, desc=\"val\"):\n",
        "            target = data[\"target\"].to(device)\n",
        "            #audio = data[\"audio\"].to(device)  # MLP\n",
        "            audio = data[\"audio\"].to(device).unsqueeze(1) # CNN1D\n",
        "\n",
        "            preds = model(audio)\n",
        "            loss = criterion(preds, target)\n",
        "\n",
        "            running_loss += loss.item() * len(data[\"audio\"])\n",
        "            counter += len(data[\"audio\"])\n",
        "\n",
        "            preds = preds.argmax(axis=1).cpu().detach().numpy()\n",
        "            target = target.cpu().detach().numpy()\n",
        "            running_score += f1_score(target, preds, average='macro')\n",
        "\n",
        "\n",
        "    #print('F1/val', running_loss / counter)\n",
        "    #print('Loss/val', running_score / counter)\n",
        "    mean_loss_test.append(running_loss / counter)\n",
        "    mean_score_test.append(running_score / len(test_dataloader))\n",
        "\n",
        "    if running_score > best_score and running_loss < best_loss:\n",
        "        best_score = running_score\n",
        "        best_loss = running_loss\n",
        "        torch.save(model.cpu().state_dict(), os.path.join(PATH, f\"{EXPERIMENT_NAME}_epoch_{epoch}.pt\"))\n",
        "    elif running_score > best_score:\n",
        "        best_score = running_score\n",
        "        torch.save(model.cpu().state_dict(), os.path.join(PATH, f\"{EXPERIMENT_NAME}_epoch_{epoch}.pt\"))\n",
        "    elif running_loss < best_loss:\n",
        "        best_loss = running_loss\n",
        "        torch.save(model.cpu().state_dict(), os.path.join(PATH, f\"{EXPERIMENT_NAME}_epoch_{epoch}.pt\"))\n",
        "    elif epoch == EPOCHS - 1:\n",
        "        torch.save(model.cpu().state_dict(), os.path.join(PATH, f\"{EXPERIMENT_NAME}_epoch_{epoch}.pt\"))\n",
        "\n",
        "    if (epoch + 1) % 5 == 0:\n",
        "        plt.plot(np.arange(len(mean_loss_train)), mean_loss_train, label=\"train\")\n",
        "        plt.plot(np.arange(len(mean_loss_test)), mean_loss_test, label=\"test\")\n",
        "        plt.legend()\n",
        "        plt.show()"
      ],
      "metadata": {
        "id": "BeYx1yhIYKgQ"
      },
      "execution_count": null,
      "outputs": []
    },
    {
      "cell_type": "code",
      "source": [
        "predictions = []\n",
        "gt = []\n",
        "with torch.no_grad():\n",
        "    model.eval().to(device)\n",
        "    running_loss = 0\n",
        "    running_score = 0\n",
        "    counter = 0\n",
        "    for data in tqdm(test_dataloader, desc=\"val\"):\n",
        "        target = data[\"target\"].to(device)\n",
        "        # audio = data[\"audio\"].to(device)  # MLP\n",
        "        audio = data[\"audio\"].to(device).unsqueeze(1) # CNN1D\n",
        "\n",
        "        preds = model(audio)\n",
        "\n",
        "        preds = preds.argmax(axis=1).cpu().detach().numpy()\n",
        "        predictions.extend(list(preds))\n",
        "        target = target.cpu().detach().numpy()\n",
        "        gt.extend(list(target))"
      ],
      "metadata": {
        "colab": {
          "base_uri": "https://localhost:8080/"
        },
        "id": "AJzRN5GIZJbi",
        "outputId": "5897462e-4888-40bf-ef4c-217b84f01d2a"
      },
      "execution_count": null,
      "outputs": [
        {
          "output_type": "stream",
          "name": "stderr",
          "text": [
            "val: 100%|██████████| 100/100 [00:00<00:00, 285.48it/s]\n"
          ]
        }
      ]
    },
    {
      "cell_type": "code",
      "source": [
        "f1_score(gt, predictions, average='macro')"
      ],
      "metadata": {
        "colab": {
          "base_uri": "https://localhost:8080/"
        },
        "id": "3A-7ivKuazs8",
        "outputId": "afe4c3a4-a96e-4a4a-9b69-668b38e5ec54"
      },
      "execution_count": null,
      "outputs": [
        {
          "output_type": "execute_result",
          "data": {
            "text/plain": [
              "0.10121471097259066"
            ]
          },
          "metadata": {},
          "execution_count": 163
        }
      ]
    },
    {
      "cell_type": "code",
      "source": [
        "softmax = nn.Softmax(dim=1) \n",
        "\n",
        "predictions = []\n",
        "gt = []\n",
        "with torch.no_grad():\n",
        "    model.eval().to(device)\n",
        "    running_loss = 0\n",
        "    running_score = 0\n",
        "    counter = 0\n",
        "    for data in tqdm(test_dataloader, desc=\"val\"):\n",
        "        target = data[\"target\"].to(device)\n",
        "        # audio = data[\"audio\"].to(device)  # MLP\n",
        "        audio = data[\"audio\"].to(device).unsqueeze(1) # CNN1D\n",
        "\n",
        "        preds = model(audio)\n",
        "\n",
        "        preds = softmax(preds.cpu()).detach().numpy()\n",
        "        predictions.extend(np.array(preds))\n",
        "        target = target.cpu().detach().numpy()\n",
        "        gt.extend(list(target))"
      ],
      "metadata": {
        "colab": {
          "base_uri": "https://localhost:8080/"
        },
        "id": "uiTnARDPa27U",
        "outputId": "daba1fce-72c5-4b4e-e664-10742337cc92"
      },
      "execution_count": null,
      "outputs": [
        {
          "output_type": "stream",
          "name": "stderr",
          "text": [
            "val: 100%|██████████| 100/100 [00:00<00:00, 363.46it/s]\n"
          ]
        }
      ]
    },
    {
      "cell_type": "code",
      "source": [
        "roc_auc_score(gt, predictions, average='macro', multi_class=\"ovr\")"
      ],
      "metadata": {
        "colab": {
          "base_uri": "https://localhost:8080/"
        },
        "id": "g7n2b1tCa5w0",
        "outputId": "0f12e1e9-0331-4163-fa5b-990c1e13e318"
      },
      "execution_count": null,
      "outputs": [
        {
          "output_type": "execute_result",
          "data": {
            "text/plain": [
              "0.7614637577897934"
            ]
          },
          "metadata": {},
          "execution_count": 165
        }
      ]
    },
    {
      "cell_type": "code",
      "source": [
        "roc_auc_score(gt, predictions, average='macro', multi_class=\"ovo\")"
      ],
      "metadata": {
        "colab": {
          "base_uri": "https://localhost:8080/"
        },
        "id": "hoYT4kIxa_fl",
        "outputId": "e9fa1dd7-3426-487f-bc95-35890726213d"
      },
      "execution_count": null,
      "outputs": [
        {
          "output_type": "execute_result",
          "data": {
            "text/plain": [
              "0.7594232328927221"
            ]
          },
          "metadata": {},
          "execution_count": 166
        }
      ]
    },
    {
      "cell_type": "code",
      "source": [
        "roc_auc_score(gt, predictions, multi_class=\"ovr\")"
      ],
      "metadata": {
        "colab": {
          "base_uri": "https://localhost:8080/"
        },
        "id": "jNTYN2gka_7c",
        "outputId": "0d500296-5791-41fb-ec6d-e4e9db32066a"
      },
      "execution_count": null,
      "outputs": [
        {
          "output_type": "execute_result",
          "data": {
            "text/plain": [
              "0.7614637577897934"
            ]
          },
          "metadata": {},
          "execution_count": 167
        }
      ]
    },
    {
      "cell_type": "code",
      "source": [
        "roc_auc_score(gt, predictions, multi_class=\"ovo\")"
      ],
      "metadata": {
        "colab": {
          "base_uri": "https://localhost:8080/"
        },
        "id": "RJqjqlfGbBms",
        "outputId": "521e99ab-07b7-4226-80da-dbc1d7e40512"
      },
      "execution_count": null,
      "outputs": [
        {
          "output_type": "execute_result",
          "data": {
            "text/plain": [
              "0.7594232328927221"
            ]
          },
          "metadata": {},
          "execution_count": 168
        }
      ]
    },
    {
      "cell_type": "code",
      "source": [],
      "metadata": {
        "id": "wt_3R8HcbDSc"
      },
      "execution_count": null,
      "outputs": []
    },
    {
      "cell_type": "code",
      "source": [],
      "metadata": {
        "id": "3B1r9I8ybJfx"
      },
      "execution_count": null,
      "outputs": []
    },
    {
      "cell_type": "code",
      "source": [
        "columns = ['clipTarget', 'date']\n",
        "df = pd.DataFrame(columns=['clipTarget', \"video\"])\n",
        "for i in range(7):\n",
        "    csv_filepath = f\"/content/drive/MyDrive/ASR/0000{i}.csv\"\n",
        "    audio_filepath = f\"/content/drive/MyDrive/ASR/ContentEmbedding/0000{i}.npy\"\n",
        "    temp = pd.read_csv(csv_filepath)\n",
        "    temp = temp[columns]\n",
        "    temp[\"video\"] = load(audio_filepath)\n",
        "    df = pd.concat([df, temp], ignore_index=True)\n",
        "    df = df.reset_index(drop=True)\n",
        "df = df.sort_values(by=['date'], ascending=True)\n",
        "df = df.reset_index(drop=True)\n",
        "\n",
        "df_train = df.iloc[:324160, :]\n",
        "df_train = df_train.reset_index(drop=True)\n",
        "\n",
        "\n",
        "df_test = df.iloc[324160:, :]\n",
        "df_test = df_test.reset_index(drop=True)\n",
        "del df\n",
        "\n",
        "\n",
        "class CLIPDataset(Dataset):\n",
        "    def __init__(self, video, target, classes: str = \"/content/drive/MyDrive/ASR/classes.json\"):\n",
        "        self.video = video\n",
        "        self.target = target\n",
        "        self.cat = self.read(classes)\n",
        "\n",
        "    def __getitem__(self, item):\n",
        "        return {\n",
        "            \"video\": torch.from_numpy(self.video[item]),\n",
        "            \"target\": self.cat[self.target[item]]\n",
        "        }\n",
        "\n",
        "    def __len__(self):\n",
        "        return len(self.target)\n",
        "\n",
        "    @staticmethod\n",
        "    def read(filename: str):\n",
        "        with open(filename, \"r\") as f:\n",
        "            data = json.load(f)\n",
        "        return data\n",
        "\n",
        "\n",
        "BATCH_SIZE = 512\n",
        "\n",
        "device = torch.device(\"cuda:0\" if torch.cuda.is_available() else \"cpu\")\n",
        "\n",
        "train_dataset = CLIPDataset(df_train[\"video\"].to_list(), df_train[\"clipTarget\"].to_list())\n",
        "train_dataloader = DataLoader(\n",
        "    dataset=train_dataset, batch_size=BATCH_SIZE, shuffle=True\n",
        ")\n",
        "\n",
        "test_dataset = CLIPDataset(df_test[\"video\"].to_list(), df_test[\"clipTarget\"].to_list())\n",
        "test_dataloader = DataLoader(\n",
        "    dataset=test_dataset, batch_size=BATCH_SIZE, shuffle=False\n",
        ")"
      ],
      "metadata": {
        "id": "k0PaqUCpbJiy"
      },
      "execution_count": null,
      "outputs": []
    },
    {
      "cell_type": "code",
      "source": [
        "class MLP(nn.Module): # f1-score 0.124\n",
        "    def __init__(\n",
        "            self,\n",
        "            in_features: int = 128,\n",
        "            hidden_features: int = 256,\n",
        "            out_features: int = 52,\n",
        "            num_layers: int = 1,\n",
        "            dropout_prob: float = 0.1,\n",
        "            bn: bool = True\n",
        "    ):\n",
        "        super(MLP, self).__init__()\n",
        "        #self.bn = bn\n",
        "        self.bn1 = nn.BatchNorm1d(in_features)\n",
        "        self.fc1 = nn.Linear(in_features=in_features, out_features=hidden_features)\n",
        "        self.act1 = nn.ReLU()\n",
        "        self.bn2 = nn.BatchNorm1d(hidden_features)\n",
        "        self.dropout1 = nn.Dropout(dropout_prob)\n",
        "        self.fc2 = nn.Linear(in_features=hidden_features, out_features=hidden_features)\n",
        "        self.dropout2 = nn.Dropout(dropout_prob)\n",
        "        self.fc3 = nn.Linear(in_features=hidden_features, out_features=out_features)\n",
        "\n",
        "\n",
        "    def forward(self, x):\n",
        "        # x = self.dropout1(x)\n",
        "        # x = self.bn1(x)\n",
        "        x = self.fc1(x)\n",
        "        x = self.bn2(x)\n",
        "        x = self.act1(x)\n",
        "        #x = self.dropout2(x)\n",
        "        return self.fc3(x)\n",
        "\n",
        "class Flatten2(nn.Module):\n",
        "    \"\"\"\n",
        "    Takes a vector of shape (A, B, C, D, E, ...)\n",
        "    and flattens everything but the first two dimensions, \n",
        "    giving a result of shape (A, B, C*D*E*...)\n",
        "    \"\"\"\n",
        "    def forward(self, input):\n",
        "        return input.view(input.size(0), 1, -1)\n",
        "\n",
        "\n",
        "class Combiner(nn.Module):\n",
        "    \"\"\"\n",
        "    This class is used to combine a feature exraction network F and a importance prediction network W,\n",
        "    and combine their outputs by adding and summing them together. \n",
        "    \"\"\"\n",
        "\n",
        "    def __init__(self, featureExtraction, weightSelection):\n",
        "        \"\"\"\n",
        "        featureExtraction: a network that takes an input of shape (B, T, D) and outputs a new \n",
        "            representation of shape (B, T, D'). \n",
        "        weightSelection: a network that takes in an input of shape (B, T, D') and outputs a \n",
        "            tensor of shape (B, T, 1) or (B, T). It should be normalized, so that the T \n",
        "            values at the end sum to one (torch.sum(_, dim=1) = 1.0)\n",
        "        \"\"\"\n",
        "        super(Combiner, self).__init__()\n",
        "        self.featureExtraction = featureExtraction\n",
        "        self.weightSelection = weightSelection\n",
        "    \n",
        "    def forward(self, input):\n",
        "        \"\"\"\n",
        "        input: a tensor of shape (B, T, D)\n",
        "        return: a new tensor of shape (B, D')\n",
        "        \"\"\"\n",
        "        features = self.featureExtraction(input) #(B, T, D) $\\boldsymbol{h}_i = F(\\boldsymbol{x}_i)$\n",
        "        weights = self.weightSelection(features) #(B, T) or (B, T, 1) for $\\boldsymbol{\\alpha}$\n",
        "        if len(weights.shape) == 2: #(B, T) shape\n",
        "            weights.unsqueese(2) #now (B, T, 1) shape\n",
        "        \n",
        "        r = features*weights #(B, T, D), computes $\\alpha_i \\cdot \\boldsymbol{h}_i$\n",
        "        \n",
        "        return torch.sum(r, dim=1) #sum over the T dimension, giving (B, D) final shape $\\bar{\\boldsymbol{x}}$\n",
        "\n",
        "T = 1\n",
        "D = 1024\n",
        "neurons = 128\n",
        "classes = 52\n",
        "\n",
        "backboneNetwork = nn.Sequential(\n",
        "    Flatten2(),# Shape is now (B, T, D)\n",
        "    nn.Linear(D, neurons), #Shape becomes (B, T, neurons)\n",
        "    nn.LeakyReLU(),\n",
        "    nn.Linear(neurons, neurons),\n",
        "    nn.LeakyReLU(), #still (B, T, neurons) on the way out\n",
        ")\n",
        "\n",
        "attentionMechanism = nn.Sequential(\n",
        "    #Shape is (B, T, neurons)\n",
        "    nn.Linear(neurons,neurons),\n",
        "    nn.LeakyReLU(),\n",
        "    nn.Linear(neurons, 1), # (B, T, 1)\n",
        "    nn.Softmax(dim=1),\n",
        ")\n",
        "\n",
        "model = nn.Sequential(\n",
        "    #input is (B, T, C, W, H). backbone & attention will be used by combiner to process\n",
        "    Combiner(backboneNetwork, attentionMechanism), # result is (B, neurons)\n",
        "    nn.BatchNorm1d(neurons),\n",
        "    nn.Linear(neurons, classes)\n",
        ")"
      ],
      "metadata": {
        "id": "dEo8QEuVKdVq"
      },
      "execution_count": null,
      "outputs": []
    },
    {
      "cell_type": "code",
      "source": [
        "PATH = \"/content/drive/MyDrive/ASR/CNN\"\n",
        "EPOCHS = 5\n",
        "LearningRate = 0.001\n",
        "EXPERIMENT_NAME = \"MLP_VIDEO\"\n",
        "\n",
        "\n",
        "#model = MLP(1024, 64)\n",
        "opt = optim.Adam(model.parameters(), lr=LearningRate)\n",
        "\n",
        "criterion = nn.CrossEntropyLoss()\n",
        "\n",
        "mean_loss_train = []\n",
        "mean_score_train = []\n",
        "\n",
        "mean_loss_test = []\n",
        "mean_score_test = []\n",
        "\n",
        "best_loss = float(\"inf\")\n",
        "best_score = 0\n",
        "for epoch in range(EPOCHS):\n",
        "    print(f\"Epoch: {epoch + 1}/{EPOCHS}\")\n",
        "    model.train().to(device)\n",
        "    running_loss = 0\n",
        "    running_score = 0\n",
        "    counter = 0\n",
        "    for data in tqdm(train_dataloader, desc=\"train\"):\n",
        "        target = data[\"target\"].to(device)\n",
        "        audio = data[\"video\"].to(device)  # MLP\n",
        "        # audio = data[\"audio\"].to(device).unsqueeze(1) # CNN1D\n",
        "        opt.zero_grad()\n",
        "\n",
        "        preds = model(audio)\n",
        "        loss = criterion(preds, target)\n",
        "        loss.backward()\n",
        "\n",
        "        running_loss += loss.item() * len(data[\"video\"])\n",
        "        counter += len(data[\"video\"])\n",
        "\n",
        "        opt.step()\n",
        "\n",
        "        preds = preds.argmax(axis=1).cpu().detach().numpy()\n",
        "        target = target.cpu().detach().numpy()\n",
        "        running_score += f1_score(target, preds, average='macro')\n",
        "\n",
        "    mean_loss_train.append(running_loss / counter)\n",
        "    mean_score_train.append(running_score / len(train_dataloader))\n",
        "    #print('Loss/train', running_loss / counter)\n",
        "    #print('F1/train', running_score / counter)\n",
        "\n",
        "    with torch.no_grad():\n",
        "        model.eval().to(device)\n",
        "        running_loss = 0\n",
        "        running_score = 0\n",
        "        counter = 0\n",
        "        for data in tqdm(test_dataloader, desc=\"val\"):\n",
        "            target = data[\"target\"].to(device)\n",
        "            audio = data[\"video\"].to(device)  # MLP\n",
        "            # audio = data[\"audio\"].to(device).unsqueeze(1) # CNN1D\n",
        "\n",
        "            preds = model(audio)\n",
        "            loss = criterion(preds, target)\n",
        "\n",
        "            running_loss += loss.item() * len(data[\"video\"])\n",
        "            counter += len(data[\"video\"])\n",
        "\n",
        "            preds = preds.argmax(axis=1).cpu().detach().numpy()\n",
        "            target = target.cpu().detach().numpy()\n",
        "            running_score += f1_score(target, preds, average='macro')\n",
        "\n",
        "\n",
        "    #print('F1/val', running_loss / counter)\n",
        "    #print('Loss/val', running_score / counter)\n",
        "    mean_loss_test.append(running_loss / counter)\n",
        "    mean_score_test.append(running_score / len(test_dataloader))\n",
        "\n",
        "    # if running_score > best_score and running_loss < best_loss:\n",
        "    #     best_score = running_score\n",
        "    #     best_loss = running_loss\n",
        "    #     torch.save(model.cpu().state_dict(), os.path.join(PATH, f\"{EXPERIMENT_NAME}_epoch_{epoch}.pt\"))\n",
        "    # elif running_score > best_score:\n",
        "    #     best_score = running_score\n",
        "    #     torch.save(model.cpu().state_dict(), os.path.join(PATH, f\"{EXPERIMENT_NAME}_epoch_{epoch}.pt\"))\n",
        "    # elif running_loss < best_loss:\n",
        "    #     best_loss = running_loss\n",
        "    #     torch.save(model.cpu().state_dict(), os.path.join(PATH, f\"{EXPERIMENT_NAME}_epoch_{epoch}.pt\"))\n",
        "    # elif epoch == EPOCHS - 1:\n",
        "    #     torch.save(model.cpu().state_dict(), os.path.join(PATH, f\"{EXPERIMENT_NAME}_epoch_{epoch}.pt\"))\n",
        "\n",
        "    if (epoch + 1) % 5 == 0 or (epoch + 1) == EPOCHS:\n",
        "        plt.plot(np.arange(len(mean_loss_train)), mean_loss_train, label=\"train\")\n",
        "        plt.plot(np.arange(len(mean_loss_test)), mean_loss_test, label=\"test\")\n",
        "        plt.legend()\n",
        "        plt.show()"
      ],
      "metadata": {
        "colab": {
          "base_uri": "https://localhost:8080/",
          "height": 539
        },
        "id": "upGV8HMcbPqz",
        "outputId": "a22d5354-18b3-4003-df87-fc02910f06dc"
      },
      "execution_count": null,
      "outputs": [
        {
          "output_type": "stream",
          "name": "stdout",
          "text": [
            "Epoch: 1/5\n"
          ]
        },
        {
          "output_type": "stream",
          "name": "stderr",
          "text": [
            "train: 100%|██████████| 634/634 [00:06<00:00, 97.33it/s] \n",
            "val: 100%|██████████| 100/100 [00:00<00:00, 219.24it/s]\n"
          ]
        },
        {
          "output_type": "stream",
          "name": "stdout",
          "text": [
            "Epoch: 2/5\n"
          ]
        },
        {
          "output_type": "stream",
          "name": "stderr",
          "text": [
            "train: 100%|██████████| 634/634 [00:04<00:00, 133.94it/s]\n",
            "val: 100%|██████████| 100/100 [00:00<00:00, 177.28it/s]\n"
          ]
        },
        {
          "output_type": "stream",
          "name": "stdout",
          "text": [
            "Epoch: 3/5\n"
          ]
        },
        {
          "output_type": "stream",
          "name": "stderr",
          "text": [
            "train: 100%|██████████| 634/634 [00:04<00:00, 132.22it/s]\n",
            "val: 100%|██████████| 100/100 [00:00<00:00, 184.62it/s]\n"
          ]
        },
        {
          "output_type": "stream",
          "name": "stdout",
          "text": [
            "Epoch: 4/5\n"
          ]
        },
        {
          "output_type": "stream",
          "name": "stderr",
          "text": [
            "train: 100%|██████████| 634/634 [00:04<00:00, 133.18it/s]\n",
            "val: 100%|██████████| 100/100 [00:00<00:00, 184.71it/s]\n"
          ]
        },
        {
          "output_type": "stream",
          "name": "stdout",
          "text": [
            "Epoch: 5/5\n"
          ]
        },
        {
          "output_type": "stream",
          "name": "stderr",
          "text": [
            "train: 100%|██████████| 634/634 [00:04<00:00, 130.65it/s]\n",
            "val: 100%|██████████| 100/100 [00:00<00:00, 182.20it/s]\n"
          ]
        },
        {
          "output_type": "display_data",
          "data": {
            "text/plain": [
              "<Figure size 432x288 with 1 Axes>"
            ],
            "image/png": "[encoded data removed]"
          },
          "metadata": {
            "needs_background": "light"
          }
        }
      ]
    },
    {
      "cell_type": "code",
      "source": [
        "torch.save(model.cpu().state_dict(), \"/content/drive/MyDrive/ASR/Manual/attention_video_5e.pt\")"
      ],
      "metadata": {
        "id": "Kd3oEsuSLBYa"
      },
      "execution_count": null,
      "outputs": []
    },
    {
      "cell_type": "code",
      "source": [
        "predictions = []\n",
        "gt = []\n",
        "with torch.no_grad():\n",
        "    model.eval().to(device)\n",
        "    running_loss = 0\n",
        "    running_score = 0\n",
        "    counter = 0\n",
        "    for data in tqdm(test_dataloader, desc=\"val\"):\n",
        "        target = data[\"target\"].to(device)\n",
        "        audio = data[\"video\"].to(device)  # MLP\n",
        "        # audio = data[\"audio\"].to(device).unsqueeze(1) # CNN1D\n",
        "\n",
        "        preds = model(audio)\n",
        "\n",
        "        preds = preds.argmax(axis=1).cpu().detach().numpy()\n",
        "        predictions.extend(list(preds))\n",
        "        target = target.cpu().detach().numpy()\n",
        "        gt.extend(list(target))"
      ],
      "metadata": {
        "colab": {
          "base_uri": "https://localhost:8080/"
        },
        "id": "lwOMoco2bn7W",
        "outputId": "be30d63a-b113-47a9-80d5-131070845c82"
      },
      "execution_count": null,
      "outputs": [
        {
          "output_type": "stream",
          "name": "stderr",
          "text": [
            "val: 100%|██████████| 100/100 [00:00<00:00, 289.17it/s]\n"
          ]
        }
      ]
    },
    {
      "cell_type": "code",
      "source": [
        "f1_score(gt, predictions, average='macro')"
      ],
      "metadata": {
        "colab": {
          "base_uri": "https://localhost:8080/"
        },
        "id": "PvAKpqWpL-rq",
        "outputId": "e55769ae-385f-42bc-b7a2-9551b6d397cb"
      },
      "execution_count": null,
      "outputs": [
        {
          "output_type": "execute_result",
          "data": {
            "text/plain": [
              "0.2966668435235124"
            ]
          },
          "metadata": {},
          "execution_count": 218
        }
      ]
    },
    {
      "cell_type": "code",
      "source": [
        "softmax = nn.Softmax(dim=1) \n",
        "\n",
        "predictions = []\n",
        "gt = []\n",
        "with torch.no_grad():\n",
        "    model.eval().to(device)\n",
        "    running_loss = 0\n",
        "    running_score = 0\n",
        "    counter = 0\n",
        "    for data in tqdm(test_dataloader, desc=\"val\"):\n",
        "        target = data[\"target\"].to(device)\n",
        "        audio = data[\"video\"].to(device)  # MLP\n",
        "        #audio = data[\"audio\"].to(device).unsqueeze(1) # CNN1D\n",
        "\n",
        "        preds = model(audio)\n",
        "\n",
        "        preds = softmax(preds.cpu()).detach().numpy()\n",
        "        predictions.extend(np.array(preds))\n",
        "        target = target.cpu().detach().numpy()\n",
        "        gt.extend(list(target))"
      ],
      "metadata": {
        "colab": {
          "base_uri": "https://localhost:8080/"
        },
        "id": "uSSTd9JrcJw-",
        "outputId": "f3b22f1a-021d-4e6c-bb5d-577739c27651"
      },
      "execution_count": null,
      "outputs": [
        {
          "output_type": "stream",
          "name": "stderr",
          "text": [
            "val: 100%|██████████| 100/100 [00:00<00:00, 273.34it/s]\n"
          ]
        }
      ]
    },
    {
      "cell_type": "code",
      "source": [
        "roc_auc_score(gt, predictions, average='macro', multi_class=\"ovr\")"
      ],
      "metadata": {
        "colab": {
          "base_uri": "https://localhost:8080/"
        },
        "id": "PeNCVvGwcYYM",
        "outputId": "bbb37515-36be-4292-9bfd-d3161954cd2b"
      },
      "execution_count": null,
      "outputs": [
        {
          "output_type": "execute_result",
          "data": {
            "text/plain": [
              "0.906908409628486"
            ]
          },
          "metadata": {},
          "execution_count": 220
        }
      ]
    },
    {
      "cell_type": "code",
      "source": [
        "roc_auc_score(gt, predictions, average='macro', multi_class=\"ovo\")"
      ],
      "metadata": {
        "colab": {
          "base_uri": "https://localhost:8080/"
        },
        "id": "S-l4GYkvcdMU",
        "outputId": "3faadab6-8e4b-4047-a47a-ad3b0f855630"
      },
      "execution_count": null,
      "outputs": [
        {
          "output_type": "execute_result",
          "data": {
            "text/plain": [
              "0.8932220727676569"
            ]
          },
          "metadata": {},
          "execution_count": 221
        }
      ]
    },
    {
      "cell_type": "code",
      "source": [
        "roc_auc_score(gt, predictions, multi_class=\"ovr\")"
      ],
      "metadata": {
        "colab": {
          "base_uri": "https://localhost:8080/"
        },
        "id": "jKJCYnFOcd39",
        "outputId": "29d0158c-cb65-413c-c1e4-90e93845acef"
      },
      "execution_count": null,
      "outputs": [
        {
          "output_type": "execute_result",
          "data": {
            "text/plain": [
              "0.906908409628486"
            ]
          },
          "metadata": {},
          "execution_count": 222
        }
      ]
    },
    {
      "cell_type": "code",
      "source": [
        "roc_auc_score(gt, predictions, multi_class=\"ovo\")"
      ],
      "metadata": {
        "colab": {
          "base_uri": "https://localhost:8080/"
        },
        "id": "mSqDfa5zcfwk",
        "outputId": "b43403fc-f9cc-4ecf-9487-a4b3583cba63"
      },
      "execution_count": null,
      "outputs": [
        {
          "output_type": "execute_result",
          "data": {
            "text/plain": [
              "0.8932220727676569"
            ]
          },
          "metadata": {},
          "execution_count": 223
        }
      ]
    },
    {
      "cell_type": "code",
      "source": [
        "class Model1D(nn.Module):\n",
        "    def __init__(\n",
        "        self,\n",
        "        input: int,\n",
        "        hidden: int,\n",
        "        classes: int\n",
        "    ):\n",
        "        super(Model1D, self).__init__()\n",
        "        self.norm0 = nn.BatchNorm1d(input)\n",
        "        self.conv1 = nn.Conv1d(in_channels=input, out_channels=hidden, kernel_size=5)\n",
        "        self.norm1 = nn.BatchNorm1d(hidden)\n",
        "        self.relu1 = nn.ReLU()\n",
        "        self.conv2 = nn.Conv1d(in_channels=hidden, out_channels=2 * hidden, kernel_size=5)\n",
        "        self.norm2 = nn.BatchNorm1d(2 * hidden)\n",
        "        self.relu2 = nn.ReLU()\n",
        "        self.pool1 = nn.MaxPool1d(kernel_size=4, stride=3)\n",
        "        self.conv3 = nn.Conv1d(in_channels=2 * hidden, out_channels=3 * hidden, kernel_size=5)\n",
        "        self.norm3 = nn.BatchNorm1d(3 * hidden)\n",
        "        self.relu3 = nn.ReLU()\n",
        "        self.pool2 = nn.MaxPool1d(kernel_size=4, stride=3)\n",
        "        self.conv4 = nn.Conv1d(in_channels=3 * hidden, out_channels=3 * hidden, kernel_size=5)\n",
        "        self.norm4 = nn.BatchNorm1d(3 * hidden)\n",
        "        self.relu4 = nn.ReLU()\n",
        "        self.avgpool = nn.MaxPool1d(kernel_size=4, stride=3)\n",
        "        self.fc1 = nn.Linear(in_features=840, out_features=256)\n",
        "        self.dropout = nn.Dropout(0.5)\n",
        "        self.act1 = nn.ReLU()\n",
        "        self.fc = nn.Linear(in_features=676, out_features=classes)\n",
        "\n",
        "\n",
        "    def forward(self, x):\n",
        "        x = self.conv1(x)\n",
        "        x = self.relu1(x)\n",
        "        x = self.conv2(x)\n",
        "        x = self.relu2(x)\n",
        "        x = self.avgpool(x)\n",
        "        x = x.flatten(1)\n",
        "        return self.fc(x)\n",
        "\n",
        "model = Model1D(1, 1, 52).to(device)\n",
        "model(video).shape"
      ],
      "metadata": {
        "colab": {
          "base_uri": "https://localhost:8080/"
        },
        "id": "VY0gejf7fOuM",
        "outputId": "5bd18b24-e1a8-46d8-e83d-d4defa21731e"
      },
      "execution_count": null,
      "outputs": [
        {
          "output_type": "execute_result",
          "data": {
            "text/plain": [
              "torch.Size([512, 52])"
            ]
          },
          "metadata": {},
          "execution_count": 231
        }
      ]
    },
    {
      "cell_type": "code",
      "source": [
        "PATH = \"/content/drive/MyDrive/ASR/CNN\"\n",
        "EPOCHS = 20\n",
        "LearningRate = 0.001\n",
        "EXPERIMENT_NAME = \"CNN1D_VIDEO\"\n",
        "\n",
        "\n",
        "# model = Model1D(1, 2, 52).to(device)\n",
        "opt = optim.Adam(model.parameters(), lr=LearningRate)\n",
        "\n",
        "criterion = nn.CrossEntropyLoss()\n",
        "\n",
        "mean_loss_train = []\n",
        "mean_score_train = []\n",
        "\n",
        "mean_loss_test = []\n",
        "mean_score_test = []\n",
        "\n",
        "best_loss = float(\"inf\")\n",
        "best_score = 0\n",
        "for epoch in range(EPOCHS):\n",
        "    print(f\"Epoch: {epoch + 1}/{EPOCHS}\")\n",
        "    model.train().to(device)\n",
        "    running_loss = 0\n",
        "    running_score = 0\n",
        "    counter = 0\n",
        "    for data in tqdm(train_dataloader, desc=\"train\"):\n",
        "        target = data[\"target\"].to(device)\n",
        "        video = data[\"video\"].to(device).unsqueeze(1) # CNN1D\n",
        "        opt.zero_grad()\n",
        "\n",
        "        preds = model(video)\n",
        "        loss = criterion(preds, target)\n",
        "        loss.backward()\n",
        "\n",
        "        running_loss += loss.item() * len(data[\"video\"])\n",
        "        counter += len(data[\"video\"])\n",
        "\n",
        "        opt.step()\n",
        "\n",
        "        preds = preds.argmax(axis=1).cpu().detach().numpy()\n",
        "        target = target.cpu().detach().numpy()\n",
        "        running_score += f1_score(target, preds, average='macro')\n",
        "\n",
        "    mean_loss_train.append(running_loss / counter)\n",
        "    mean_score_train.append(running_score / len(train_dataloader))\n",
        "    #print('Loss/train', running_loss / counter)\n",
        "    #print('F1/train', running_score / counter)\n",
        "\n",
        "    with torch.no_grad():\n",
        "        model.eval().to(device)\n",
        "        running_loss = 0\n",
        "        running_score = 0\n",
        "        counter = 0\n",
        "        for data in tqdm(test_dataloader, desc=\"val\"):\n",
        "            target = data[\"target\"].to(device)\n",
        "            video = data[\"video\"].to(device).unsqueeze(1) # CNN1D\n",
        "\n",
        "            preds = model(video)\n",
        "            loss = criterion(preds, target)\n",
        "\n",
        "            running_loss += loss.item() * len(data[\"video\"])\n",
        "            counter += len(data[\"video\"])\n",
        "\n",
        "            preds = preds.argmax(axis=1).cpu().detach().numpy()\n",
        "            target = target.cpu().detach().numpy()\n",
        "            running_score += f1_score(target, preds, average='macro')\n",
        "\n",
        "\n",
        "    #print('F1/val', running_loss / counter)\n",
        "    #print('Loss/val', running_score / counter)\n",
        "    mean_loss_test.append(running_loss / counter)\n",
        "    mean_score_test.append(running_score / len(test_dataloader))\n",
        "\n",
        "    # if running_score > best_score and running_loss < best_loss:\n",
        "    #     best_score = running_score\n",
        "    #     best_loss = running_loss\n",
        "    #     torch.save(model.cpu().state_dict(), os.path.join(PATH, f\"{EXPERIMENT_NAME}_epoch_{epoch}.pt\"))\n",
        "    # elif running_score > best_score:\n",
        "    #     best_score = running_score\n",
        "    #     torch.save(model.cpu().state_dict(), os.path.join(PATH, f\"{EXPERIMENT_NAME}_epoch_{epoch}.pt\"))\n",
        "    # elif running_loss < best_loss:\n",
        "    #     best_loss = running_loss\n",
        "    #     torch.save(model.cpu().state_dict(), os.path.join(PATH, f\"{EXPERIMENT_NAME}_epoch_{epoch}.pt\"))\n",
        "    # elif epoch == EPOCHS - 1:\n",
        "    #     torch.save(model.cpu().state_dict(), os.path.join(PATH, f\"{EXPERIMENT_NAME}_epoch_{epoch}.pt\"))\n",
        "\n",
        "    if (epoch + 1) % 5 == 0:\n",
        "        plt.plot(np.arange(len(mean_loss_train)), mean_loss_train, label=\"train\")\n",
        "        plt.plot(np.arange(len(mean_loss_test)), mean_loss_test, label=\"test\")\n",
        "        plt.legend()\n",
        "        plt.show()"
      ],
      "metadata": {
        "colab": {
          "base_uri": "https://localhost:8080/",
          "height": 1000
        },
        "id": "ULq_glO2cg00",
        "outputId": "adc86c32-f6e1-4ecd-a92f-8d8d95374945"
      },
      "execution_count": null,
      "outputs": [
        {
          "output_type": "stream",
          "name": "stdout",
          "text": [
            "Epoch: 1/20\n"
          ]
        },
        {
          "output_type": "stream",
          "name": "stderr",
          "text": [
            "train: 100%|██████████| 634/634 [00:06<00:00, 93.39it/s] \n",
            "val: 100%|██████████| 100/100 [00:00<00:00, 176.97it/s]\n"
          ]
        },
        {
          "output_type": "stream",
          "name": "stdout",
          "text": [
            "Epoch: 2/20\n"
          ]
        },
        {
          "output_type": "stream",
          "name": "stderr",
          "text": [
            "train: 100%|██████████| 634/634 [00:05<00:00, 117.12it/s]\n",
            "val: 100%|██████████| 100/100 [00:00<00:00, 180.21it/s]\n"
          ]
        },
        {
          "output_type": "stream",
          "name": "stdout",
          "text": [
            "Epoch: 3/20\n"
          ]
        },
        {
          "output_type": "stream",
          "name": "stderr",
          "text": [
            "train: 100%|██████████| 634/634 [00:05<00:00, 118.24it/s]\n",
            "val: 100%|██████████| 100/100 [00:00<00:00, 213.15it/s]\n"
          ]
        },
        {
          "output_type": "stream",
          "name": "stdout",
          "text": [
            "Epoch: 4/20\n"
          ]
        },
        {
          "output_type": "stream",
          "name": "stderr",
          "text": [
            "train: 100%|██████████| 634/634 [00:05<00:00, 115.24it/s]\n",
            "val: 100%|██████████| 100/100 [00:00<00:00, 213.59it/s]\n"
          ]
        },
        {
          "output_type": "stream",
          "name": "stdout",
          "text": [
            "Epoch: 5/20\n"
          ]
        },
        {
          "output_type": "stream",
          "name": "stderr",
          "text": [
            "train: 100%|██████████| 634/634 [00:05<00:00, 115.75it/s]\n",
            "val: 100%|██████████| 100/100 [00:00<00:00, 215.54it/s]\n"
          ]
        },
        {
          "output_type": "display_data",
          "data": {
            "text/plain": [
              "<Figure size 432x288 with 1 Axes>"
            ],
            "image/png": "[encoded data removed]"
          },
          "metadata": {
            "needs_background": "light"
          }
        },
        {
          "output_type": "stream",
          "name": "stdout",
          "text": [
            "Epoch: 6/20\n"
          ]
        },
        {
          "output_type": "stream",
          "name": "stderr",
          "text": [
            "train: 100%|██████████| 634/634 [00:05<00:00, 114.97it/s]\n",
            "val: 100%|██████████| 100/100 [00:00<00:00, 218.22it/s]\n"
          ]
        },
        {
          "output_type": "stream",
          "name": "stdout",
          "text": [
            "Epoch: 7/20\n"
          ]
        },
        {
          "output_type": "stream",
          "name": "stderr",
          "text": [
            "train: 100%|██████████| 634/634 [00:05<00:00, 114.18it/s]\n",
            "val: 100%|██████████| 100/100 [00:00<00:00, 215.02it/s]\n"
          ]
        },
        {
          "output_type": "stream",
          "name": "stdout",
          "text": [
            "Epoch: 8/20\n"
          ]
        },
        {
          "output_type": "stream",
          "name": "stderr",
          "text": [
            "train: 100%|██████████| 634/634 [00:05<00:00, 113.74it/s]\n",
            "val: 100%|██████████| 100/100 [00:00<00:00, 205.53it/s]\n"
          ]
        },
        {
          "output_type": "stream",
          "name": "stdout",
          "text": [
            "Epoch: 9/20\n"
          ]
        },
        {
          "output_type": "stream",
          "name": "stderr",
          "text": [
            "train: 100%|██████████| 634/634 [00:05<00:00, 113.05it/s]\n",
            "val: 100%|██████████| 100/100 [00:00<00:00, 211.80it/s]\n"
          ]
        },
        {
          "output_type": "stream",
          "name": "stdout",
          "text": [
            "Epoch: 10/20\n"
          ]
        },
        {
          "output_type": "stream",
          "name": "stderr",
          "text": [
            "train: 100%|██████████| 634/634 [00:05<00:00, 116.06it/s]\n",
            "val: 100%|██████████| 100/100 [00:00<00:00, 212.07it/s]\n"
          ]
        },
        {
          "output_type": "display_data",
          "data": {
            "text/plain": [
              "<Figure size 432x288 with 1 Axes>"
            ],
            "image/png": "[encoded data removed]"
          },
          "metadata": {
            "needs_background": "light"
          }
        },
        {
          "output_type": "stream",
          "name": "stdout",
          "text": [
            "Epoch: 11/20\n"
          ]
        },
        {
          "output_type": "stream",
          "name": "stderr",
          "text": [
            "train: 100%|██████████| 634/634 [00:05<00:00, 115.45it/s]\n",
            "val: 100%|██████████| 100/100 [00:00<00:00, 218.00it/s]\n"
          ]
        },
        {
          "output_type": "stream",
          "name": "stdout",
          "text": [
            "Epoch: 12/20\n"
          ]
        },
        {
          "output_type": "stream",
          "name": "stderr",
          "text": [
            "train: 100%|██████████| 634/634 [00:07<00:00, 86.70it/s]\n",
            "val: 100%|██████████| 100/100 [00:00<00:00, 212.54it/s]\n"
          ]
        },
        {
          "output_type": "stream",
          "name": "stdout",
          "text": [
            "Epoch: 13/20\n"
          ]
        },
        {
          "output_type": "stream",
          "name": "stderr",
          "text": [
            "train: 100%|██████████| 634/634 [00:05<00:00, 116.13it/s]\n",
            "val: 100%|██████████| 100/100 [00:00<00:00, 208.94it/s]\n"
          ]
        },
        {
          "output_type": "stream",
          "name": "stdout",
          "text": [
            "Epoch: 14/20\n"
          ]
        },
        {
          "output_type": "stream",
          "name": "stderr",
          "text": [
            "train: 100%|██████████| 634/634 [00:05<00:00, 114.12it/s]\n",
            "val: 100%|██████████| 100/100 [00:00<00:00, 219.29it/s]\n"
          ]
        },
        {
          "output_type": "stream",
          "name": "stdout",
          "text": [
            "Epoch: 15/20\n"
          ]
        },
        {
          "output_type": "stream",
          "name": "stderr",
          "text": [
            "train: 100%|██████████| 634/634 [00:05<00:00, 115.12it/s]\n",
            "val: 100%|██████████| 100/100 [00:00<00:00, 211.72it/s]\n"
          ]
        },
        {
          "output_type": "display_data",
          "data": {
            "text/plain": [
              "<Figure size 432x288 with 1 Axes>"
            ],
            "image/png": "[encoded data removed]"
          },
          "metadata": {
            "needs_background": "light"
          }
        },
        {
          "output_type": "stream",
          "name": "stdout",
          "text": [
            "Epoch: 16/20\n"
          ]
        },
        {
          "output_type": "stream",
          "name": "stderr",
          "text": [
            "train: 100%|██████████| 634/634 [00:05<00:00, 115.05it/s]\n",
            "val: 100%|██████████| 100/100 [00:00<00:00, 211.57it/s]\n"
          ]
        },
        {
          "output_type": "stream",
          "name": "stdout",
          "text": [
            "Epoch: 17/20\n"
          ]
        },
        {
          "output_type": "stream",
          "name": "stderr",
          "text": [
            "train: 100%|██████████| 634/634 [00:05<00:00, 116.41it/s]\n",
            "val: 100%|██████████| 100/100 [00:00<00:00, 214.90it/s]\n"
          ]
        },
        {
          "output_type": "stream",
          "name": "stdout",
          "text": [
            "Epoch: 18/20\n"
          ]
        },
        {
          "output_type": "stream",
          "name": "stderr",
          "text": [
            "train: 100%|██████████| 634/634 [00:05<00:00, 115.31it/s]\n",
            "val: 100%|██████████| 100/100 [00:00<00:00, 207.32it/s]\n"
          ]
        },
        {
          "output_type": "stream",
          "name": "stdout",
          "text": [
            "Epoch: 19/20\n"
          ]
        },
        {
          "output_type": "stream",
          "name": "stderr",
          "text": [
            "train: 100%|██████████| 634/634 [00:05<00:00, 111.51it/s]\n",
            "val: 100%|██████████| 100/100 [00:00<00:00, 208.65it/s]\n"
          ]
        },
        {
          "output_type": "stream",
          "name": "stdout",
          "text": [
            "Epoch: 20/20\n"
          ]
        },
        {
          "output_type": "stream",
          "name": "stderr",
          "text": [
            "train: 100%|██████████| 634/634 [00:05<00:00, 114.32it/s]\n",
            "val: 100%|██████████| 100/100 [00:00<00:00, 206.54it/s]\n"
          ]
        },
        {
          "output_type": "display_data",
          "data": {
            "text/plain": [
              "<Figure size 432x288 with 1 Axes>"
            ],
            "image/png": "[encoded data removed]"
          },
          "metadata": {
            "needs_background": "light"
          }
        }
      ]
    },
    {
      "cell_type": "code",
      "source": [
        "# torch.save(model.cpu().state_dict(), \"/content/drive/MyDrive/ASR/Manual/cnn1d_video_20e.pt\")"
      ],
      "metadata": {
        "id": "1Lovxg1fPn7D"
      },
      "execution_count": null,
      "outputs": []
    },
    {
      "cell_type": "code",
      "source": [
        "predictions = []\n",
        "gt = []\n",
        "with torch.no_grad():\n",
        "    model.eval().to(device)\n",
        "    running_loss = 0\n",
        "    running_score = 0\n",
        "    counter = 0\n",
        "    for data in tqdm(test_dataloader, desc=\"val\"):\n",
        "        target = data[\"target\"].to(device)\n",
        "        video = data[\"video\"].to(device).unsqueeze(1) # CNN1D\n",
        "\n",
        "        preds = model(video)\n",
        "\n",
        "        preds = preds.argmax(axis=1).cpu().detach().numpy()\n",
        "        predictions.extend(list(preds))\n",
        "        target = target.cpu().detach().numpy()\n",
        "        gt.extend(list(target))"
      ],
      "metadata": {
        "colab": {
          "base_uri": "https://localhost:8080/"
        },
        "id": "DfuwW7fbc3Wp",
        "outputId": "cbd364fb-2729-458b-8244-cd6a25544dc3"
      },
      "execution_count": null,
      "outputs": [
        {
          "output_type": "stream",
          "name": "stderr",
          "text": [
            "val: 100%|██████████| 100/100 [00:00<00:00, 255.26it/s]\n"
          ]
        }
      ]
    },
    {
      "cell_type": "code",
      "source": [
        "f1_score(gt, predictions, average='macro')"
      ],
      "metadata": {
        "colab": {
          "base_uri": "https://localhost:8080/"
        },
        "id": "vKW1yuiIfBHn",
        "outputId": "ce46cf02-f0b7-4e28-f793-44308b7a7498"
      },
      "execution_count": null,
      "outputs": [
        {
          "output_type": "execute_result",
          "data": {
            "text/plain": [
              "0.2470818368100866"
            ]
          },
          "metadata": {},
          "execution_count": 234
        }
      ]
    },
    {
      "cell_type": "code",
      "source": [
        "softmax = nn.Softmax(dim=1) \n",
        "\n",
        "predictions = []\n",
        "gt = []\n",
        "with torch.no_grad():\n",
        "    model.eval().to(device)\n",
        "    running_loss = 0\n",
        "    running_score = 0\n",
        "    counter = 0\n",
        "    for data in tqdm(test_dataloader, desc=\"val\"):\n",
        "        target = data[\"target\"].to(device)\n",
        "        video = data[\"video\"].to(device).unsqueeze(1) # CNN1D\n",
        "\n",
        "        preds = model(video)\n",
        "\n",
        "        preds = softmax(preds.cpu()).detach().numpy()\n",
        "        predictions.extend(np.array(preds))\n",
        "        target = target.cpu().detach().numpy()\n",
        "        gt.extend(list(target))"
      ],
      "metadata": {
        "colab": {
          "base_uri": "https://localhost:8080/"
        },
        "id": "jF5QT0vlfIW2",
        "outputId": "5e1cf819-ad66-4a5d-c0a1-92dc632d1446"
      },
      "execution_count": null,
      "outputs": [
        {
          "output_type": "stream",
          "name": "stderr",
          "text": [
            "val: 100%|██████████| 100/100 [00:00<00:00, 225.87it/s]\n"
          ]
        }
      ]
    },
    {
      "cell_type": "code",
      "source": [
        "roc_auc_score(gt, predictions, average='macro', multi_class=\"ovr\")  "
      ],
      "metadata": {
        "colab": {
          "base_uri": "https://localhost:8080/"
        },
        "id": "-ryWnfdq4e7G",
        "outputId": "10b6d583-2462-44a6-a46a-9d9cfc344fbb"
      },
      "execution_count": null,
      "outputs": [
        {
          "output_type": "execute_result",
          "data": {
            "text/plain": [
              "0.865906476412014"
            ]
          },
          "metadata": {},
          "execution_count": 236
        }
      ]
    },
    {
      "cell_type": "code",
      "source": [
        "roc_auc_score(gt, predictions, average='macro', multi_class=\"ovo\")"
      ],
      "metadata": {
        "colab": {
          "base_uri": "https://localhost:8080/"
        },
        "id": "0va6RYvw4e9l",
        "outputId": "b74ae125-b3e7-454e-e15a-47b32d5c0295"
      },
      "execution_count": null,
      "outputs": [
        {
          "output_type": "execute_result",
          "data": {
            "text/plain": [
              "0.8517878743182135"
            ]
          },
          "metadata": {},
          "execution_count": 237
        }
      ]
    },
    {
      "cell_type": "code",
      "source": [
        "roc_auc_score(gt, predictions, multi_class=\"ovr\")"
      ],
      "metadata": {
        "colab": {
          "base_uri": "https://localhost:8080/"
        },
        "id": "ZDnjMc3p4e_y",
        "outputId": "2ac65ba0-e70a-46bc-d40b-fd7b16a535ed"
      },
      "execution_count": null,
      "outputs": [
        {
          "output_type": "execute_result",
          "data": {
            "text/plain": [
              "0.865906476412014"
            ]
          },
          "metadata": {},
          "execution_count": 238
        }
      ]
    },
    {
      "cell_type": "code",
      "source": [
        "\n",
        "roc_auc_score(gt, predictions, multi_class=\"ovo\")"
      ],
      "metadata": {
        "colab": {
          "base_uri": "https://localhost:8080/"
        },
        "id": "7QUB15OH4fB8",
        "outputId": "60f98689-32d6-4a5b-c494-34e4f8941a4c"
      },
      "execution_count": null,
      "outputs": [
        {
          "output_type": "execute_result",
          "data": {
            "text/plain": [
              "0.8517878743182135"
            ]
          },
          "metadata": {},
          "execution_count": 239
        }
      ]
    },
    {
      "cell_type": "code",
      "source": [
        "columns = ['clipTarget', 'date']\n",
        "df = pd.DataFrame(columns=['clipTarget', \"video\", \"audio\"])\n",
        "for i in range(7):\n",
        "    csv_filepath = f\"/content/drive/MyDrive/ASR/0000{i}.csv\"\n",
        "    video_filepath = f\"/content/drive/MyDrive/ASR/ContentEmbedding/0000{i}.npy\"\n",
        "    audio_filepath = f\"/content/drive/MyDrive/ASR/AudioEmbedding/0000{i}.npy\"\n",
        "    temp = pd.read_csv(csv_filepath)\n",
        "    temp = temp[columns]\n",
        "    temp[\"video\"] = load(video_filepath)\n",
        "    temp[\"audio\"] = load(audio_filepath)\n",
        "    df = pd.concat([df, temp], ignore_index=True)\n",
        "    df = df.reset_index(drop=True)\n",
        "df = df.sort_values(by=['date'], ascending=True)\n",
        "df = df.reset_index(drop=True)\n",
        "\n",
        "df_train = df.iloc[:324160, :]\n",
        "df_train = df_train.reset_index(drop=True)\n",
        "\n",
        "\n",
        "df_test = df.iloc[324160:, :]\n",
        "df_test = df_test.reset_index(drop=True)\n",
        "del df"
      ],
      "metadata": {
        "id": "KmZBUEDdrD8l"
      },
      "execution_count": null,
      "outputs": []
    },
    {
      "cell_type": "code",
      "source": [
        "class CLIPDataset(Dataset):\n",
        "    def __init__(self, audio, video, target, classes: str = \"/content/drive/MyDrive/ASR/classes.json\"):\n",
        "        self.audio = audio\n",
        "        self.video = video\n",
        "        self.target = target\n",
        "        self.cat = self.read(classes)\n",
        "\n",
        "    def __getitem__(self, item):\n",
        "        concat = np.concatenate((self.audio[item], self.video[item]))\n",
        "        return {\n",
        "            \"video_audion\": torch.from_numpy(concat),\n",
        "            \"target\": self.cat[self.target[item]]\n",
        "        }\n",
        "\n",
        "    def __len__(self):\n",
        "        return len(self.target)\n",
        "\n",
        "    @staticmethod\n",
        "    def read(filename: str):\n",
        "        with open(filename, \"r\") as f:\n",
        "            data = json.load(f)\n",
        "        return data\n",
        "\n",
        "\n",
        "BATCH_SIZE = 512\n",
        "\n",
        "device = torch.device(\"cuda:0\" if torch.cuda.is_available() else \"cpu\")\n",
        "\n",
        "train_dataset = CLIPDataset(df_train[\"audio\"].to_list(), df_train[\"video\"].to_list(), df_train[\"clipTarget\"].to_list())\n",
        "train_dataloader = DataLoader(\n",
        "    dataset=train_dataset, batch_size=BATCH_SIZE, shuffle=True\n",
        ")\n",
        "\n",
        "test_dataset = CLIPDataset(df_train[\"audio\"].to_list(), df_test[\"video\"].to_list(), df_test[\"clipTarget\"].to_list())\n",
        "test_dataloader = DataLoader(\n",
        "    dataset=test_dataset, batch_size=BATCH_SIZE, shuffle=False\n",
        ")"
      ],
      "metadata": {
        "id": "rS3uDGlysQwr"
      },
      "execution_count": null,
      "outputs": []
    },
    {
      "cell_type": "code",
      "source": [
        "T = 1\n",
        "D = 1024 + 128\n",
        "neurons = 64\n",
        "classes = 52\n",
        "\n",
        "backboneNetwork = nn.Sequential(\n",
        "    Flatten2(),# Shape is now (B, T, D)\n",
        "    nn.Linear(D, neurons), #Shape becomes (B, T, neurons)\n",
        "    nn.LeakyReLU(),\n",
        "    nn.Linear(neurons, neurons),\n",
        "    nn.LeakyReLU(), #still (B, T, neurons) on the way out\n",
        ")\n",
        "\n",
        "attentionMechanism = nn.Sequential(\n",
        "    #Shape is (B, T, neurons)\n",
        "    nn.Linear(neurons,neurons),\n",
        "    nn.LeakyReLU(),\n",
        "    nn.Linear(neurons, 1), # (B, T, 1)\n",
        "    nn.Softmax(dim=1),\n",
        ")\n",
        "\n",
        "model = nn.Sequential(\n",
        "    #input is (B, T, C, W, H). backbone & attention will be used by combiner to process\n",
        "    Combiner(backboneNetwork, attentionMechanism), # result is (B, neurons)\n",
        "    nn.BatchNorm1d(neurons),\n",
        "    nn.Linear(neurons, classes)\n",
        ")"
      ],
      "metadata": {
        "id": "s_aF-xO1QB8p"
      },
      "execution_count": null,
      "outputs": []
    },
    {
      "cell_type": "code",
      "source": [
        "import torch\n",
        "import torch.nn as nn\n",
        "\n",
        "\n",
        "class MLP(nn.Module):\n",
        "    def __init__(\n",
        "            self,\n",
        "            in_features: int = 128,\n",
        "            hidden_features: int = 64,\n",
        "            out_features: int = 52,\n",
        "            num_layers: int = 1,\n",
        "            dropout_prob: float = 0.5,\n",
        "            bn: bool = True\n",
        "    ):\n",
        "        super(MLP, self).__init__()\n",
        "        self.bn = bn\n",
        "        self.dropout_prob = dropout_prob\n",
        "        self.fc1 = nn.Linear(in_features=in_features, out_features=hidden_features)\n",
        "        self.dropout1 = nn.Dropout(dropout_prob)\n",
        "        self.act1 = nn.ReLU()\n",
        "        self.fc2 = nn.Linear(in_features=hidden_features, out_features=out_features)\n",
        "\n",
        "\n",
        "\n",
        "\n",
        "    def forward(self, x):\n",
        "        x = self.fc1(x)\n",
        "        x = self.dropout1(x)\n",
        "        x = self.act1(x)\n",
        "        return self.fc2(x)"
      ],
      "metadata": {
        "id": "bqOhCZuLs_PU"
      },
      "execution_count": null,
      "outputs": []
    },
    {
      "cell_type": "code",
      "source": [
        "PATH = \"/content/drive/MyDrive/ASR/CONCAT\"\n",
        "EPOCHS = 5\n",
        "LearningRate = 0.001\n",
        "EXPERIMENT_NAME = \"MLP_VIDEO_AUDIO_CONCAT_2\"\n",
        "\n",
        "\n",
        "# model = MLP(1024 + 128, 256, num_layers=4)\n",
        "# model = MLP(1024 + 128, 512, num_layers=4)\n",
        "model = MLP(1024 + 128, 512, num_layers=4, bn=False, dropout_prob=0)\n",
        "opt = optim.Adam(model.parameters(), lr=LearningRate)\n",
        "\n",
        "criterion = nn.CrossEntropyLoss()\n",
        "\n",
        "mean_loss_train = []\n",
        "mean_score_train = []\n",
        "\n",
        "mean_loss_test = []\n",
        "mean_score_test = []\n",
        "\n",
        "best_loss = float(\"inf\")\n",
        "best_score = 0\n",
        "for epoch in range(EPOCHS):\n",
        "    print(f\"Epoch: {epoch + 1}/{EPOCHS}\")\n",
        "    model.train().to(device)\n",
        "    running_loss = 0\n",
        "    running_score = 0\n",
        "    counter = 0\n",
        "    for data in tqdm(train_dataloader, desc=\"train\"):\n",
        "        target = data[\"target\"].to(device)\n",
        "        video_audion = data[\"video_audion\"].to(device)  # MLP\n",
        "        # audio = data[\"audio\"].to(device).unsqueeze(1) # CNN1D\n",
        "        opt.zero_grad()\n",
        "\n",
        "        preds = model(video_audion)\n",
        "        loss = criterion(preds, target)\n",
        "        loss.backward()\n",
        "\n",
        "        running_loss += loss.item() * len(data[\"video_audion\"])\n",
        "        counter += len(data[\"video_audion\"])\n",
        "\n",
        "        opt.step()\n",
        "\n",
        "        preds = preds.argmax(axis=1).cpu().detach().numpy()\n",
        "        target = target.cpu().detach().numpy()\n",
        "        running_score += f1_score(target, preds, average='macro')\n",
        "\n",
        "    mean_loss_train.append(running_loss / counter)\n",
        "    mean_score_train.append(running_score / len(train_dataloader))\n",
        "    #print('Loss/train', running_loss / counter)\n",
        "    #print('F1/train', running_score / counter)\n",
        "\n",
        "    with torch.no_grad():\n",
        "        model.eval().to(device)\n",
        "        running_loss = 0\n",
        "        running_score = 0\n",
        "        counter = 0\n",
        "        for data in tqdm(test_dataloader, desc=\"val\"):\n",
        "            target = data[\"target\"].to(device)\n",
        "            video_audion = data[\"video_audion\"].to(device)  # MLP\n",
        "            # audio = data[\"audio\"].to(device).unsqueeze(1) # CNN1D\n",
        "\n",
        "            preds = model(video_audion)\n",
        "            loss = criterion(preds, target)\n",
        "\n",
        "            running_loss += loss.item() * len(data[\"video_audion\"])\n",
        "            counter += len(data[\"video_audion\"])\n",
        "\n",
        "            preds = preds.argmax(axis=1).cpu().detach().numpy()\n",
        "            target = target.cpu().detach().numpy()\n",
        "            running_score += f1_score(target, preds, average='macro')\n",
        "\n",
        "\n",
        "    #print('F1/val', running_loss / counter)\n",
        "    #print('Loss/val', running_score / counter)\n",
        "    mean_loss_test.append(running_loss / counter)\n",
        "    mean_score_test.append(running_score / len(test_dataloader))\n",
        "\n",
        "    # if running_score > best_score and running_loss < best_loss:\n",
        "    #     best_score = running_score\n",
        "    #     best_loss = running_loss\n",
        "    #     torch.save(model.cpu().state_dict(), os.path.join(PATH, f\"{EXPERIMENT_NAME}_epoch_{epoch}.pt\"))\n",
        "    # elif running_score > best_score:\n",
        "    #     best_score = running_score\n",
        "    #     torch.save(model.cpu().state_dict(), os.path.join(PATH, f\"{EXPERIMENT_NAME}_epoch_{epoch}.pt\"))\n",
        "    # elif running_loss < best_loss:\n",
        "    #     best_loss = running_loss\n",
        "    #     torch.save(model.cpu().state_dict(), os.path.join(PATH, f\"{EXPERIMENT_NAME}_epoch_{epoch}.pt\"))\n",
        "    # elif epoch == EPOCHS - 1:\n",
        "    #     torch.save(model.cpu().state_dict(), os.path.join(PATH, f\"{EXPERIMENT_NAME}_epoch_{epoch}.pt\"))\n",
        "\n",
        "    if (epoch + 1) % 5 == 0:\n",
        "        plt.plot(np.arange(len(mean_loss_train)), mean_loss_train, label=\"train\")\n",
        "        plt.plot(np.arange(len(mean_loss_test)), mean_loss_test, label=\"test\")\n",
        "        plt.legend()\n",
        "        plt.show()"
      ],
      "metadata": {
        "id": "VpRVzUlK5Nou",
        "colab": {
          "base_uri": "https://localhost:8080/",
          "height": 539
        },
        "outputId": "f1013b91-94d4-4b93-d65f-276ae4fd76fb"
      },
      "execution_count": null,
      "outputs": [
        {
          "output_type": "stream",
          "name": "stdout",
          "text": [
            "Epoch: 1/5\n"
          ]
        },
        {
          "output_type": "stream",
          "name": "stderr",
          "text": [
            "train: 100%|██████████| 634/634 [00:12<00:00, 50.99it/s]\n",
            "val: 100%|██████████| 100/100 [00:00<00:00, 122.11it/s]\n"
          ]
        },
        {
          "output_type": "stream",
          "name": "stdout",
          "text": [
            "Epoch: 2/5\n"
          ]
        },
        {
          "output_type": "stream",
          "name": "stderr",
          "text": [
            "train: 100%|██████████| 634/634 [00:05<00:00, 116.10it/s]\n",
            "val: 100%|██████████| 100/100 [00:00<00:00, 163.09it/s]\n"
          ]
        },
        {
          "output_type": "stream",
          "name": "stdout",
          "text": [
            "Epoch: 3/5\n"
          ]
        },
        {
          "output_type": "stream",
          "name": "stderr",
          "text": [
            "train: 100%|██████████| 634/634 [00:05<00:00, 121.59it/s]\n",
            "val: 100%|██████████| 100/100 [00:00<00:00, 167.55it/s]\n"
          ]
        },
        {
          "output_type": "stream",
          "name": "stdout",
          "text": [
            "Epoch: 4/5\n"
          ]
        },
        {
          "output_type": "stream",
          "name": "stderr",
          "text": [
            "train: 100%|██████████| 634/634 [00:05<00:00, 124.63it/s]\n",
            "val: 100%|██████████| 100/100 [00:00<00:00, 163.43it/s]\n"
          ]
        },
        {
          "output_type": "stream",
          "name": "stdout",
          "text": [
            "Epoch: 5/5\n"
          ]
        },
        {
          "output_type": "stream",
          "name": "stderr",
          "text": [
            "train: 100%|██████████| 634/634 [00:05<00:00, 123.96it/s]\n",
            "val: 100%|██████████| 100/100 [00:00<00:00, 165.22it/s]\n"
          ]
        },
        {
          "output_type": "display_data",
          "data": {
            "text/plain": [
              "<Figure size 432x288 with 1 Axes>"
            ],
            "image/png": "[encoded data removed]"
          },
          "metadata": {
            "needs_background": "light"
          }
        }
      ]
    },
    {
      "cell_type": "code",
      "source": [
        "#torch.save(model.cpu().state_dict(), \"/content/drive/MyDrive/ASR/Manual/mlp_audio_video_5e.pt\")"
      ],
      "metadata": {
        "id": "C-KSaZ5lXNv1"
      },
      "execution_count": null,
      "outputs": []
    },
    {
      "cell_type": "code",
      "source": [
        "predictions = []\n",
        "gt = []\n",
        "with torch.no_grad():\n",
        "    model.eval().to(device)\n",
        "    running_loss = 0\n",
        "    running_score = 0\n",
        "    counter = 0\n",
        "    for data in tqdm(test_dataloader, desc=\"val\"):\n",
        "        target = data[\"target\"].to(device)\n",
        "        video_audion = data[\"video_audion\"].to(device)\n",
        "\n",
        "        preds = model(video_audion)\n",
        "\n",
        "        preds = preds.argmax(axis=1).cpu().detach().numpy()\n",
        "        predictions.extend(list(preds))\n",
        "        target = target.cpu().detach().numpy()\n",
        "        gt.extend(list(target))"
      ],
      "metadata": {
        "colab": {
          "base_uri": "https://localhost:8080/"
        },
        "id": "iq2Mavl6rn3O",
        "outputId": "4d2a13fd-d51d-41f8-e755-ec8eb4ec63ba"
      },
      "execution_count": null,
      "outputs": [
        {
          "output_type": "stream",
          "name": "stderr",
          "text": [
            "val: 100%|██████████| 100/100 [00:00<00:00, 194.86it/s]\n"
          ]
        }
      ]
    },
    {
      "cell_type": "code",
      "source": [
        "f1_score(gt, predictions, average='macro')"
      ],
      "metadata": {
        "colab": {
          "base_uri": "https://localhost:8080/"
        },
        "id": "2-XGab_s5eln",
        "outputId": "a0f9504a-2581-4224-d5fd-9e67afaef0fe"
      },
      "execution_count": null,
      "outputs": [
        {
          "output_type": "execute_result",
          "data": {
            "text/plain": [
              "0.2621985596277016"
            ]
          },
          "metadata": {},
          "execution_count": 296
        }
      ]
    },
    {
      "cell_type": "code",
      "source": [
        "softmax = nn.Softmax(dim=1) \n",
        "\n",
        "predictions = []\n",
        "gt = []\n",
        "with torch.no_grad():\n",
        "    model.eval().to(device)\n",
        "    running_loss = 0\n",
        "    running_score = 0\n",
        "    counter = 0\n",
        "    for data in tqdm(test_dataloader, desc=\"val\"):\n",
        "        target = data[\"target\"].to(device)\n",
        "        video_audion = data[\"video_audion\"].to(device)\n",
        "\n",
        "        preds = model(video_audion)\n",
        "\n",
        "        preds = softmax(preds.cpu()).detach().numpy()\n",
        "        predictions.extend(np.array(preds))\n",
        "        target = target.cpu().detach().numpy()\n",
        "        gt.extend(list(target))"
      ],
      "metadata": {
        "colab": {
          "base_uri": "https://localhost:8080/"
        },
        "id": "dsXHsytE1S2_",
        "outputId": "27ac415a-beab-41ce-b9c3-bbaf4a9efbfc"
      },
      "execution_count": null,
      "outputs": [
        {
          "output_type": "stream",
          "name": "stderr",
          "text": [
            "val: 100%|██████████| 100/100 [00:00<00:00, 184.31it/s]\n"
          ]
        }
      ]
    },
    {
      "cell_type": "code",
      "source": [
        "roc_auc_score(gt, predictions, average='macro', multi_class=\"ovr\")"
      ],
      "metadata": {
        "colab": {
          "base_uri": "https://localhost:8080/"
        },
        "id": "_lq6RmIdDsXS",
        "outputId": "6706c9a4-fd18-4944-b0a7-29b860e82e30"
      },
      "execution_count": null,
      "outputs": [
        {
          "output_type": "execute_result",
          "data": {
            "text/plain": [
              "0.8888636847354565"
            ]
          },
          "metadata": {},
          "execution_count": 298
        }
      ]
    },
    {
      "cell_type": "code",
      "source": [
        "roc_auc_score(gt, predictions, average='macro', multi_class=\"ovo\")"
      ],
      "metadata": {
        "colab": {
          "base_uri": "https://localhost:8080/"
        },
        "id": "6kJjrGG51gW6",
        "outputId": "c01ee796-c214-4a0d-ce70-324e33875907"
      },
      "execution_count": null,
      "outputs": [
        {
          "output_type": "execute_result",
          "data": {
            "text/plain": [
              "0.8730564337372373"
            ]
          },
          "metadata": {},
          "execution_count": 299
        }
      ]
    },
    {
      "cell_type": "code",
      "source": [
        "roc_auc_score(gt, predictions, multi_class=\"ovr\")"
      ],
      "metadata": {
        "colab": {
          "base_uri": "https://localhost:8080/"
        },
        "id": "nc6wN3uP1hQz",
        "outputId": "440f1d60-1796-4b89-b387-3c383654fd88"
      },
      "execution_count": null,
      "outputs": [
        {
          "output_type": "execute_result",
          "data": {
            "text/plain": [
              "0.8888636847354565"
            ]
          },
          "metadata": {},
          "execution_count": 300
        }
      ]
    },
    {
      "cell_type": "code",
      "source": [
        "roc_auc_score(gt, predictions, multi_class=\"ovo\")"
      ],
      "metadata": {
        "colab": {
          "base_uri": "https://localhost:8080/"
        },
        "id": "HR0kyZOA1i5r",
        "outputId": "4c9a041d-678c-42fe-c7ff-8942638f5ea5"
      },
      "execution_count": null,
      "outputs": [
        {
          "output_type": "execute_result",
          "data": {
            "text/plain": [
              "0.8730564337372373"
            ]
          },
          "metadata": {},
          "execution_count": 301
        }
      ]
    },
    {
      "cell_type": "code",
      "source": [
        "class Model1D(nn.Module):\n",
        "    def __init__(\n",
        "        self,\n",
        "        input: int,\n",
        "        hidden: int,\n",
        "        classes: int\n",
        "    ):\n",
        "        super(Model1D, self).__init__()\n",
        "        self.norm0 = nn.BatchNorm1d(input)\n",
        "        self.conv1 = nn.Conv1d(in_channels=input, out_channels=hidden, kernel_size=5)\n",
        "        self.norm1 = nn.BatchNorm1d(hidden)\n",
        "        self.relu1 = nn.ReLU()\n",
        "        self.conv2 = nn.Conv1d(in_channels=hidden, out_channels=2 * hidden, kernel_size=5)\n",
        "        self.norm2 = nn.BatchNorm1d(2 * hidden)\n",
        "        self.relu2 = nn.ReLU()\n",
        "        self.pool1 = nn.MaxPool1d(kernel_size=4, stride=3)\n",
        "        self.conv3 = nn.Conv1d(in_channels=2 * hidden, out_channels=3 * hidden, kernel_size=5)\n",
        "        self.norm3 = nn.BatchNorm1d(3 * hidden)\n",
        "        self.relu3 = nn.ReLU()\n",
        "        self.pool2 = nn.MaxPool1d(kernel_size=4, stride=3)\n",
        "        self.conv4 = nn.Conv1d(in_channels=3 * hidden, out_channels=3 * hidden, kernel_size=5)\n",
        "        self.norm4 = nn.BatchNorm1d(3 * hidden)\n",
        "        self.relu4 = nn.ReLU()\n",
        "        self.avgpool = nn.MaxPool1d(kernel_size=4, stride=3)\n",
        "        self.fc1 = nn.Linear(in_features=480, out_features=512)\n",
        "        self.dropout = nn.Dropout(0.5)\n",
        "        self.act1 = nn.ReLU()\n",
        "        self.fc = nn.Linear(in_features=512, out_features=classes)\n",
        "\n",
        "\n",
        "    def forward(self, x):\n",
        "        #x = self.norm0(x)\n",
        "        x = self.conv1(x)\n",
        "        x = self.norm1(x)\n",
        "        x = self.relu1(x)\n",
        "        x = self.conv2(x)\n",
        "        x = self.norm2(x)\n",
        "        x = self.relu2(x)\n",
        "        x = self.pool1(x)\n",
        "        x = self.conv3(x)\n",
        "        #x = self.norm3(x)\n",
        "        x = self.relu3(x)\n",
        "        x = self.pool2(x)\n",
        "        x = self.conv4(x)\n",
        "        #x = self.norm4(x)\n",
        "        x = self.relu4(x)\n",
        "        x = self.avgpool(x)\n",
        "        x = x.flatten(1)\n",
        "        x = self.fc1(x)\n",
        "        #x = self.dropout(x)\n",
        "        x = self.act1(x)\n",
        "        return self.fc(x)\n",
        "\n",
        "model = Model1D(1, 4, 52).to(device)\n",
        "model(video_audion).shape"
      ],
      "metadata": {
        "colab": {
          "base_uri": "https://localhost:8080/"
        },
        "id": "_r6Pz13l1kJs",
        "outputId": "b737a149-290c-42f0-c11c-4b7d4fd439f3"
      },
      "execution_count": null,
      "outputs": [
        {
          "output_type": "execute_result",
          "data": {
            "text/plain": [
              "torch.Size([305, 52])"
            ]
          },
          "metadata": {},
          "execution_count": 331
        }
      ]
    },
    {
      "cell_type": "code",
      "source": [
        "PATH = \"/content/drive/MyDrive/ASR/CONCAT\"\n",
        "EPOCHS = 10\n",
        "LearningRate = 0.001\n",
        "EXPERIMENT_NAME = \"MLP_VIDEO_AUDIO_CONCAT_2_CNN\"\n",
        "\n",
        "\n",
        "opt = optim.Adam(model.parameters(), lr=LearningRate)\n",
        "\n",
        "criterion = nn.CrossEntropyLoss()\n",
        "\n",
        "mean_loss_train = []\n",
        "mean_score_train = []\n",
        "\n",
        "mean_loss_test = []\n",
        "mean_score_test = []\n",
        "\n",
        "best_loss = float(\"inf\")\n",
        "best_score = 0\n",
        "for epoch in range(EPOCHS):\n",
        "    print(f\"Epoch: {epoch + 1}/{EPOCHS}\")\n",
        "    model.train().to(device)\n",
        "    running_loss = 0\n",
        "    running_score = 0\n",
        "    counter = 0\n",
        "    for data in tqdm(train_dataloader, desc=\"train\"):\n",
        "        target = data[\"target\"].to(device)\n",
        "        video_audio = data[\"video_audion\"].to(device).unsqueeze(1) # CNN1D\n",
        "        opt.zero_grad()\n",
        "\n",
        "        preds = model(video_audio)\n",
        "        loss = criterion(preds, target)\n",
        "        loss.backward()\n",
        "\n",
        "        running_loss += loss.item() * len(data[\"video_audion\"])\n",
        "        counter += len(data[\"video_audion\"])\n",
        "\n",
        "        opt.step()\n",
        "\n",
        "        preds = preds.argmax(axis=1).cpu().detach().numpy()\n",
        "        target = target.cpu().detach().numpy()\n",
        "        running_score += f1_score(target, preds, average='macro')\n",
        "\n",
        "    mean_loss_train.append(running_loss / counter)\n",
        "    mean_score_train.append(running_score / len(train_dataloader))\n",
        "    #print('Loss/train', running_loss / counter)\n",
        "    #print('F1/train', running_score / counter)\n",
        "\n",
        "    with torch.no_grad():\n",
        "        model.eval().to(device)\n",
        "        running_loss = 0\n",
        "        running_score = 0\n",
        "        counter = 0\n",
        "        for data in tqdm(test_dataloader, desc=\"val\"):\n",
        "            target = data[\"target\"].to(device)\n",
        "            video_audio = data[\"video_audion\"].to(device).unsqueeze(1) # CNN1D\n",
        "\n",
        "            preds = model(video_audio)\n",
        "            loss = criterion(preds, target)\n",
        "\n",
        "            running_loss += loss.item() * len(data[\"video_audion\"])\n",
        "            counter += len(data[\"video_audion\"])\n",
        "\n",
        "            preds = preds.argmax(axis=1).cpu().detach().numpy()\n",
        "            target = target.cpu().detach().numpy()\n",
        "            running_score += f1_score(target, preds, average='macro')\n",
        "\n",
        "\n",
        "    #print('F1/val', running_loss / counter)\n",
        "    #print('Loss/val', running_score / counter)\n",
        "    mean_loss_test.append(running_loss / counter)\n",
        "    mean_score_test.append(running_score / len(test_dataloader))\n",
        "\n",
        "    # if running_score > best_score and running_loss < best_loss:\n",
        "    #     best_score = running_score\n",
        "    #     best_loss = running_loss\n",
        "    #     torch.save(model.cpu().state_dict(), os.path.join(PATH, f\"{EXPERIMENT_NAME}_epoch_{epoch}.pt\"))\n",
        "    # elif running_score > best_score:\n",
        "    #     best_score = running_score\n",
        "    #     torch.save(model.cpu().state_dict(), os.path.join(PATH, f\"{EXPERIMENT_NAME}_epoch_{epoch}.pt\"))\n",
        "    # elif running_loss < best_loss:\n",
        "    #     best_loss = running_loss\n",
        "    #     torch.save(model.cpu().state_dict(), os.path.join(PATH, f\"{EXPERIMENT_NAME}_epoch_{epoch}.pt\"))\n",
        "    # elif epoch == EPOCHS - 1:\n",
        "    #     torch.save(model.cpu().state_dict(), os.path.join(PATH, f\"{EXPERIMENT_NAME}_epoch_{epoch}.pt\"))\n",
        "\n",
        "    if (epoch + 1) % 5 == 0:\n",
        "        plt.plot(np.arange(len(mean_loss_train)), mean_loss_train, label=\"train\")\n",
        "        plt.plot(np.arange(len(mean_loss_test)), mean_loss_test, label=\"test\")\n",
        "        plt.legend()\n",
        "        plt.show()"
      ],
      "metadata": {
        "colab": {
          "base_uri": "https://localhost:8080/",
          "height": 1000
        },
        "id": "QWHZEZPHFfUn",
        "outputId": "c7fce3cc-5c41-4fbc-d80c-38f24378069b"
      },
      "execution_count": null,
      "outputs": [
        {
          "output_type": "stream",
          "name": "stdout",
          "text": [
            "Epoch: 1/10\n"
          ]
        },
        {
          "output_type": "stream",
          "name": "stderr",
          "text": [
            "train: 100%|██████████| 634/634 [00:13<00:00, 45.89it/s]\n",
            "val: 100%|██████████| 100/100 [00:00<00:00, 131.04it/s]\n"
          ]
        },
        {
          "output_type": "stream",
          "name": "stdout",
          "text": [
            "Epoch: 2/10\n"
          ]
        },
        {
          "output_type": "stream",
          "name": "stderr",
          "text": [
            "train: 100%|██████████| 634/634 [00:11<00:00, 53.71it/s]\n",
            "val: 100%|██████████| 100/100 [00:00<00:00, 129.78it/s]\n"
          ]
        },
        {
          "output_type": "stream",
          "name": "stdout",
          "text": [
            "Epoch: 3/10\n"
          ]
        },
        {
          "output_type": "stream",
          "name": "stderr",
          "text": [
            "train: 100%|██████████| 634/634 [00:11<00:00, 53.78it/s]\n",
            "val: 100%|██████████| 100/100 [00:00<00:00, 130.56it/s]\n"
          ]
        },
        {
          "output_type": "stream",
          "name": "stdout",
          "text": [
            "Epoch: 4/10\n"
          ]
        },
        {
          "output_type": "stream",
          "name": "stderr",
          "text": [
            "train: 100%|██████████| 634/634 [00:11<00:00, 54.25it/s]\n",
            "val: 100%|██████████| 100/100 [00:00<00:00, 131.70it/s]\n"
          ]
        },
        {
          "output_type": "stream",
          "name": "stdout",
          "text": [
            "Epoch: 5/10\n"
          ]
        },
        {
          "output_type": "stream",
          "name": "stderr",
          "text": [
            "train: 100%|██████████| 634/634 [00:11<00:00, 53.93it/s]\n",
            "val: 100%|██████████| 100/100 [00:00<00:00, 130.96it/s]\n"
          ]
        },
        {
          "output_type": "display_data",
          "data": {
            "text/plain": [
              "<Figure size 432x288 with 1 Axes>"
            ],
            "image/png": "[encoded data removed]"
          },
          "metadata": {
            "needs_background": "light"
          }
        },
        {
          "output_type": "stream",
          "name": "stdout",
          "text": [
            "Epoch: 6/10\n"
          ]
        },
        {
          "output_type": "stream",
          "name": "stderr",
          "text": [
            "train: 100%|██████████| 634/634 [00:11<00:00, 54.10it/s]\n",
            "val: 100%|██████████| 100/100 [00:00<00:00, 126.81it/s]\n"
          ]
        },
        {
          "output_type": "stream",
          "name": "stdout",
          "text": [
            "Epoch: 7/10\n"
          ]
        },
        {
          "output_type": "stream",
          "name": "stderr",
          "text": [
            "train: 100%|██████████| 634/634 [00:12<00:00, 51.34it/s]\n",
            "val: 100%|██████████| 100/100 [00:00<00:00, 130.65it/s]\n"
          ]
        },
        {
          "output_type": "stream",
          "name": "stdout",
          "text": [
            "Epoch: 8/10\n"
          ]
        },
        {
          "output_type": "stream",
          "name": "stderr",
          "text": [
            "train: 100%|██████████| 634/634 [00:11<00:00, 53.88it/s]\n",
            "val: 100%|██████████| 100/100 [00:00<00:00, 129.00it/s]\n"
          ]
        },
        {
          "output_type": "stream",
          "name": "stdout",
          "text": [
            "Epoch: 9/10\n"
          ]
        },
        {
          "output_type": "stream",
          "name": "stderr",
          "text": [
            "train: 100%|██████████| 634/634 [00:11<00:00, 53.79it/s]\n",
            "val: 100%|██████████| 100/100 [00:00<00:00, 131.00it/s]\n"
          ]
        },
        {
          "output_type": "stream",
          "name": "stdout",
          "text": [
            "Epoch: 10/10\n"
          ]
        },
        {
          "output_type": "stream",
          "name": "stderr",
          "text": [
            "train: 100%|██████████| 634/634 [00:11<00:00, 54.70it/s]\n",
            "val: 100%|██████████| 100/100 [00:00<00:00, 111.59it/s]\n"
          ]
        },
        {
          "output_type": "display_data",
          "data": {
            "text/plain": [
              "<Figure size 432x288 with 1 Axes>"
            ],
            "image/png": "[encoded data removed]"
          },
          "metadata": {
            "needs_background": "light"
          }
        }
      ]
    },
    {
      "cell_type": "code",
      "source": [
        "predictions = []\n",
        "gt = []\n",
        "with torch.no_grad():\n",
        "    model.eval().to(device)\n",
        "    running_loss = 0\n",
        "    running_score = 0\n",
        "    counter = 0\n",
        "    for data in tqdm(test_dataloader, desc=\"val\"):\n",
        "        target = data[\"target\"].to(device)\n",
        "        video_audion = data[\"video_audion\"].to(device).unsqueeze(1)\n",
        "\n",
        "        preds = model(video_audion)\n",
        "\n",
        "        preds = preds.argmax(axis=1).cpu().detach().numpy()\n",
        "        predictions.extend(list(preds))\n",
        "        target = target.cpu().detach().numpy()\n",
        "        gt.extend(list(target))"
      ],
      "metadata": {
        "colab": {
          "base_uri": "https://localhost:8080/"
        },
        "id": "0_YyL7QAF9Nn",
        "outputId": "56b9f2c1-2278-445a-a09e-0b8aac122aaa"
      },
      "execution_count": null,
      "outputs": [
        {
          "output_type": "stream",
          "name": "stderr",
          "text": [
            "val: 100%|██████████| 100/100 [00:00<00:00, 128.20it/s]\n"
          ]
        }
      ]
    },
    {
      "cell_type": "code",
      "source": [
        "f1_score(gt, predictions, average='macro')"
      ],
      "metadata": {
        "colab": {
          "base_uri": "https://localhost:8080/"
        },
        "id": "UCoLwkAkVK5N",
        "outputId": "eb6ded9f-9025-48bb-aea7-263ffa2331d2"
      },
      "execution_count": null,
      "outputs": [
        {
          "output_type": "execute_result",
          "data": {
            "text/plain": [
              "0.17124471245100056"
            ]
          },
          "metadata": {},
          "execution_count": 334
        }
      ]
    },
    {
      "cell_type": "code",
      "source": [
        "softmax = nn.Softmax(dim=1) \n",
        "\n",
        "predictions = []\n",
        "gt = []\n",
        "with torch.no_grad():\n",
        "    model.eval().to(device)\n",
        "    running_loss = 0\n",
        "    running_score = 0\n",
        "    counter = 0\n",
        "    for data in tqdm(test_dataloader, desc=\"val\"):\n",
        "        target = data[\"target\"].to(device)\n",
        "        video_audion = data[\"video_audion\"].to(device).unsqueeze(1)\n",
        "\n",
        "        preds = model(video_audion)\n",
        "\n",
        "        preds = softmax(preds.cpu()).detach().numpy()\n",
        "        predictions.extend(np.array(preds))\n",
        "        target = target.cpu().detach().numpy()\n",
        "        gt.extend(list(target))"
      ],
      "metadata": {
        "colab": {
          "base_uri": "https://localhost:8080/"
        },
        "id": "3U3_BhMOJlQC",
        "outputId": "6bdf7cdf-1eff-4b0b-c51e-632757ac8f81"
      },
      "execution_count": null,
      "outputs": [
        {
          "output_type": "stream",
          "name": "stderr",
          "text": [
            "val: 100%|██████████| 100/100 [00:00<00:00, 120.75it/s]\n"
          ]
        }
      ]
    },
    {
      "cell_type": "code",
      "source": [
        "    roc_auc_score(gt, predictions, average='macro', multi_class=\"ovr\")"
      ],
      "metadata": {
        "colab": {
          "base_uri": "https://localhost:8080/"
        },
        "id": "cWkGcIXMJoaS",
        "outputId": "80273176-490d-45b6-9342-ed4d8758b7ae"
      },
      "execution_count": null,
      "outputs": [
        {
          "output_type": "execute_result",
          "data": {
            "text/plain": [
              "0.8248870175618829"
            ]
          },
          "metadata": {},
          "execution_count": 337
        }
      ]
    },
    {
      "cell_type": "code",
      "source": [
        "roc_auc_score(gt, predictions, average='macro', multi_class=\"ovo\")"
      ],
      "metadata": {
        "colab": {
          "base_uri": "https://localhost:8080/"
        },
        "id": "vOT_6jrdJ1Tx",
        "outputId": "17f9eb46-e213-41dc-f6d9-e61af14751ff"
      },
      "execution_count": null,
      "outputs": [
        {
          "output_type": "execute_result",
          "data": {
            "text/plain": [
              "0.8073504194489397"
            ]
          },
          "metadata": {},
          "execution_count": 338
        }
      ]
    },
    {
      "cell_type": "code",
      "source": [
        "roc_auc_score(gt, predictions, multi_class=\"ovr\")"
      ],
      "metadata": {
        "colab": {
          "base_uri": "https://localhost:8080/"
        },
        "id": "GqN1T8sNJ2Xn",
        "outputId": "98158eee-3fc8-4665-c790-1181df539ce1"
      },
      "execution_count": null,
      "outputs": [
        {
          "output_type": "execute_result",
          "data": {
            "text/plain": [
              "0.8248870175618829"
            ]
          },
          "metadata": {},
          "execution_count": 339
        }
      ]
    },
    {
      "cell_type": "code",
      "source": [
        "roc_auc_score(gt, predictions, multi_class=\"ovo\")"
      ],
      "metadata": {
        "colab": {
          "base_uri": "https://localhost:8080/"
        },
        "id": "YPFe9s7CJ3hJ",
        "outputId": "af460ec1-cdfc-47c2-97ad-83f629737cbe"
      },
      "execution_count": null,
      "outputs": [
        {
          "output_type": "execute_result",
          "data": {
            "text/plain": [
              "0.8073504194489397"
            ]
          },
          "metadata": {},
          "execution_count": 340
        }
      ]
    },
    {
      "cell_type": "code",
      "source": [],
      "metadata": {
        "id": "7OdpuhAdJ47a"
      },
      "execution_count": null,
      "outputs": []
    }
  ]
}