{
  "nbformat": 4,
  "nbformat_minor": 0,
  "metadata": {
    "colab": {
      "provenance": []
    },
    "kernelspec": {
      "name": "python3",
      "display_name": "Python 3"
    },
    "language_info": {
      "name": "python"
    },
    "accelerator": "GPU",
    "gpuClass": "standard"
  },
  "cells": [
    {
      "cell_type": "code",
      "execution_count": null,
      "metadata": {
        "colab": {
          "base_uri": "https://localhost:8080/"
        },
        "id": "uCNz4i_bQcKQ",
        "outputId": "01eb027d-0679-4981-c640-4b22f66ed1e7"
      },
      "outputs": [
        {
          "output_type": "stream",
          "name": "stderr",
          "text": [
            "[nltk_data] Downloading package stopwords to /root/nltk_data...\n",
            "[nltk_data]   Unzipping corpora/stopwords.zip.\n"
          ]
        },
        {
          "output_type": "execute_result",
          "data": {
            "text/plain": [
              "True"
            ]
          },
          "metadata": {},
          "execution_count": 2
        }
      ],
      "source": [
        "import numpy as np\n",
        "import torch\n",
        "import torch.nn as nn\n",
        "import torch.nn.functional as F\n",
        "import torch.optim as optim\n",
        "from torch.utils.data import DataLoader, Dataset\n",
        "import pandas as pd\n",
        "import re\n",
        "from torchtext.vocab import build_vocab_from_iterator\n",
        "from collections import defaultdict\n",
        "from nltk.corpus import stopwords\n",
        "import nltk\n",
        "\n",
        "nltk.download('stopwords')"
      ]
    },
    {
      "cell_type": "code",
      "source": [
        "def seed_everything(seed: int):\n",
        "    torch.manual_seed(seed)\n",
        "    torch.cuda.manual_seed(seed)\n",
        "    torch.backends.cudnn.deterministic = True\n",
        "    torch.backends.cudnn.benchmark = False\n",
        "    np.random.seed(seed)\n",
        "\n",
        "seed = 3407\n",
        "seed_everything(seed)\n",
        "\n",
        "stop_en = stopwords.words('english')\n",
        "stop_ru = stopwords.words('russian')"
      ],
      "metadata": {
        "id": "YWe18Cs0QiJG"
      },
      "execution_count": null,
      "outputs": []
    },
    {
      "cell_type": "code",
      "source": [
        "filename = \"/content/drive/MyDrive/ASR/lemma/lemma_train.csv\"\n",
        "df = pd.read_csv(filename)"
      ],
      "metadata": {
        "id": "kWEuePLWQlLF"
      },
      "execution_count": null,
      "outputs": []
    },
    {
      "cell_type": "code",
      "source": [
        "columns = [\"lemma\"]\n",
        "df = df[columns]"
      ],
      "metadata": {
        "id": "hzVAnYMYd6Ar"
      },
      "execution_count": null,
      "outputs": []
    },
    {
      "cell_type": "code",
      "source": [
        "def remove_emojis(data):\n",
        "    emoj = re.compile(\"[\"\n",
        "        u\"\\U0001F600-\\U0001F64F\"  # emoticons\n",
        "        u\"\\U0001F300-\\U0001F5FF\"  # symbols & pictographs\n",
        "        u\"\\U0001F680-\\U0001F6FF\"  # transport & map symbols\n",
        "        u\"\\U0001F1E0-\\U0001F1FF\"  # flags (iOS)\n",
        "        u\"\\U00002500-\\U00002BEF\"  # chinese char\n",
        "        u\"\\U00002702-\\U000027B0\"\n",
        "        u\"\\U00002702-\\U000027B0\"\n",
        "        u\"\\U000024C2-\\U0001F251\"\n",
        "        u\"\\U0001f926-\\U0001f937\"\n",
        "        u\"\\U00010000-\\U0010ffff\"\n",
        "        u\"\\u2640-\\u2642\"\n",
        "        u\"\\u2600-\\u2B55\"\n",
        "        u\"\\u200d\"\n",
        "        u\"\\u23cf\"\n",
        "        u\"\\u23e9\"\n",
        "        u\"\\u231a\"\n",
        "        u\"\\ufe0f\"  # dingbats\n",
        "        u\"\\u3030\"\n",
        "        u\"\\200d\"\n",
        "        u\"\\2063\"\n",
        "        u\"\\2063\"\n",
        "        u\"\\u200b\"\n",
        "        u\"\\ufeff\"\n",
        "        \"]+\", re.UNICODE)\n",
        "    return re.sub(emoj, ' ', data)"
      ],
      "metadata": {
        "id": "3nQRQtcnd8PC"
      },
      "execution_count": null,
      "outputs": []
    },
    {
      "cell_type": "code",
      "source": [
        "def parse_lemma(lemmas):\n",
        "    output = []\n",
        "    for lemma in lemmas:\n",
        "        tokens = re.findall(r\"'[^']+'\", lemma)\n",
        "        sent = []\n",
        "        for token in tokens:\n",
        "            token = token.replace(\"'\", \"\").replace(\"«\", \"\").replace(\"»\", \"\")\n",
        "            token = remove_emojis(token).replace(\"\\\\ufeff\", \"\").replace(\"\\\\u200b\", \"\").replace(\"\\\\u200\", \"\").replace(\"\\\\U0001faf1\", \"\").replace(\"\\\\U0001faf6\", \"\").replace(\"\\\\U0001faf2\", \"\").replace(\"\\\\U0001fac5\", \"\").replace(\"®\", \"\").replace(\"\\\\u206\", \"\").replace(\"\\\\u2066\", \"\").replace(\"\\\\u2069\", \"\").replace(\" \", \"\").replace(\"\\\\U0001faa9\", \"\").replace(\"\\\\U0001f979\", \"\").replace(\"\\\\U0001fab8\", \"\").replace(\"\\\\uf8ff\", \"\").replace(\"•\", \"\").replace(\"מאייר\", \"\").replace(\"אִיוּר\", \"\").replace(\"\\\\U0001fae7\", \"\").replace(\"\\\\U0001f979\", \"\").replace(\"\\\\U0001fae2\", \"\").replace(\"—\", \"\").strip()\n",
        "            token = token.replace(\"⏱\", \"\").replace(\"⏰\", \"\").replace(\"⏭\", \"\").replace(\"⌛\", \"\").replace(\"∆\", \"\").replace(\"↗\", \"\").replace(\"↖\", \"\").replace(\"⃣₽\", \"\").replace(\"⃣\", \"\").replace(\"?\", \"\").replace(\"!\", \"\").replace(\"\\\\U0001fae\", \"\")\n",
        "            token = token.replace(\"‼\", \"\").replace(\"₽\", \"\").replace(\"⁉\", \"\").replace(\"…\", \"\").replace(\"ᅠᅠᅠᅠᅠᅠᅠᅠᅠᅠᅠᅠᅠᅠᅠᅠᅠᅠᅠᅠᅠᅠᅠᅠᅠᅠᅠᅠᅠᅠᅠᅠᅠᅠᅠᅠᅠᅠᅠᅠᅠᅠᅠᅠᅠᅠᅠᅠᅠᅠᅠᅠᅠᅠᅠᅠᅠᅠᅠᅠ\", \"\")\n",
        "            if token and len(token) > 2 and token not in stop_en and token not in stop_ru:\n",
        "                sent.append(token)\n",
        "        output.append(remove_emojis(\" \".join(sent)).strip().split())\n",
        "    return output"
      ],
      "metadata": {
        "id": "HUJFCrBZd9Ea"
      },
      "execution_count": null,
      "outputs": []
    },
    {
      "cell_type": "code",
      "source": [
        "tokenized_corpus = parse_lemma(df[\"lemma\"].to_list())"
      ],
      "metadata": {
        "id": "KG4itRIad-C5"
      },
      "execution_count": null,
      "outputs": []
    },
    {
      "cell_type": "code",
      "source": [
        "vocab = build_vocab_from_iterator(\n",
        "    tokenized_corpus,\n",
        "    specials=[\"<unk>\"],\n",
        "    min_freq=1,\n",
        ")\n",
        "vocab.set_default_index(vocab[\"<unk>\"])"
      ],
      "metadata": {
        "id": "S8VPhA8FedYf"
      },
      "execution_count": null,
      "outputs": []
    },
    {
      "cell_type": "code",
      "source": [
        "len(vocab)"
      ],
      "metadata": {
        "colab": {
          "base_uri": "https://localhost:8080/"
        },
        "id": "vctUydu7eklP",
        "outputId": "15a1b91e-ff87-4223-d2df-eec14f40e7ce"
      },
      "execution_count": null,
      "outputs": [
        {
          "output_type": "execute_result",
          "data": {
            "text/plain": [
              "223989"
            ]
          },
          "metadata": {},
          "execution_count": 109
        }
      ]
    },
    {
      "cell_type": "code",
      "source": [
        "window_size = 2\n",
        "idx_pairs = []\n",
        "for sentence in tokenized_corpus:\n",
        "  indices = [vocab[word] if word in word else 0 for word in sentence]\n",
        "  for center_word_pos in range(len(indices)):\n",
        "    for w in range(-window_size, window_size+1):\n",
        "      context_word_pos = center_word_pos + w\n",
        "      if (context_word_pos < 0) or (context_word_pos >= len(indices)) or center_word_pos == context_word_pos:\n",
        "        continue\n",
        "      context_word_idx = indices[context_word_pos]\n",
        "      idx_pairs.append((indices[center_word_pos], context_word_idx))\n",
        "\n",
        "dataset_pairs = torch.tensor(idx_pairs)\n",
        "dataset_pairs[:5]"
      ],
      "metadata": {
        "colab": {
          "base_uri": "https://localhost:8080/"
        },
        "id": "2KeLqKYjePsv",
        "outputId": "b91a8772-b5b8-435b-ed6b-cb3d4af81669"
      },
      "execution_count": null,
      "outputs": [
        {
          "output_type": "execute_result",
          "data": {
            "text/plain": [
              "tensor([[ 9629, 12878],\n",
              "        [ 9629, 15783],\n",
              "        [12878,  9629],\n",
              "        [12878, 15783],\n",
              "        [12878, 14509]])"
            ]
          },
          "metadata": {},
          "execution_count": 111
        }
      ]
    },
    {
      "cell_type": "code",
      "source": [
        "class SkipgramDataset(Dataset):\n",
        "    def __init__(self, dataset_pairs):\n",
        "        self.pairs = dataset_pairs\n",
        "\n",
        "    def __getitem__(self, item):\n",
        "        middle_word, target_word = self.pairs[item]\n",
        "        return middle_word, target_word\n",
        "\n",
        "    def __len__(self):\n",
        "        return len(self.pairs)\n",
        "\n",
        "dataset = SkipgramDataset(dataset_pairs)\n",
        "dataloader = DataLoader(dataset=dataset, shuffle=True, batch_size=1024)"
      ],
      "metadata": {
        "id": "D5AKmLB6ePwE"
      },
      "execution_count": null,
      "outputs": []
    },
    {
      "cell_type": "code",
      "source": [
        "class SkipGram(nn.Module):\n",
        "    \"\"\"\n",
        "    Implementation of Skip-Gram model described in paper:\n",
        "    https://arxiv.org/abs/1301.3781\n",
        "    \"\"\"\n",
        "    def __init__(self, vocab_size: int, embed_dim: int):\n",
        "        super(SkipGram, self).__init__()\n",
        "        self.embeddings = nn.Embedding(\n",
        "            num_embeddings=vocab_size,\n",
        "            embedding_dim=embed_dim,\n",
        "        )\n",
        "        self.linear = nn.Linear(\n",
        "            in_features=embed_dim,\n",
        "            out_features=vocab_size,\n",
        "        )\n",
        "\n",
        "    def forward(self, inputs_):\n",
        "        x = self.embeddings(inputs_)\n",
        "        x = self.linear(x)\n",
        "        return x"
      ],
      "metadata": {
        "id": "OOb9guv5ePye"
      },
      "execution_count": null,
      "outputs": []
    },
    {
      "cell_type": "code",
      "source": [
        "device = torch.device(\"cuda:0\" if torch.cuda.is_available() else \"cpu\")\n",
        "embed_dim = 100\n",
        "lr = 0.001\n",
        "EPOCHS = 27\n",
        "\n",
        "#model = SkipGram(len(vocab.get_itos()), embed_dim=embed_dim).to(device)\n",
        "criterion = nn.CrossEntropyLoss()\n",
        "#opt = optim.Adam(model.parameters(), lr=lr)\n",
        "\n",
        "losses = []\n",
        "for epoch in range(21, EPOCHS):\n",
        "    loss_acc = []\n",
        "    for input, output in dataloader:\n",
        "        opt.zero_grad()\n",
        "        input = input.to(device)\n",
        "        output = output.to(device)\n",
        "\n",
        "        preds = model(input)\n",
        "        loss = criterion(preds, output)\n",
        "\n",
        "        loss_acc.append(loss.detach().cpu().item())\n",
        "        loss.backward()\n",
        "        opt.step()\n",
        "    loss_acc = np.mean(loss_acc)\n",
        "    print(f\"Epoch: {epoch + 1}/{EPOCHS} | Loss :{loss_acc}\")"
      ],
      "metadata": {
        "colab": {
          "base_uri": "https://localhost:8080/"
        },
        "id": "OGgduS-ZeP03",
        "outputId": "6bbe616e-1ef6-4aad-a7ec-f562a39ee84b"
      },
      "execution_count": null,
      "outputs": [
        {
          "output_type": "stream",
          "name": "stdout",
          "text": [
            "Epoch: 22/27 | Loss :6.031286530675858\n",
            "Epoch: 23/27 | Loss :6.0079461943875305\n",
            "Epoch: 24/27 | Loss :5.98644970888413\n",
            "Epoch: 25/27 | Loss :5.966037571918648\n",
            "Epoch: 26/27 | Loss :5.947593403004641\n",
            "Epoch: 27/27 | Loss :5.930054538741963\n"
          ]
        }
      ]
    },
    {
      "cell_type": "code",
      "source": [
        "torch.save(model.state_dict(), \"/content/drive/MyDrive/ASR/word2vec/word2vec_6.pt\") # 4.pt: 6.2211307811476555 5: 6.056594998895131"
      ],
      "metadata": {
        "id": "3dyoPGsxd_Fx"
      },
      "execution_count": null,
      "outputs": []
    },
    {
      "cell_type": "code",
      "source": [
        "# '⃣₽'.replace(\"⏱\", \"\").replace(\"⏰\", \"\").replace(\"⏭\", \"\").replace(\"⌛\", \"\").replace(\"∆\", \"\").replace(\"↗\", \"\").replace(\"↖\", \"\").replace(\"⃣₽\", \"\").replace(\"⃣\", \"\").replace(\"?\", \"\").replace(\"!\", \"\").replace(\"\\\\U0001fae\", \"\")"
      ],
      "metadata": {
        "colab": {
          "base_uri": "https://localhost:8080/",
          "height": 36
        },
        "id": "wKxj6fSesxzY",
        "outputId": "9359d1b6-7071-473b-95a2-4bc519ec8e98"
      },
      "execution_count": null,
      "outputs": [
        {
          "output_type": "execute_result",
          "data": {
            "text/plain": [
              "''"
            ],
            "application/vnd.google.colaboratory.intrinsic+json": {
              "type": "string"
            }
          },
          "metadata": {},
          "execution_count": 31
        }
      ]
    },
    {
      "cell_type": "code",
      "source": [
        "import json\n",
        "with open(\"/content/drive/MyDrive/ASR/word2vec/word2vec_2.json\",\"w\") as f:\n",
        "    data = json.dump(vocab.get_stoi(), f, indent=4)\n"
      ],
      "metadata": {
        "id": "dbg3srR2sdQj"
      },
      "execution_count": null,
      "outputs": []
    },
    {
      "cell_type": "code",
      "source": [
        "target = model.embeddings._parameters[\"weight\"][17085]"
      ],
      "metadata": {
        "id": "wLS-QhnQvcEl"
      },
      "execution_count": null,
      "outputs": []
    },
    {
      "cell_type": "code",
      "source": [
        "vocab[\"матушка\"]"
      ],
      "metadata": {
        "colab": {
          "base_uri": "https://localhost:8080/"
        },
        "id": "84Ub_iNsfknE",
        "outputId": "30b475d9-1e5f-40ea-d21c-bcefb982712c"
      },
      "execution_count": null,
      "outputs": [
        {
          "output_type": "execute_result",
          "data": {
            "text/plain": [
              "17085"
            ]
          },
          "metadata": {},
          "execution_count": 45
        }
      ]
    },
    {
      "cell_type": "code",
      "source": [
        "model.embeddings._parameters[\"weight\"].shape"
      ],
      "metadata": {
        "colab": {
          "base_uri": "https://localhost:8080/"
        },
        "id": "JSs2fThEwGB4",
        "outputId": "1960493d-2b4a-494c-a52f-fb77eef6bfd7"
      },
      "execution_count": null,
      "outputs": [
        {
          "output_type": "execute_result",
          "data": {
            "text/plain": [
              "torch.Size([225160, 100])"
            ]
          },
          "metadata": {},
          "execution_count": 60
        }
      ]
    },
    {
      "cell_type": "code",
      "source": [
        "def closest(target, vec):\n",
        "    dists = torch.sqrt(((target - vec) ** 2).sum())\n",
        "    return dists.argmin()"
      ],
      "metadata": {
        "id": "2TTHFL2vuume"
      },
      "execution_count": null,
      "outputs": []
    },
    {
      "cell_type": "code",
      "source": [
        "closest_vec = []\n",
        "for i in range(model.embeddings._parameters[\"weight\"].shape[0]):\n",
        "    closest_vec.append(closest(target, model.embeddings._parameters[\"weight\"][i]))"
      ],
      "metadata": {
        "id": "4KgswsCpwNVA"
      },
      "execution_count": null,
      "outputs": []
    },
    {
      "cell_type": "code",
      "source": [
        "torch.topk(torch.tensor(closest_vec), k=20, largest=False)"
      ],
      "metadata": {
        "colab": {
          "base_uri": "https://localhost:8080/"
        },
        "id": "legd9jguwZsd",
        "outputId": "b9edaa30-6502-47f6-ae95-aa5efcf8887d"
      },
      "execution_count": null,
      "outputs": [
        {
          "output_type": "execute_result",
          "data": {
            "text/plain": [
              "torch.return_types.topk(\n",
              "values=tensor([0, 0, 0, 0, 0, 0, 0, 0, 0, 0, 0, 0, 0, 0, 0, 0, 0, 0, 0, 0]),\n",
              "indices=tensor([18, 10,  4, 16, 12,  8, 19,  1, 11,  5, 15, 13,  7, 17,  3,  9,  0,  2,\n",
              "         6, 14]))"
            ]
          },
          "metadata": {},
          "execution_count": 84
        }
      ]
    },
    {
      "cell_type": "code",
      "source": [
        "idx2word = {v: k for k, v in vocab.get_stoi().items()}"
      ],
      "metadata": {
        "id": "sgILQKvvw1jt"
      },
      "execution_count": null,
      "outputs": []
    },
    {
      "cell_type": "code",
      "source": [],
      "metadata": {
        "id": "i8_2x0ruy6Ys"
      },
      "execution_count": null,
      "outputs": []
    }
  ]
}