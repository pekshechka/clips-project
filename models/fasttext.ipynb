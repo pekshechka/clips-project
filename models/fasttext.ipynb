{
 "cells": [
  {
   "cell_type": "code",
   "execution_count": 1,
   "metadata": {
    "collapsed": true
   },
   "outputs": [],
   "source": [
    "import json\n",
    "import re\n",
    "from collections import Counter, defaultdict\n",
    "from typing import Any, Dict, List\n",
    "\n",
    "from nltk.corpus import stopwords\n",
    "from sklearn.pipeline import Pipeline\n",
    "import matplotlib.pyplot as plt\n",
    "import numpy as np\n",
    "import pandas as pd\n",
    "import seaborn as sns\n",
    "from catboost import CatBoostClassifier\n",
    "from sklearn.metrics import (accuracy_score, confusion_matrix, f1_score,\n",
    "                             roc_auc_score)\n",
    "from sklearn.model_selection import train_test_split\n",
    "from sklearn.utils.class_weight import compute_class_weight\n",
    "from sklearn.linear_model import LogisticRegression\n",
    "from sklearn.feature_extraction.text import CountVectorizer, TfidfVectorizer\n",
    "import eli5\n",
    "import fasttext\n",
    "import seaborn as sns\n",
    "from natasha import (\n",
    "    Segmenter,\n",
    "    MorphVocab,\n",
    "\n",
    "    NewsEmbedding,\n",
    "    NewsMorphTagger,\n",
    "    NewsSyntaxParser,\n",
    "    NewsNERTagger,\n",
    "\n",
    "    PER,\n",
    "    NamesExtractor,\n",
    "\n",
    "    Doc\n",
    ")\n",
    "\n",
    "Array = Any"
   ]
  },
  {
   "cell_type": "code",
   "execution_count": 2,
   "outputs": [],
   "source": [
    "segmenter = Segmenter()\n",
    "morph_vocab = MorphVocab()\n",
    "emb = NewsEmbedding()\n",
    "morph_tagger = NewsMorphTagger(emb)\n",
    "syntax_parser = NewsSyntaxParser(emb)\n",
    "ner_tagger = NewsNERTagger(emb)\n",
    "names_extractor = NamesExtractor(morph_vocab)"
   ],
   "metadata": {
    "collapsed": false
   }
  },
  {
   "cell_type": "code",
   "execution_count": 2,
   "outputs": [],
   "source": [
    "filename = \"dataset/clean_csv/text.csv\"\n",
    "\n",
    "df = pd.read_csv(filename)"
   ],
   "metadata": {
    "collapsed": false
   }
  },
  {
   "cell_type": "code",
   "execution_count": 40,
   "outputs": [
    {
     "name": "stderr",
     "output_type": "stream",
     "text": [
      "Warning : `load_model` does not return WordVectorModel or SupervisedModel any more, but a `FastText` object which is very similar.\n"
     ]
    }
   ],
   "source": [
    "model = fasttext.load_model(\"pretrained/ft_native_300_ru_twitter_nltk_word_tokenize.bin\")"
   ],
   "metadata": {
    "collapsed": false
   }
  },
  {
   "cell_type": "code",
   "execution_count": 4,
   "outputs": [],
   "source": [
    "def get_average_fasttext(words):\n",
    "    embeds = []\n",
    "    for word in words:\n",
    "        if word in model:\n",
    "            embeds.append(model[word])\n",
    "    return np.mean(embeds, axis=0)\n"
   ],
   "metadata": {
    "collapsed": false
   }
  },
  {
   "cell_type": "code",
   "execution_count": 5,
   "outputs": [],
   "source": [
    "df = df[['date', 'clipTarget', 'description']]\n",
    "df_train = df.iloc[:324160, :]\n",
    "df_train = df_train.dropna(subset=['description']).reset_index(drop=True)\n",
    "\n",
    "\n",
    "df_test = df.iloc[324160:, :]\n",
    "df_test = df_test.dropna(subset=['description']).reset_index(drop=True)\n",
    "del df"
   ],
   "metadata": {
    "collapsed": false
   }
  },
  {
   "cell_type": "code",
   "execution_count": 5,
   "outputs": [],
   "source": [
    "def text_preprocessing(data):\n",
    "    punc = '''!()-[]{};:'\"\\,<>./?@#$%^&*_~'''\n",
    "    stop = stopwords.words('russian')\n",
    "    data  = \" \".join(x.lower() for x in data.split())\n",
    "    data = data.replace('[^\\w\\s]','')\n",
    "    data = data.replace('#',' ')\n",
    "    data = \" \".join(x for x in data.split() if x not in stop)\n",
    "    for sent in data:\n",
    "        if sent in punc:\n",
    "            data = data.replace(sent, \"\")\n",
    "    return data"
   ],
   "metadata": {
    "collapsed": false
   }
  },
  {
   "cell_type": "code",
   "execution_count": 27,
   "outputs": [],
   "source": [
    "df_train['clean_text'] = df_train[\"description\"].apply(lambda row: text_preprocessing(row))\n",
    "df_test['clean_text'] = df_test[\"description\"].apply(lambda row: text_preprocessing(row))"
   ],
   "metadata": {
    "collapsed": false
   }
  },
  {
   "cell_type": "code",
   "execution_count": 6,
   "outputs": [],
   "source": [
    "def lemmatize(text):\n",
    "    doc = Doc(text)\n",
    "    doc.segment(segmenter)\n",
    "    doc.tag_morph(morph_tagger)\n",
    "    for token in doc.tokens:\n",
    "        token.lemmatize(morph_vocab)\n",
    "    tokens = []\n",
    "    for token in doc.tokens:\n",
    "        tokens.append(token.lemma)\n",
    "    return tokens"
   ],
   "metadata": {
    "collapsed": false
   }
  },
  {
   "cell_type": "code",
   "execution_count": 30,
   "outputs": [],
   "source": [
    "df_train['lemma'] = df_train[\"clean_text\"].apply(lambda row: lemmatize(row))\n",
    "df_test['lemma'] = df_test[\"clean_text\"].apply(lambda row: lemmatize(row))"
   ],
   "metadata": {
    "collapsed": false
   }
  },
  {
   "cell_type": "code",
   "execution_count": 67,
   "outputs": [
    {
     "data": {
      "text/plain": "              date clipTarget  \\\n20512   2022-04-03     TRAVEL   \n222180  2022-07-06     TRAVEL   \n96209   2022-04-30      DANCE   \n194080  2022-06-16      SPORT   \n63563   2022-04-18       BLOG   \n\n                                              description  \\\n20512                   #Гиза #китай #интересное #история   \n222180  Лучшие места Приморья Часть . Сохраняй🔥 ⠀ Путе...   \n96209   Залатинились с девчонками в 👯‍♀️💃🏼 Я уже пол г...   \n194080                                #лайктайм #liketime   \n63563                                    #мнениеитальянца   \n\n                                               clean_text  \\\n20512                       гиза китай интересное история   \n222180  лучшие места приморья часть  сохраняй🔥 ⠀ путеш...   \n96209   залатинились девчонками 👯‍♀️💃🏼 пол года каждый...   \n194080                                  лайктайм liketime   \n63563                                     мнениеитальянца   \n\n                                                    lemma  \n20512                   [гиз, китай, интересный, история]  \n222180  [хороший, место, приморье, часть, сохраняй🔥, ⠀...  \n96209   [залатинилися, девчонка, 👯‍♀️💃🏼, пол, год, каж...  \n194080                               [лайктайм, liketime]  \n63563                                   [мнениеитальянец]  ",
      "text/html": "<div>\n<style scoped>\n    .dataframe tbody tr th:only-of-type {\n        vertical-align: middle;\n    }\n\n    .dataframe tbody tr th {\n        vertical-align: top;\n    }\n\n    .dataframe thead th {\n        text-align: right;\n    }\n</style>\n<table border=\"1\" class=\"dataframe\">\n  <thead>\n    <tr style=\"text-align: right;\">\n      <th></th>\n      <th>date</th>\n      <th>clipTarget</th>\n      <th>description</th>\n      <th>clean_text</th>\n      <th>lemma</th>\n    </tr>\n  </thead>\n  <tbody>\n    <tr>\n      <th>20512</th>\n      <td>2022-04-03</td>\n      <td>TRAVEL</td>\n      <td>#Гиза #китай #интересное #история</td>\n      <td>гиза китай интересное история</td>\n      <td>[гиз, китай, интересный, история]</td>\n    </tr>\n    <tr>\n      <th>222180</th>\n      <td>2022-07-06</td>\n      <td>TRAVEL</td>\n      <td>Лучшие места Приморья Часть . Сохраняй🔥 ⠀ Путе...</td>\n      <td>лучшие места приморья часть  сохраняй🔥 ⠀ путеш...</td>\n      <td>[хороший, место, приморье, часть, сохраняй🔥, ⠀...</td>\n    </tr>\n    <tr>\n      <th>96209</th>\n      <td>2022-04-30</td>\n      <td>DANCE</td>\n      <td>Залатинились с девчонками в 👯‍♀️💃🏼 Я уже пол г...</td>\n      <td>залатинились девчонками 👯‍♀️💃🏼 пол года каждый...</td>\n      <td>[залатинилися, девчонка, 👯‍♀️💃🏼, пол, год, каж...</td>\n    </tr>\n    <tr>\n      <th>194080</th>\n      <td>2022-06-16</td>\n      <td>SPORT</td>\n      <td>#лайктайм #liketime</td>\n      <td>лайктайм liketime</td>\n      <td>[лайктайм, liketime]</td>\n    </tr>\n    <tr>\n      <th>63563</th>\n      <td>2022-04-18</td>\n      <td>BLOG</td>\n      <td>#мнениеитальянца</td>\n      <td>мнениеитальянца</td>\n      <td>[мнениеитальянец]</td>\n    </tr>\n  </tbody>\n</table>\n</div>"
     },
     "execution_count": 67,
     "metadata": {},
     "output_type": "execute_result"
    }
   ],
   "source": [
    "df_train.sample(5)"
   ],
   "metadata": {
    "collapsed": false
   }
  },
  {
   "cell_type": "code",
   "execution_count": 39,
   "outputs": [
    {
     "name": "stderr",
     "output_type": "stream",
     "text": [
      "/home/xrenya/miniconda3/envs/dev/lib/python3.10/site-packages/numpy/core/fromnumeric.py:3432: RuntimeWarning: Mean of empty slice.\n",
      "  return _methods._mean(a, axis=axis, dtype=dtype,\n",
      "/home/xrenya/miniconda3/envs/dev/lib/python3.10/site-packages/numpy/core/_methods.py:190: RuntimeWarning: invalid value encountered in double_scalars\n",
      "  ret = ret.dtype.type(ret / rcount)\n"
     ]
    }
   ],
   "source": [
    "X_train_text = [get_average_fasttext(text) for text in df_train['lemma'].to_list()]\n",
    "X_test_text = [get_average_fasttext(text) for text in df_test['lemma'].to_list()]"
   ],
   "metadata": {
    "collapsed": false
   }
  },
  {
   "cell_type": "code",
   "execution_count": 51,
   "outputs": [],
   "source": [
    "train = [mat if len(mat.shape) > 0 else np.zeros(100) for mat in X_train_text]"
   ],
   "metadata": {
    "collapsed": false
   }
  },
  {
   "cell_type": "code",
   "execution_count": 54,
   "outputs": [],
   "source": [
    "test = [mat if len(mat.shape) > 0 else np.zeros(100) for mat in X_test_text]"
   ],
   "metadata": {
    "collapsed": false
   }
  },
  {
   "cell_type": "code",
   "execution_count": 57,
   "outputs": [],
   "source": [
    "log_reg = LogisticRegression(solver='newton-cg')"
   ],
   "metadata": {
    "collapsed": false
   }
  },
  {
   "cell_type": "code",
   "execution_count": 61,
   "outputs": [],
   "source": [
    "model = log_reg.fit(train, df_train[\"clipTarget\"])"
   ],
   "metadata": {
    "collapsed": false
   }
  },
  {
   "cell_type": "code",
   "execution_count": 62,
   "outputs": [
    {
     "name": "stdout",
     "output_type": "stream",
     "text": [
      "0.8238701277820059\n",
      "0.2514850436668297\n"
     ]
    }
   ],
   "source": [
    "print(roc_auc_score(df_test[\"clipTarget\"].to_list(), model.predict_proba(test), multi_class='ovr'))\n",
    "print(f1_score(df_test[\"clipTarget\"].to_list(), model.predict(test), average='macro'))"
   ],
   "metadata": {
    "collapsed": false
   }
  },
  {
   "cell_type": "code",
   "execution_count": 64,
   "outputs": [
    {
     "data": {
      "text/plain": "(225242, 100)"
     },
     "execution_count": 64,
     "metadata": {},
     "output_type": "execute_result"
    }
   ],
   "source": [
    "np.array(train).shape"
   ],
   "metadata": {
    "collapsed": false
   }
  },
  {
   "cell_type": "code",
   "execution_count": 65,
   "outputs": [],
   "source": [
    "# np.save('dataset/description/train_desc.npy', np.array(train))\n",
    "# np.save('dataset/description/test_desc.npy', np.array(test))\n",
    "# df_train.to_csv(\"dataset/clean_csv/lemma_train.csv\", index=False)\n",
    "# df_test.to_csv(\"dataset/clean_csv/lemma_test.csv\", index=False)"
   ],
   "metadata": {
    "collapsed": false
   }
  },
  {
   "cell_type": "code",
   "execution_count": 34,
   "outputs": [],
   "source": [
    "del df_train, df_test, train, test"
   ],
   "metadata": {
    "collapsed": false
   }
  },
  {
   "cell_type": "code",
   "execution_count": 35,
   "outputs": [],
   "source": [
    "filename = \"dataset/clean_csv/text.csv\"\n",
    "\n",
    "df = pd.read_csv(filename)"
   ],
   "metadata": {
    "collapsed": false
   }
  },
  {
   "cell_type": "code",
   "execution_count": 36,
   "outputs": [],
   "source": [
    "df = df[['date', 'clipTarget', 'asr']]\n",
    "df_train = df.iloc[:324160, :]\n",
    "df_train = df_train.dropna(subset=['asr']).reset_index(drop=True)\n",
    "\n",
    "\n",
    "df_test = df.iloc[324160:, :]\n",
    "df_test = df_test.dropna(subset=['asr']).reset_index(drop=True)\n",
    "del df"
   ],
   "metadata": {
    "collapsed": false
   }
  },
  {
   "cell_type": "code",
   "execution_count": 37,
   "outputs": [],
   "source": [
    "df_train['clean_asr'] = df_train[\"asr\"].apply(lambda row: text_preprocessing(row))\n",
    "df_test['clean_asr'] = df_test[\"asr\"].apply(lambda row: text_preprocessing(row))"
   ],
   "metadata": {
    "collapsed": false
   }
  },
  {
   "cell_type": "code",
   "execution_count": 38,
   "outputs": [],
   "source": [
    "df_train['lemma_asr'] = df_train[\"clean_asr\"].apply(lambda row: lemmatize(row))\n",
    "df_test['lemma_asr'] = df_test[\"clean_asr\"].apply(lambda row: lemmatize(row))"
   ],
   "metadata": {
    "collapsed": false
   }
  },
  {
   "cell_type": "code",
   "execution_count": 12,
   "outputs": [
    {
     "data": {
      "text/plain": "            date clipTarget  \\\n2868  2022-04-06    THEATER   \n6375  2022-04-07       FOOD   \n2335  2022-04-06       BLOG   \n935   2022-04-05       KIDS   \n904   2022-04-05       KIDS   \n\n                                                    asr  \\\n2868  Так вот эти персонажи у нас выглядели на изах ...   \n6375  Приготовим быстрый и простой вариант ужина блю...   \n2335  Сегодня день весеннего равноденствия и иди на ...   \n935   И он не прочел, который день они заметил, а св...   \n904   Не сиди солнце и коте говорили, все тут ничего...   \n\n                                              clean_asr  \\\n2868  персонажи выглядели изах это отит это соответс...   \n6375  приготовим быстрый простой вариант ужина блюдо...   \n2335  сегодня день весеннего равноденствия иди это в...   \n935   прочел который день заметил своим духом навстр...   \n904   сиди солнце коте говорили светит раскрасим пит...   \n\n                                              lemma_asr  \n2868  [персонаж, выглядеть, изах, это, отит, это, со...  \n6375  [приготовить, быстрый, простой, вариант, ужин,...  \n2335  [сегодня, день, весенний, равноденствие, идти,...  \n935   [прочесть, который, день, заметить, свой, дух,...  \n904   [сиди, солнце, кот, говорить, светит, раскраси...  ",
      "text/html": "<div>\n<style scoped>\n    .dataframe tbody tr th:only-of-type {\n        vertical-align: middle;\n    }\n\n    .dataframe tbody tr th {\n        vertical-align: top;\n    }\n\n    .dataframe thead th {\n        text-align: right;\n    }\n</style>\n<table border=\"1\" class=\"dataframe\">\n  <thead>\n    <tr style=\"text-align: right;\">\n      <th></th>\n      <th>date</th>\n      <th>clipTarget</th>\n      <th>asr</th>\n      <th>clean_asr</th>\n      <th>lemma_asr</th>\n    </tr>\n  </thead>\n  <tbody>\n    <tr>\n      <th>2868</th>\n      <td>2022-04-06</td>\n      <td>THEATER</td>\n      <td>Так вот эти персонажи у нас выглядели на изах ...</td>\n      <td>персонажи выглядели изах это отит это соответс...</td>\n      <td>[персонаж, выглядеть, изах, это, отит, это, со...</td>\n    </tr>\n    <tr>\n      <th>6375</th>\n      <td>2022-04-07</td>\n      <td>FOOD</td>\n      <td>Приготовим быстрый и простой вариант ужина блю...</td>\n      <td>приготовим быстрый простой вариант ужина блюдо...</td>\n      <td>[приготовить, быстрый, простой, вариант, ужин,...</td>\n    </tr>\n    <tr>\n      <th>2335</th>\n      <td>2022-04-06</td>\n      <td>BLOG</td>\n      <td>Сегодня день весеннего равноденствия и иди на ...</td>\n      <td>сегодня день весеннего равноденствия иди это в...</td>\n      <td>[сегодня, день, весенний, равноденствие, идти,...</td>\n    </tr>\n    <tr>\n      <th>935</th>\n      <td>2022-04-05</td>\n      <td>KIDS</td>\n      <td>И он не прочел, который день они заметил, а св...</td>\n      <td>прочел который день заметил своим духом навстр...</td>\n      <td>[прочесть, который, день, заметить, свой, дух,...</td>\n    </tr>\n    <tr>\n      <th>904</th>\n      <td>2022-04-05</td>\n      <td>KIDS</td>\n      <td>Не сиди солнце и коте говорили, все тут ничего...</td>\n      <td>сиди солнце коте говорили светит раскрасим пит...</td>\n      <td>[сиди, солнце, кот, говорить, светит, раскраси...</td>\n    </tr>\n  </tbody>\n</table>\n</div>"
     },
     "execution_count": 12,
     "metadata": {},
     "output_type": "execute_result"
    }
   ],
   "source": [
    "df_train.sample(5)"
   ],
   "metadata": {
    "collapsed": false
   }
  },
  {
   "cell_type": "code",
   "execution_count": 13,
   "outputs": [],
   "source": [
    "# df_train.to_csv(\"dataset/clean_csv/lemma_train_asr.csv\", index=False)\n",
    "# df_test.to_csv(\"dataset/clean_csv/lemma_test_asr.csv\", index=False)"
   ],
   "metadata": {
    "collapsed": false
   }
  },
  {
   "cell_type": "code",
   "execution_count": 41,
   "outputs": [
    {
     "name": "stderr",
     "output_type": "stream",
     "text": [
      "/home/xrenya/miniconda3/envs/dev/lib/python3.10/site-packages/numpy/core/fromnumeric.py:3432: RuntimeWarning: Mean of empty slice.\n",
      "  return _methods._mean(a, axis=axis, dtype=dtype,\n",
      "/home/xrenya/miniconda3/envs/dev/lib/python3.10/site-packages/numpy/core/_methods.py:190: RuntimeWarning: invalid value encountered in double_scalars\n",
      "  ret = ret.dtype.type(ret / rcount)\n"
     ]
    }
   ],
   "source": [
    "X_train_text = [get_average_fasttext(text) for text in df_train['lemma_asr'].to_list()]\n",
    "X_test_text = [get_average_fasttext(text) for text in df_test['lemma_asr'].to_list()]"
   ],
   "metadata": {
    "collapsed": false
   }
  },
  {
   "cell_type": "code",
   "execution_count": 42,
   "outputs": [],
   "source": [
    "train = np.array([mat if len(mat.shape) > 0 else np.zeros(100) for mat in X_train_text])\n",
    "test = np.array([mat if len(mat.shape) > 0 else np.zeros(100) for mat in X_test_text])"
   ],
   "metadata": {
    "collapsed": false
   }
  },
  {
   "cell_type": "code",
   "execution_count": 43,
   "outputs": [],
   "source": [
    "# np.save('dataset/description/train_asr.npy', train)\n",
    "# np.save('dataset/description/test_asr.npy', test)"
   ],
   "metadata": {
    "collapsed": false
   }
  },
  {
   "cell_type": "code",
   "execution_count": 18,
   "outputs": [],
   "source": [
    "log_reg = LogisticRegression(solver='newton-cg')"
   ],
   "metadata": {
    "collapsed": false
   }
  },
  {
   "cell_type": "code",
   "execution_count": 19,
   "outputs": [],
   "source": [
    "model = log_reg.fit(train, df_train[\"clipTarget\"])"
   ],
   "metadata": {
    "collapsed": false
   }
  },
  {
   "cell_type": "code",
   "execution_count": 21,
   "outputs": [
    {
     "name": "stdout",
     "output_type": "stream",
     "text": [
      "0.11045315174567663\n"
     ]
    }
   ],
   "source": [
    "# print(roc_auc_score(df_test[\"clipTarget\"].to_list(), model.predict_proba(test), multi_class='ovr'))\n",
    "print(f1_score(df_test[\"clipTarget\"].to_list(), model.predict(test), average='macro'))"
   ],
   "metadata": {
    "collapsed": false
   }
  },
  {
   "cell_type": "code",
   "execution_count": 7,
   "outputs": [],
   "source": [
    "filename = \"dataset/clean_csv/text.csv\"\n",
    "\n",
    "df = pd.read_csv(filename)"
   ],
   "metadata": {
    "collapsed": false
   }
  },
  {
   "cell_type": "code",
   "execution_count": 9,
   "outputs": [],
   "source": [
    "df = pd.read_csv(filename)\n",
    "df_train = df.iloc[:324160, :]\n",
    "df_train = df_train.reset_index(drop=True)\n",
    "\n",
    "\n",
    "df_test = df.iloc[324160:, :]\n",
    "df_test = df_test.reset_index(drop=True)\n",
    "del df"
   ],
   "metadata": {
    "collapsed": false
   }
  },
  {
   "cell_type": "code",
   "execution_count": 10,
   "outputs": [],
   "source": [
    "df_train[\"asr\"] = df_train[\"asr\"].apply(lambda row: row if isinstance(row, str) else \"\")\n",
    "df_train[\"description\"] = df_train[\"description\"].apply(lambda row: row if isinstance(row, str) else \"\")\n",
    "df_train[\"text\"] = df_train[\"asr\"] + df_train[\"description\"]"
   ],
   "metadata": {
    "collapsed": false
   }
  },
  {
   "cell_type": "code",
   "execution_count": 11,
   "outputs": [],
   "source": [
    "columns = [\"clipTarget\", \"text\"]"
   ],
   "metadata": {
    "collapsed": false
   }
  },
  {
   "cell_type": "code",
   "execution_count": 12,
   "outputs": [
    {
     "data": {
      "text/plain": "       clipTarget                                               text\n0         ANIMALS  🐶🐕🐩🐾 #ЦвергПинчер #МиниДоберман #ФедяПинчер #F...\n1           DANCE  🤩Подруга-ночь🌃-мне не до сна 🙅‍♀️💃👏 #подругано...\n2            FOOD  Всем, привет Я обожаю делать приятные сюрпризы...\n3         ANIMALS  Коротко о нашем коте Лемуре😁#farm #farmer #far...\n4         FITNESS  Если не можешь, значит, можешь🤍 #ironcros#gym#...\n...           ...                                                ...\n229077    CULTURE  #высотанавека #высота #верёвки #жумар #жумарь ...\n229078       KIDS  Радость в мелочах 🍁 #счастьеесть #счастье #доч...\n229079      SPORT  Танец сегодня – это способ самовыражения. Кто-...\n229080     BEAUTY  🙀У нас был всего час времени 🧚🏻‍♀️ , ты просто...\n229081    ANIMALS  Ринг WCF взрослых 🏆🏆🏆Ru*O’Kler Nicolas был удо...\n\n[229082 rows x 2 columns]",
      "text/html": "<div>\n<style scoped>\n    .dataframe tbody tr th:only-of-type {\n        vertical-align: middle;\n    }\n\n    .dataframe tbody tr th {\n        vertical-align: top;\n    }\n\n    .dataframe thead th {\n        text-align: right;\n    }\n</style>\n<table border=\"1\" class=\"dataframe\">\n  <thead>\n    <tr style=\"text-align: right;\">\n      <th></th>\n      <th>clipTarget</th>\n      <th>text</th>\n    </tr>\n  </thead>\n  <tbody>\n    <tr>\n      <th>0</th>\n      <td>ANIMALS</td>\n      <td>🐶🐕🐩🐾 #ЦвергПинчер #МиниДоберман #ФедяПинчер #F...</td>\n    </tr>\n    <tr>\n      <th>1</th>\n      <td>DANCE</td>\n      <td>🤩Подруга-ночь🌃-мне не до сна 🙅‍♀️💃👏 #подругано...</td>\n    </tr>\n    <tr>\n      <th>2</th>\n      <td>FOOD</td>\n      <td>Всем, привет Я обожаю делать приятные сюрпризы...</td>\n    </tr>\n    <tr>\n      <th>3</th>\n      <td>ANIMALS</td>\n      <td>Коротко о нашем коте Лемуре😁#farm #farmer #far...</td>\n    </tr>\n    <tr>\n      <th>4</th>\n      <td>FITNESS</td>\n      <td>Если не можешь, значит, можешь🤍 #ironcros#gym#...</td>\n    </tr>\n    <tr>\n      <th>...</th>\n      <td>...</td>\n      <td>...</td>\n    </tr>\n    <tr>\n      <th>229077</th>\n      <td>CULTURE</td>\n      <td>#высотанавека #высота #верёвки #жумар #жумарь ...</td>\n    </tr>\n    <tr>\n      <th>229078</th>\n      <td>KIDS</td>\n      <td>Радость в мелочах 🍁 #счастьеесть #счастье #доч...</td>\n    </tr>\n    <tr>\n      <th>229079</th>\n      <td>SPORT</td>\n      <td>Танец сегодня – это способ самовыражения. Кто-...</td>\n    </tr>\n    <tr>\n      <th>229080</th>\n      <td>BEAUTY</td>\n      <td>🙀У нас был всего час времени 🧚🏻‍♀️ , ты просто...</td>\n    </tr>\n    <tr>\n      <th>229081</th>\n      <td>ANIMALS</td>\n      <td>Ринг WCF взрослых 🏆🏆🏆Ru*O’Kler Nicolas был удо...</td>\n    </tr>\n  </tbody>\n</table>\n<p>229082 rows × 2 columns</p>\n</div>"
     },
     "execution_count": 12,
     "metadata": {},
     "output_type": "execute_result"
    }
   ],
   "source": [
    "df_train = df_train[df_train[\"text\"] != \"\"].reset_index(drop=True)\n",
    "df_train = df_train[columns].reset_index(drop=True)\n",
    "df_train"
   ],
   "metadata": {
    "collapsed": false
   }
  },
  {
   "cell_type": "code",
   "execution_count": 13,
   "outputs": [
    {
     "data": {
      "text/plain": "       clipTarget                                               text  \\\n0         ANIMALS  🐶🐕🐩🐾 #ЦвергПинчер #МиниДоберман #ФедяПинчер #F...   \n1           DANCE  🤩Подруга-ночь🌃-мне не до сна 🙅‍♀️💃👏 #подругано...   \n2            FOOD  Всем, привет Я обожаю делать приятные сюрпризы...   \n3         ANIMALS  Коротко о нашем коте Лемуре😁#farm #farmer #far...   \n4         FITNESS  Если не можешь, значит, можешь🤍 #ironcros#gym#...   \n...           ...                                                ...   \n229077    CULTURE  #высотанавека #высота #верёвки #жумар #жумарь ...   \n229078       KIDS  Радость в мелочах 🍁 #счастьеесть #счастье #доч...   \n229079      SPORT  Танец сегодня – это способ самовыражения. Кто-...   \n229080     BEAUTY  🙀У нас был всего час времени 🧚🏻‍♀️ , ты просто...   \n229081    ANIMALS  Ринг WCF взрослых 🏆🏆🏆Ru*O’Kler Nicolas был удо...   \n\n                                               clean_text  \n0       🐶🐕🐩🐾 цвергпинчер минидоберман федяпинчер fedya...  \n1       🤩подруганочь🌃мне сна 🙅‍♀️💃👏 подруганочь девушк...  \n2       всем привет обожаю делать приятные сюрпризы лю...  \n3       коротко нашем коте лемуре😁 farm farmer farmani...  \n4       можешь значит можешь🤍 ironcros gym fitnes top ...  \n...                                                   ...  \n229077  высотанавека высота верёвки жумар жумарь сезон...  \n229078  радость мелочах 🍁 счастьеесть счастье доченька...  \n229079  танец сегодня – это способ самовыражения ктото...  \n229080  🙀у час времени 🧚🏻‍♀️  просто феяволшебница ❤️ ...  \n229081  ринг wcf взрослых 🏆🏆🏆ruo’kler nicolas удостоен...  \n\n[229082 rows x 3 columns]",
      "text/html": "<div>\n<style scoped>\n    .dataframe tbody tr th:only-of-type {\n        vertical-align: middle;\n    }\n\n    .dataframe tbody tr th {\n        vertical-align: top;\n    }\n\n    .dataframe thead th {\n        text-align: right;\n    }\n</style>\n<table border=\"1\" class=\"dataframe\">\n  <thead>\n    <tr style=\"text-align: right;\">\n      <th></th>\n      <th>clipTarget</th>\n      <th>text</th>\n      <th>clean_text</th>\n    </tr>\n  </thead>\n  <tbody>\n    <tr>\n      <th>0</th>\n      <td>ANIMALS</td>\n      <td>🐶🐕🐩🐾 #ЦвергПинчер #МиниДоберман #ФедяПинчер #F...</td>\n      <td>🐶🐕🐩🐾 цвергпинчер минидоберман федяпинчер fedya...</td>\n    </tr>\n    <tr>\n      <th>1</th>\n      <td>DANCE</td>\n      <td>🤩Подруга-ночь🌃-мне не до сна 🙅‍♀️💃👏 #подругано...</td>\n      <td>🤩подруганочь🌃мне сна 🙅‍♀️💃👏 подруганочь девушк...</td>\n    </tr>\n    <tr>\n      <th>2</th>\n      <td>FOOD</td>\n      <td>Всем, привет Я обожаю делать приятные сюрпризы...</td>\n      <td>всем привет обожаю делать приятные сюрпризы лю...</td>\n    </tr>\n    <tr>\n      <th>3</th>\n      <td>ANIMALS</td>\n      <td>Коротко о нашем коте Лемуре😁#farm #farmer #far...</td>\n      <td>коротко нашем коте лемуре😁 farm farmer farmani...</td>\n    </tr>\n    <tr>\n      <th>4</th>\n      <td>FITNESS</td>\n      <td>Если не можешь, значит, можешь🤍 #ironcros#gym#...</td>\n      <td>можешь значит можешь🤍 ironcros gym fitnes top ...</td>\n    </tr>\n    <tr>\n      <th>...</th>\n      <td>...</td>\n      <td>...</td>\n      <td>...</td>\n    </tr>\n    <tr>\n      <th>229077</th>\n      <td>CULTURE</td>\n      <td>#высотанавека #высота #верёвки #жумар #жумарь ...</td>\n      <td>высотанавека высота верёвки жумар жумарь сезон...</td>\n    </tr>\n    <tr>\n      <th>229078</th>\n      <td>KIDS</td>\n      <td>Радость в мелочах 🍁 #счастьеесть #счастье #доч...</td>\n      <td>радость мелочах 🍁 счастьеесть счастье доченька...</td>\n    </tr>\n    <tr>\n      <th>229079</th>\n      <td>SPORT</td>\n      <td>Танец сегодня – это способ самовыражения. Кто-...</td>\n      <td>танец сегодня – это способ самовыражения ктото...</td>\n    </tr>\n    <tr>\n      <th>229080</th>\n      <td>BEAUTY</td>\n      <td>🙀У нас был всего час времени 🧚🏻‍♀️ , ты просто...</td>\n      <td>🙀у час времени 🧚🏻‍♀️  просто феяволшебница ❤️ ...</td>\n    </tr>\n    <tr>\n      <th>229081</th>\n      <td>ANIMALS</td>\n      <td>Ринг WCF взрослых 🏆🏆🏆Ru*O’Kler Nicolas был удо...</td>\n      <td>ринг wcf взрослых 🏆🏆🏆ruo’kler nicolas удостоен...</td>\n    </tr>\n  </tbody>\n</table>\n<p>229082 rows × 3 columns</p>\n</div>"
     },
     "execution_count": 13,
     "metadata": {},
     "output_type": "execute_result"
    }
   ],
   "source": [
    "df_train['clean_text'] = df_train[\"text\"].apply(lambda row: text_preprocessing(row))\n",
    "df_train"
   ],
   "metadata": {
    "collapsed": false
   }
  },
  {
   "cell_type": "code",
   "execution_count": 14,
   "outputs": [],
   "source": [
    "df_test[\"asr\"] = df_test[\"asr\"].apply(lambda row: row if isinstance(row, str) else \"\")\n",
    "df_test[\"description\"] = df_test[\"description\"].apply(lambda row: row if isinstance(row, str) else \"\")\n",
    "df_test[\"text\"] = df_test[\"asr\"] + df_test[\"description\"]"
   ],
   "metadata": {
    "collapsed": false
   }
  },
  {
   "cell_type": "code",
   "execution_count": 15,
   "outputs": [
    {
     "data": {
      "text/plain": "      clipTarget                                               text\n0          DANCE                              #ЯТвойКосмос #Гагарин\n1         FAMILY                Первый раз на море 😍счастье наше❤️😘\n2        FITNESS  Открытые занятия в усадьбе Кривякино каждое во...\n3        ANIMALS  После умственного тренинга можно и на тарзанке...\n4         FAMILY  июня года в . , в очень жаркий петербургский д...\n...          ...                                                ...\n38530      HUMOR  Вчера снимали новый выпуск Шоперов, в пятницу ...\n38531    FITNESS  Если было полезно ставь ❤️ #тренировкидома #зд...\n38532    FITNESS             Лицом по касательной к стене прошел😂✈️\n38533       KIDS                                                ❤️😋\n38534      SPORT                                     Кто повторит?😎\n\n[38535 rows x 2 columns]",
      "text/html": "<div>\n<style scoped>\n    .dataframe tbody tr th:only-of-type {\n        vertical-align: middle;\n    }\n\n    .dataframe tbody tr th {\n        vertical-align: top;\n    }\n\n    .dataframe thead th {\n        text-align: right;\n    }\n</style>\n<table border=\"1\" class=\"dataframe\">\n  <thead>\n    <tr style=\"text-align: right;\">\n      <th></th>\n      <th>clipTarget</th>\n      <th>text</th>\n    </tr>\n  </thead>\n  <tbody>\n    <tr>\n      <th>0</th>\n      <td>DANCE</td>\n      <td>#ЯТвойКосмос #Гагарин</td>\n    </tr>\n    <tr>\n      <th>1</th>\n      <td>FAMILY</td>\n      <td>Первый раз на море 😍счастье наше❤️😘</td>\n    </tr>\n    <tr>\n      <th>2</th>\n      <td>FITNESS</td>\n      <td>Открытые занятия в усадьбе Кривякино каждое во...</td>\n    </tr>\n    <tr>\n      <th>3</th>\n      <td>ANIMALS</td>\n      <td>После умственного тренинга можно и на тарзанке...</td>\n    </tr>\n    <tr>\n      <th>4</th>\n      <td>FAMILY</td>\n      <td>июня года в . , в очень жаркий петербургский д...</td>\n    </tr>\n    <tr>\n      <th>...</th>\n      <td>...</td>\n      <td>...</td>\n    </tr>\n    <tr>\n      <th>38530</th>\n      <td>HUMOR</td>\n      <td>Вчера снимали новый выпуск Шоперов, в пятницу ...</td>\n    </tr>\n    <tr>\n      <th>38531</th>\n      <td>FITNESS</td>\n      <td>Если было полезно ставь ❤️ #тренировкидома #зд...</td>\n    </tr>\n    <tr>\n      <th>38532</th>\n      <td>FITNESS</td>\n      <td>Лицом по касательной к стене прошел😂✈️</td>\n    </tr>\n    <tr>\n      <th>38533</th>\n      <td>KIDS</td>\n      <td>❤️😋</td>\n    </tr>\n    <tr>\n      <th>38534</th>\n      <td>SPORT</td>\n      <td>Кто повторит?😎</td>\n    </tr>\n  </tbody>\n</table>\n<p>38535 rows × 2 columns</p>\n</div>"
     },
     "execution_count": 15,
     "metadata": {},
     "output_type": "execute_result"
    }
   ],
   "source": [
    "df_test = df_test[df_test[\"text\"] != \"\"].reset_index(drop=True)\n",
    "df_test = df_test[columns].reset_index(drop=True)\n",
    "df_test"
   ],
   "metadata": {
    "collapsed": false
   }
  },
  {
   "cell_type": "code",
   "execution_count": 17,
   "outputs": [
    {
     "data": {
      "text/plain": "      clipTarget                                               text  \\\n0          DANCE                              #ЯТвойКосмос #Гагарин   \n1         FAMILY                Первый раз на море 😍счастье наше❤️😘   \n2        FITNESS  Открытые занятия в усадьбе Кривякино каждое во...   \n3        ANIMALS  После умственного тренинга можно и на тарзанке...   \n4         FAMILY  июня года в . , в очень жаркий петербургский д...   \n...          ...                                                ...   \n38530      HUMOR  Вчера снимали новый выпуск Шоперов, в пятницу ...   \n38531    FITNESS  Если было полезно ставь ❤️ #тренировкидома #зд...   \n38532    FITNESS             Лицом по касательной к стене прошел😂✈️   \n38533       KIDS                                                ❤️😋   \n38534      SPORT                                     Кто повторит?😎   \n\n                                              clean_text  \n0                                    ятвойкосмос гагарин  \n1                           первый море 😍счастье наше❤️😘  \n2      открытые занятия усадьбе кривякино каждое воск...  \n3      умственного тренинга тарзанке поработать 😈 аку...  \n4      июня года   очень жаркий петербургский день св...  \n...                                                  ...  \n38530  вчера снимали новый выпуск шоперов пятницу сно...  \n38531  полезно ставь ❤️ тренировкидома здороваяспина ...  \n38532                  лицом касательной стене прошел😂✈️  \n38533                                                ❤️😋  \n38534                                          повторит😎  \n\n[38535 rows x 3 columns]",
      "text/html": "<div>\n<style scoped>\n    .dataframe tbody tr th:only-of-type {\n        vertical-align: middle;\n    }\n\n    .dataframe tbody tr th {\n        vertical-align: top;\n    }\n\n    .dataframe thead th {\n        text-align: right;\n    }\n</style>\n<table border=\"1\" class=\"dataframe\">\n  <thead>\n    <tr style=\"text-align: right;\">\n      <th></th>\n      <th>clipTarget</th>\n      <th>text</th>\n      <th>clean_text</th>\n    </tr>\n  </thead>\n  <tbody>\n    <tr>\n      <th>0</th>\n      <td>DANCE</td>\n      <td>#ЯТвойКосмос #Гагарин</td>\n      <td>ятвойкосмос гагарин</td>\n    </tr>\n    <tr>\n      <th>1</th>\n      <td>FAMILY</td>\n      <td>Первый раз на море 😍счастье наше❤️😘</td>\n      <td>первый море 😍счастье наше❤️😘</td>\n    </tr>\n    <tr>\n      <th>2</th>\n      <td>FITNESS</td>\n      <td>Открытые занятия в усадьбе Кривякино каждое во...</td>\n      <td>открытые занятия усадьбе кривякино каждое воск...</td>\n    </tr>\n    <tr>\n      <th>3</th>\n      <td>ANIMALS</td>\n      <td>После умственного тренинга можно и на тарзанке...</td>\n      <td>умственного тренинга тарзанке поработать 😈 аку...</td>\n    </tr>\n    <tr>\n      <th>4</th>\n      <td>FAMILY</td>\n      <td>июня года в . , в очень жаркий петербургский д...</td>\n      <td>июня года   очень жаркий петербургский день св...</td>\n    </tr>\n    <tr>\n      <th>...</th>\n      <td>...</td>\n      <td>...</td>\n      <td>...</td>\n    </tr>\n    <tr>\n      <th>38530</th>\n      <td>HUMOR</td>\n      <td>Вчера снимали новый выпуск Шоперов, в пятницу ...</td>\n      <td>вчера снимали новый выпуск шоперов пятницу сно...</td>\n    </tr>\n    <tr>\n      <th>38531</th>\n      <td>FITNESS</td>\n      <td>Если было полезно ставь ❤️ #тренировкидома #зд...</td>\n      <td>полезно ставь ❤️ тренировкидома здороваяспина ...</td>\n    </tr>\n    <tr>\n      <th>38532</th>\n      <td>FITNESS</td>\n      <td>Лицом по касательной к стене прошел😂✈️</td>\n      <td>лицом касательной стене прошел😂✈️</td>\n    </tr>\n    <tr>\n      <th>38533</th>\n      <td>KIDS</td>\n      <td>❤️😋</td>\n      <td>❤️😋</td>\n    </tr>\n    <tr>\n      <th>38534</th>\n      <td>SPORT</td>\n      <td>Кто повторит?😎</td>\n      <td>повторит😎</td>\n    </tr>\n  </tbody>\n</table>\n<p>38535 rows × 3 columns</p>\n</div>"
     },
     "execution_count": 17,
     "metadata": {},
     "output_type": "execute_result"
    }
   ],
   "source": [
    "df_test['clean_text'] = df_test[\"text\"].apply(lambda row: text_preprocessing(row))\n",
    "df_test"
   ],
   "metadata": {
    "collapsed": false
   }
  },
  {
   "cell_type": "code",
   "execution_count": 18,
   "outputs": [],
   "source": [
    "df_train['lemma_asr_desc'] = df_train[\"clean_text\"].apply(lambda row: lemmatize(row))\n",
    "df_test['lemma_asr_desc'] = df_test[\"clean_text\"].apply(lambda row: lemmatize(row))"
   ],
   "metadata": {
    "collapsed": false
   }
  },
  {
   "cell_type": "code",
   "execution_count": 20,
   "outputs": [
    {
     "data": {
      "text/plain": "       clipTarget                                               text  \\\n74558     FITNESS                                       I LIKE IT 😏👌   \n94763      MOVIES                                        Идрис Альба   \n25765       SPORT  #insta #загороднаяжизнь #северныемальдивы #поп...   \n185487     BEAUTY                              Пухлые губы за минут😍   \n135983      HUMOR  А что останавливало/ останавливает вас от онла...   \n\n                                               clean_text  \\\n74558                                        i like it 😏👌   \n94763                                         идрис альба   \n25765   insta загороднаяжизнь северныемальдивы попробу...   \n185487                                 пухлые губы минут😍   \n135983  останавливало останавливает онлайна онлайнпеда...   \n\n                                           lemma_asr_desc  \n74558                                   [i, like, it, 😏👌]  \n94763                                      [идрис, альба]  \n25765   [insta, загороднаяжизнь, северныемальдивы, поп...  \n185487                             [пухлый, губа, минут😍]  \n135983  [останавливать, останавливать, онлайн, онлайнп...  ",
      "text/html": "<div>\n<style scoped>\n    .dataframe tbody tr th:only-of-type {\n        vertical-align: middle;\n    }\n\n    .dataframe tbody tr th {\n        vertical-align: top;\n    }\n\n    .dataframe thead th {\n        text-align: right;\n    }\n</style>\n<table border=\"1\" class=\"dataframe\">\n  <thead>\n    <tr style=\"text-align: right;\">\n      <th></th>\n      <th>clipTarget</th>\n      <th>text</th>\n      <th>clean_text</th>\n      <th>lemma_asr_desc</th>\n    </tr>\n  </thead>\n  <tbody>\n    <tr>\n      <th>74558</th>\n      <td>FITNESS</td>\n      <td>I LIKE IT 😏👌</td>\n      <td>i like it 😏👌</td>\n      <td>[i, like, it, 😏👌]</td>\n    </tr>\n    <tr>\n      <th>94763</th>\n      <td>MOVIES</td>\n      <td>Идрис Альба</td>\n      <td>идрис альба</td>\n      <td>[идрис, альба]</td>\n    </tr>\n    <tr>\n      <th>25765</th>\n      <td>SPORT</td>\n      <td>#insta #загороднаяжизнь #северныемальдивы #поп...</td>\n      <td>insta загороднаяжизнь северныемальдивы попробу...</td>\n      <td>[insta, загороднаяжизнь, северныемальдивы, поп...</td>\n    </tr>\n    <tr>\n      <th>185487</th>\n      <td>BEAUTY</td>\n      <td>Пухлые губы за минут😍</td>\n      <td>пухлые губы минут😍</td>\n      <td>[пухлый, губа, минут😍]</td>\n    </tr>\n    <tr>\n      <th>135983</th>\n      <td>HUMOR</td>\n      <td>А что останавливало/ останавливает вас от онла...</td>\n      <td>останавливало останавливает онлайна онлайнпеда...</td>\n      <td>[останавливать, останавливать, онлайн, онлайнп...</td>\n    </tr>\n  </tbody>\n</table>\n</div>"
     },
     "execution_count": 20,
     "metadata": {},
     "output_type": "execute_result"
    }
   ],
   "source": [
    "df_train.sample(5)"
   ],
   "metadata": {
    "collapsed": false
   }
  },
  {
   "cell_type": "code",
   "execution_count": 33,
   "outputs": [],
   "source": [
    "# df_train.to_csv(\"dataset/clean_csv/lemma_train_asr_desc.csv\", index=False)\n",
    "# df_test.to_csv(\"dataset/clean_csv/lemma_test_asr_desc.csv\", index=False)"
   ],
   "metadata": {
    "collapsed": false
   }
  },
  {
   "cell_type": "code",
   "execution_count": 21,
   "outputs": [
    {
     "name": "stderr",
     "output_type": "stream",
     "text": [
      "/home/xrenya/miniconda3/envs/dev/lib/python3.10/site-packages/numpy/core/fromnumeric.py:3432: RuntimeWarning: Mean of empty slice.\n",
      "  return _methods._mean(a, axis=axis, dtype=dtype,\n",
      "/home/xrenya/miniconda3/envs/dev/lib/python3.10/site-packages/numpy/core/_methods.py:190: RuntimeWarning: invalid value encountered in double_scalars\n",
      "  ret = ret.dtype.type(ret / rcount)\n"
     ]
    }
   ],
   "source": [
    "X_train_text = [get_average_fasttext(text) for text in df_train['lemma_asr_desc'].to_list()]\n",
    "X_test_text = [get_average_fasttext(text) for text in df_test['lemma_asr_desc'].to_list()]"
   ],
   "metadata": {
    "collapsed": false
   }
  },
  {
   "cell_type": "code",
   "execution_count": 24,
   "outputs": [],
   "source": [
    "train = np.array([mat if len(mat.shape) > 0 else np.zeros(100) for mat in X_train_text])\n",
    "test = np.array([mat if len(mat.shape) > 0 else np.zeros(100) for mat in X_test_text])"
   ],
   "metadata": {
    "collapsed": false
   }
  },
  {
   "cell_type": "code",
   "execution_count": 29,
   "outputs": [],
   "source": [
    "# np.save('dataset/description/train_asr_desc.npy', train)\n",
    "# np.save('dataset/description/test_asr_desc.npy', test)"
   ],
   "metadata": {
    "collapsed": false
   }
  },
  {
   "cell_type": "code",
   "execution_count": 30,
   "outputs": [],
   "source": [
    "log_reg = LogisticRegression(solver='newton-cg')"
   ],
   "metadata": {
    "collapsed": false
   }
  },
  {
   "cell_type": "code",
   "execution_count": 31,
   "outputs": [],
   "source": [
    "model = log_reg.fit(train, df_train[\"clipTarget\"])"
   ],
   "metadata": {
    "collapsed": false
   }
  },
  {
   "cell_type": "code",
   "execution_count": 32,
   "outputs": [
    {
     "name": "stdout",
     "output_type": "stream",
     "text": [
      "0.823631260029767\n",
      "0.25200908692824897\n"
     ]
    }
   ],
   "source": [
    "print(roc_auc_score(df_test[\"clipTarget\"].to_list(), model.predict_proba(test), multi_class='ovr'))\n",
    "print(f1_score(df_test[\"clipTarget\"].to_list(), model.predict(test), average='macro'))"
   ],
   "metadata": {
    "collapsed": false
   }
  },
  {
   "cell_type": "code",
   "execution_count": 2,
   "outputs": [],
   "source": [
    "df = pd.read_csv(\"results/f1_scores.csv\")"
   ],
   "metadata": {
    "collapsed": false
   }
  },
  {
   "cell_type": "code",
   "execution_count": 8,
   "outputs": [
    {
     "data": {
      "text/plain": "(array([0, 1, 2, 3, 4, 5, 6, 7]),\n [Text(0, 0, 'BoW/LR'),\n  Text(1, 0, 'Catboost'),\n  Text(2, 0, 'MLP'),\n  Text(3, 0, 'CNN1D'),\n  Text(4, 0, 'Attention'),\n  Text(5, 0, 'Tf-Idf/LR'),\n  Text(6, 0, 'fasttext (average)'),\n  Text(7, 0, 'Catboost/fasttext')])"
     },
     "execution_count": 8,
     "metadata": {},
     "output_type": "execute_result"
    },
    {
     "data": {
      "text/plain": "<Figure size 1000x1000 with 1 Axes>",
      "image/png": "[encoded data removed]"
     },
     "metadata": {},
     "output_type": "display_data"
    }
   ],
   "source": [
    "plt.figure(figsize=(10, 10))\n",
    "sns.barplot(data=df, x=\"Models\", y=\"F1-score\", hue=\"Data\")\n",
    "plt.xticks(rotation=90)"
   ],
   "metadata": {
    "collapsed": false
   }
  },
  {
   "cell_type": "code",
   "execution_count": null,
   "outputs": [],
   "source": [],
   "metadata": {
    "collapsed": false
   }
  }
 ],
 "metadata": {
  "kernelspec": {
   "display_name": "Python 3",
   "language": "python",
   "name": "python3"
  },
  "language_info": {
   "codemirror_mode": {
    "name": "ipython",
    "version": 2
   },
   "file_extension": ".py",
   "mimetype": "text/x-python",
   "name": "python",
   "nbconvert_exporter": "python",
   "pygments_lexer": "ipython2",
   "version": "2.7.6"
  }
 },
 "nbformat": 4,
 "nbformat_minor": 0
}
